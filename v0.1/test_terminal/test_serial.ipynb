{
 "cells": [
  {
   "cell_type": "markdown",
   "id": "f6310669-447f-4443-be09-640170afeba4",
   "metadata": {},
   "source": [
    "        stty -F /dev/ttyACM* 57600 ixon\n",
    "        sleep 4\n",
    "        stty cols 53 rows 20\n",
    "        price | tee /dev/ttyACM*"
   ]
  },
  {
   "cell_type": "markdown",
   "id": "b1c9c7a9-970d-424a-a8a1-63c4471d7433",
   "metadata": {},
   "source": [
    "# ANSI serial terminal test"
   ]
  },
  {
   "cell_type": "code",
   "execution_count": 1,
   "id": "2b4ba27f-12d8-4b4f-956b-b0edf933623a",
   "metadata": {},
   "outputs": [],
   "source": [
    "%matplotlib inline\n",
    "%load_ext autoreload\n",
    "%autoreload 2"
   ]
  },
  {
   "cell_type": "code",
   "execution_count": 19,
   "id": "d412b661-0bec-4aa2-9c6a-900ceca905a0",
   "metadata": {},
   "outputs": [],
   "source": [
    "BAUDRATE = 57600\n",
    "#BAUDRATE = 38400\n",
    "CW,CH = 6,12\n",
    "TERMROWS = 20\n",
    "TERMCOLS = 53\n",
    "\n",
    "pauseaftershow = 5 #seconds\n",
    "\n",
    "CONTROL            = '\\x1b'\n",
    "CSI                = CONTROL+'['\n",
    "clearafter         = CSI + '0J'\n",
    "clearbefore        = CSI + '1J'\n",
    "clearscreen        = CSI + '2J'\n",
    "clearscreen2       = CSI + '3J'\n",
    "clearright         = CSI + '0K'\n",
    "clearleft          = CSI + '1K'\n",
    "clearline          = CSI + '2K'\n",
    "underline          = CSI + '3m'\n",
    "underline          = CSI + '4m'\n",
    "double_underline_1 = CSI + '21m'\n",
    "double_underline_2 = CSI + '61m'\n",
    "overline_1         = CSI + '53m'\n",
    "overline_2         = CSI + '62m'\n",
    "double_overline    = CSI + '63m'\n",
    "strike             = CSI + '9m'\n",
    "verybold           = CSI + '20m'\n",
    "vtab               = '\\x0b'\n",
    "upstart            = CSI+'F'\n",
    "downstart          = CSI+'E'\n",
    "savecursor         = '\\x1b7'\n",
    "restorecursor      = '\\x1b8'\n",
    "showcursor         = CSI+\"?25h\"\n",
    "hidecursor         = CSI+\"?25l\"\n",
    "reset              = '\\x1bc'\n",
    "getcursor          = CSI+'6n'\n",
    "\n",
    "def scroll(n):\n",
    "    return CSI+'%d'%abs(n)+('T' if n<0 else 'S')\n",
    "\n",
    "def goto(r,c):\n",
    "    return '\\x1b[%d;%dH'%(r+1,c+1)\n",
    "\n",
    "up    = lambda n: '\\x1b[%dA'%n\n",
    "down  = lambda n: '\\x1b[%dB'%n\n",
    "left  = lambda n: '\\x1b[%dD'%n\n",
    "right = lambda n: '\\x1b[%dC'%n\n",
    "\n",
    "def coljump(c):\n",
    "    return CSI+'%d'%(c+1)+'G'"
   ]
  },
  {
   "cell_type": "code",
   "execution_count": 20,
   "id": "ce7769b9-e5f0-4b0c-8b2d-9717a62c1889",
   "metadata": {},
   "outputs": [
    {
     "name": "stdout",
     "output_type": "stream",
     "text": [
      "Available ports:\n",
      "  ttyACM0\n",
      "Using port /dev/ttyACM0\n"
     ]
    }
   ],
   "source": [
    "import os,serial,time,sty\n",
    "from sty import fg, bg\n",
    "\n",
    "ports = [f for f in os.listdir('/dev/') if 'acm' in f.lower() or 'ttyusb' in f.lower()]\n",
    "print('Available ports:\\n  '+'\\n  '.join(ports))\n",
    "port = '/dev/'+ports[0]\n",
    "print('Using port',port)\n",
    "arduino = serial.Serial(port=port, \n",
    "                        baudrate=BAUDRATE, \n",
    "                        xonxoff=False,  \n",
    "                        timeout=.1) \n",
    "                        #write_timeout=5)\n",
    "\n",
    "import os\n",
    "#os.system('stty -F %s %s ixon cr3 ff1 nl1 bs1'%(port,BAUDRATE))\n",
    "time.sleep(3)\n",
    "\n",
    "def print2(s='',delay=None):\n",
    "    if delay == None: \n",
    "        delay=0\n",
    "    throttle = delay*(len(s)/TERMCOLS+s.count('\\n'))\n",
    "    delay = throttle / len(s)\n",
    "    if delay>0: print(1/delay*8)\n",
    "    for b in s:\n",
    "        arduino.write(b.encode('utf-8'))\n",
    "        arduino.flush()\n",
    "        time.sleep(delay)\n",
    "        \n",
    "def print_arduino(s):\n",
    "    arduino.write(s.encode('utf-8'))\n",
    "\n",
    "def println2(s='',delay=None):\n",
    "    print2(s+'\\n',delay=delay)\n"
   ]
  },
  {
   "cell_type": "code",
   "execution_count": 22,
   "id": "19bf4eb7-1291-4a38-a080-f72e80a140dc",
   "metadata": {},
   "outputs": [],
   "source": [
    "\n",
    "print2(sty.rs.all + clearscreen)\n",
    "print2(goto(6,55//2-8)+fg(255,100,0)+'◖'+sty.ef.inverse+'Hello world!'+sty.rs.inverse+'◗')\n",
    "print2(goto(8,55//2-12)+fg(255,100,0)+'◖'+sty.ef.inverse+'This is an Arduino TTY'+sty.rs.inverse+'◗')\n",
    "print2(goto(10,0)+'Its running at a baud rate of %d, and expects utf-8 encoded text. ANSI styling commands are supported. '%BAUDRATE)\n",
    "time.sleep(pauseaftershow)"
   ]
  },
  {
   "cell_type": "markdown",
   "id": "e7aa6357-a9fd-48c0-ba0c-dd1792f4fef6",
   "metadata": {},
   "source": [
    "# Positioning, clearing, scrolling"
   ]
  },
  {
   "cell_type": "code",
   "execution_count": 23,
   "id": "57340abb-cef3-4df9-a634-32f28897107b",
   "metadata": {},
   "outputs": [],
   "source": [
    "ANIMATION_DELAY = 0.35\n",
    "\n",
    "print2(sty.rs.all + clearscreen)\n",
    "\n",
    "# Show/hide the cursor\n",
    "println2(showcursor+\"[?25h shows the cursor\")\n",
    "time.sleep(ANIMATION_DELAY)\n",
    "\n",
    "println2(hidecursor+\"[?25l hides it\")\n",
    "time.sleep(ANIMATION_DELAY)\n",
    "\n",
    "println2(CSI+\"?25hlet's show it for now\")\n",
    "time.sleep(ANIMATION_DELAY)\n",
    "\n",
    "print2(bg(7) + clearscreen + 'clear screen ]2J gray')\n",
    "time.sleep(ANIMATION_DELAY)\n",
    "\n",
    "print2(bg.green + clearscreen2 + 'clear screen ]3J green')\n",
    "time.sleep(ANIMATION_DELAY)\n",
    "\n",
    "print2(goto(TERMROWS//2-1,TERMCOLS//2))\n",
    "print2(bg.red  + clearbefore + '\\r clear before ]1J red')\n",
    "time.sleep(ANIMATION_DELAY)\n",
    "\n",
    "print2(goto(TERMROWS//2-1,TERMCOLS//2))\n",
    "print2(bg(5)+clearright+'     clear right ]0K mauve')\n",
    "time.sleep(ANIMATION_DELAY)\n",
    "\n",
    "print2(goto(TERMROWS//2,TERMCOLS//2))\n",
    "print2(bg.blue + clearafter + '     clear after ]0J blue')\n",
    "time.sleep(ANIMATION_DELAY)\n",
    "\n",
    "print2(goto(TERMROWS//2,TERMCOLS//2))\n",
    "print2(bg(6)+clearleft+'\\r clear left   ]1K cyan')\n",
    "time.sleep(ANIMATION_DELAY)\n",
    "\n",
    "print2(bg(3))\n",
    "print2(scroll(2)  + goto(0,0) + 'Scrolled up   2 [2S brown')\n",
    "time.sleep(ANIMATION_DELAY)\n",
    "\n",
    "print2(bg(2))\n",
    "print2(scroll(-1) + goto(TERMROWS-2,0) + 'Scrolled down 1 [1T green')\n",
    "time.sleep(ANIMATION_DELAY)\n",
    "\n",
    "time.sleep(2)"
   ]
  },
  {
   "cell_type": "markdown",
   "id": "5546efc5-325a-41b0-b499-600121821119",
   "metadata": {},
   "source": [
    "# Colors"
   ]
  },
  {
   "cell_type": "code",
   "execution_count": 24,
   "id": "d89c830c-d9b0-409a-96b7-8608e2100771",
   "metadata": {
    "tags": []
   },
   "outputs": [],
   "source": [
    "offset = 1\n",
    "s = sty.rs.all+clearscreen\n",
    "s += goto(0,offset) + '16-color pallet:'\n",
    "s += goto(1,offset)\n",
    "for i in range(16):\n",
    "    s += bg(i)+'  '\n",
    "s += goto(2,offset) + bg(0) + '6x6x6 color cube:'\n",
    "for r in range(6):\n",
    "    s += goto(r+3,offset)\n",
    "    for g in range(6):\n",
    "        for b in range(6):\n",
    "            s += bg(b+g*6+r*36+16)+' '\n",
    "        s += bg(0)+' '\n",
    "s += goto(9,offset)+\"Grays (can\\'t render all with 8-bit RRRBBGGG color)\"\n",
    "s += goto(10,offset)\n",
    "for q in range(24):\n",
    "    s+=bg(q+232)+' '\n",
    "s += goto(11,offset)+sty.rs.all\n",
    "s += '[*;2;R;G;Bm color codes\\n '\n",
    "for g in range(8):\n",
    "    for r in range(8):\n",
    "        for b in range(4):\n",
    "            s += bg(round(r*255/7),round(g*255/7),round(b*255/3))+' '\n",
    "    s += goto(13+g,offset)\n",
    "xoffset = 53-8*2-1\n",
    "s += goto(10,xoffset+3)+sty.rs.all+'Colors 0-7'\n",
    "s += goto(11,xoffset)\n",
    "s += 'Fore/background'\n",
    "for j in range(8):\n",
    "    s += goto(12+j,xoffset)\n",
    "    s += bg(j)\n",
    "    for i in range(8):\n",
    "        s += fg(i+8)\n",
    "        s += '%d%d'%(i,j)\n",
    "print2(s,delay=0);\n",
    "\n",
    "time.sleep(3)"
   ]
  },
  {
   "cell_type": "markdown",
   "id": "7604ab10-5420-4272-bc3a-1d34128c87d1",
   "metadata": {},
   "source": [
    "## Control / navigation "
   ]
  },
  {
   "cell_type": "code",
   "execution_count": 25,
   "id": "d32fcb7b-302c-437c-ab4c-aa6f2778bde7",
   "metadata": {},
   "outputs": [
    {
     "name": "stdout",
     "output_type": "stream",
     "text": [
      "424.0\n",
      "b'\\x00\\x00\\x13\\x11\\x1b[000;'\n"
     ]
    }
   ],
   "source": [
    "print2(sty.rs.all + clearscreen)\n",
    "time.sleep(ANIMATION_DELAY)\n",
    "println2('(cursor starts at 0,0)')\n",
    "time.sleep(ANIMATION_DELAY)\n",
    "print2('(Save it with control+7)'+bg.red+' '+sty.rs.all+savecursor)\n",
    "time.sleep(ANIMATION_DELAY)\n",
    "print2(goto(2,4)+'(... then move somewhere)')\n",
    "time.sleep(ANIMATION_DELAY)\n",
    "print2(restorecursor + '(Then return via control+8)')\n",
    "time.sleep(ANIMATION_DELAY)\n",
    "print2(goto(3,0))\n",
    "time.sleep(ANIMATION_DELAY)\n",
    "print2('carriage return... we\\'ll overwrite this in a second')\n",
    "time.sleep(ANIMATION_DELAY)\n",
    "println2('\\r'+'carr. rtn.: (done)')\n",
    "time.sleep(ANIMATION_DELAY)\n",
    "println2('bell  \"\\\\a\": \\a(did the screen flash?)')\n",
    "time.sleep(ANIMATION_DELAY)\n",
    "print2('bksp  \"\\\\b\": we\\'ll delete this in a second')\n",
    "time.sleep(ANIMATION_DELAY)\n",
    "println2('\\b'*len(\"we\\'ll delete this in a second\") + '(deleted)')\n",
    "time.sleep(ANIMATION_DELAY)\n",
    "println2('tab   \"\\\\t\": tab\\ttab')\n",
    "time.sleep(ANIMATION_DELAY)\n",
    "println2('ffeed   12: B\\fB')\n",
    "time.sleep(ANIMATION_DELAY)\n",
    "println2('vtab    11: A'+vtab+'Hi.')\n",
    "time.sleep(ANIMATION_DELAY)\n",
    "print2('navigation test -----  +'+\n",
    "       left(2)+'L'+\n",
    "       up(1)  +'U'+\n",
    "       left(1)+down(2)+'D'+\n",
    "       left(1)+up(1)+right(1)+'R',delay=1)\n",
    "time.sleep(ANIMATION_DELAY)\n",
    "print2(down(3)+downstart+'(down to start of line) ]E')\n",
    "time.sleep(ANIMATION_DELAY)\n",
    "print2(upstart+'(up   to start of line) ]F')\n",
    "time.sleep(ANIMATION_DELAY)\n",
    "print2(down(1)+downstart+':'+coljump(TERMCOLS//2)+'<- Jump to column')\n",
    "time.sleep(ANIMATION_DELAY)\n",
    "\n",
    "# We can also request the cursor position\n",
    "print2(getcursor)\n",
    "print((b''.join([arduino.read() for i in range(10)])))\n",
    "\n",
    "\n",
    "time.sleep(2)"
   ]
  },
  {
   "cell_type": "markdown",
   "id": "8eb02314-c5e3-4e76-86cc-6fe2f9f05098",
   "metadata": {},
   "source": [
    "## Text effects"
   ]
  },
  {
   "cell_type": "code",
   "execution_count": 26,
   "id": "aef3a824-8c34-47e1-8c5e-626d3a20241b",
   "metadata": {},
   "outputs": [
    {
     "name": "stdout",
     "output_type": "stream",
     "text": [
      "39503.69540873461\n"
     ]
    }
   ],
   "source": [
    "def ul(*args):\n",
    "    # Set underlying color\n",
    "    if len(args)==1 and args[0]<8:\n",
    "        return '\\x1b[%dm'%(100+args[0])\n",
    "    return bg(*args).replace('[48','[58')\n",
    "sty.ul = ul\n",
    "\n",
    "color = fg(255,255,255)\n",
    "fonttest = 'AaBbCcDdEeFfGg1234567890' + sty.rs.all\n",
    "underline          = '\\x1b[3m'\n",
    "underline          = '\\x1b[4m'\n",
    "double_underline_1 = '\\x1b[21m'\n",
    "double_underline_2 = '\\x1b[61m'\n",
    "overline_1         = '\\x1b[53m'\n",
    "overline_2         = '\\x1b[62m'\n",
    "double_overline    = '\\x1b[63m'\n",
    "strike             = '\\x1b[9m'\n",
    "verybold           = '\\x1b[20m'\n",
    "\n",
    "s = clearscreen + sty.rs.all+fg.white+bg.black \n",
    "s += 'Fancy font effects:\\n\\n'\n",
    "s += 'Bold    [1: '+sty.ef.bold+fonttest+ '\\n'\n",
    "s += 'Faint   [2: '+sty.ef.dim+fonttest+ '\\n'\n",
    "s += 'Italic  [3: '+sty.ef.italic+fonttest+ '\\n'\n",
    "s += 'Bld+It    : '+sty.ef.bold+sty.ef.italic+fonttest+ '\\n'\n",
    "s += 'Blink   [5: '+sty.ef.blink+fonttest+ '\\n'\n",
    "s += 'BBold  [20: '+verybold+fonttest+ '\\n'\n",
    "s += 'B+BBld    : '+sty.ef.bold+verybold+fonttest+ '\\n'\n",
    "s += 'Invert  [7: '+sty.ef.inverse+fonttest+ '\\n'\n",
    "s += '1xOver [53: '+ul(1)+overline_1+fonttest+ '\\n'\n",
    "s += '1xOver [62: '+ul(1)+overline_2+fonttest+ '\\n'\n",
    "s += '2xOver [63: '+ul(1)+double_overline+fonttest+ '\\n'\n",
    "s += '1xUnder [4: '+ul(1)+underline+fonttest+ '\\n'\n",
    "s += '2xUnder[21: '+ul(1)+double_underline_1+fonttest+ '\\n'\n",
    "s += '2xUnder[61: '+ul(1)+double_underline_2+fonttest+ '\\n'\n",
    "s += 'Strike  [9: '+ul(1)+strike+fonttest+ '\\n'\n",
    "s += '2xO 2xU S : '+ul(1)+double_underline_1+double_overline+strike+fonttest+ '\\n'\n",
    "\n",
    "print2(s,delay=0.005)\n",
    "time.sleep(6)"
   ]
  },
  {
   "cell_type": "markdown",
   "id": "da443270-e646-402c-b37a-bad6b752f154",
   "metadata": {},
   "source": [
    "# Unicode"
   ]
  },
  {
   "cell_type": "code",
   "execution_count": 27,
   "id": "0ea43936-bd9f-4615-a875-d46111dc977c",
   "metadata": {
    "tags": []
   },
   "outputs": [],
   "source": [
    "print2(clearscreen + sty.rs.all+fg.white+bg.black)\n",
    "\n",
    "s = 'Braille patterns:\\n\\n'\n",
    "for i in range(0x2800,0x28FF+1):\n",
    "    s += chr(i)\n",
    "    \n",
    "s += '\\n\\nBlock sextants:\\n\\n'\n",
    "for i in range(0x1FB00,0x1fb3b+1):\n",
    "    s+=chr(i)\n",
    "    \n",
    "s += '\\n\\nTeletext:\\n\\n'\n",
    "s += ''.join([chr(i) for i in range(0x1FB3C,0x1FB3C+44)])\n",
    "    \n",
    "print2(s)\n",
    "time.sleep(pauseaftershow)"
   ]
  },
  {
   "cell_type": "code",
   "execution_count": 28,
   "id": "46dd544a-4b8f-46fc-bec0-8f6520df6288",
   "metadata": {},
   "outputs": [],
   "source": [
    "s=reset+hidecursor\n",
    "s+='Box and Block-Drawing Characters 0x2500-0x259F:\\n\\n'\n",
    "#\"\"\"\n",
    "s+='─━│┃┄┅┆┇┈┉┊┋┌┍┎┏┐┑┒┓└┕┖┗┘┙┚┛├┝┞┟┠┡┢┣┤┥┦┧┨┩┪┫┬┭┮┯\\n'\n",
    "s+='┰┱┲┳┴┵┶┷┸┹┺┻┼┽┾┿╀╁╂╃╄╅╆╇╈╉╊╋╌╍╎╏═║╒╓╔╕╖╗╘╙╚╛╜╝╞╟\\n'\n",
    "s+='╠╡╢╣╤╥╦╧╨╩╪╫╬╭╮╯╰╱╲╳╴╵╶╷╸╹╺╻╼╽╾╿▀▁▂▃▄▅▆▇█▉▊▋▌▍▎▏\\n'\n",
    "s+='▐░▒▓▔▕▖▗▘▙▚▛▜▝▞▟\\n\\n'\n",
    "\n",
    "#\"\"\"\n",
    "s+='   ╱╲   ┌───┐ ┏━━━┓\\n'\n",
    "s+=' ╱╳╳╳╳╲ │▐█▌├┈┨▝ ▖┣╸╺╸╺╍╍┅┅┉┉━┑\\n'\n",
    "s+=' ╲╳╳╳╳╱ └─┬─┘ ┗━━━┛  ╔═══╗  ╒═╧═╕\\n'\n",
    "s+='   ╲╱     ╰─╌╌┄┄┈┈╼━═╣   ╟──┤   ┆\\n'\n",
    "s+='                     ╚═══╝  ╘═══╛\\n'\n",
    "s+='  ▟▙▝▞▞▝▛▞▙▙▝▞▌▀▖▙\\n'\n",
    "s+='  ▌▟▝▘▛▝▜▚▙ ▙▝▀▛▚▖\\n'\n",
    "s+='  ▞▀█▛▜ ▛▚▟▀▝█▗▞▛▛\\n'\n",
    "\n",
    "print2(s)\n",
    "time.sleep(pauseaftershow)"
   ]
  },
  {
   "cell_type": "code",
   "execution_count": 29,
   "id": "c924e11b-8e4b-493c-b509-b87a81532cc3",
   "metadata": {},
   "outputs": [],
   "source": [
    "core_support = (''' !\"#$%&\\'()*+,-./0123456789:;<=>?@ABCDEFGHIJKLMNOPQRSTUVWXYZ[]^_`'''\n",
    "                '''abcdefghijklmnopqrstuvwxyz{|}~ ¡¢£¤¥¦§¨©ª«¬®¯°±²³´µ¶·¸¹º»¼½¾¿'''\n",
    "                '''ÀÁÂÃÄÅÆÇÈÉÊËÌÍÎÏÐÑÒÓÔÕÖ×ØÙÚÛÜÝÞßàáâãäåæçèéêëìíîïðñòóôõö÷øùúûüýþÿ'''\n",
    "                '''ĀāĂăĄąĆćĈĉĊċČčĎďĐđĒēĖėĘęĚěĜĝĞğĠġĢģĤĥĦħĪīĮįİıĴĵĶķĹĺĻļĽľŁłŃńŅņŇňŌōŐőŒœ'''\n",
    "                '''ŔŕŖŗŘřŚśŜŝŞşŠšŢţŤťŪūŬŭŮůŰűŲųŴŵŶŷŸŹźŻżŽžƒȘșȚțˆˇˉ˘˙˛˜˝΄΅ΆΈΉΊΌΎΏΐΑΒΓΔΕΖΗ'''\n",
    "                '''ΘΙΚΛΜΝΞΟΠΡΣΤΥΦΧΨΩΪΫάέήίΰαβγδεζηθικλμνξοπρςστυφχψωϊϋόύώϳϴЀЁЂЃЄЅІЇЈЉЊЋЌЍЎЏ'''\n",
    "                '''АБВГДЕЖЗИЙКЛМНОПРСТУФХЦЧШЩЪЫЬЭЮЯабвгдежзийклмнопрстуфхцчшщъыьэюяѐёђѓєѕіїј'''\n",
    "                '''љњћќѝўџҐґҮӐӑḂḃḊḋḞḟṀṁṖṗṠṡṪṫẀẁẂẃẄẅỲỳ‐‒–—―‘’‚“”„†‡•…‰‹›‼ⁿ₧€№™Ω←↑→↓∆−∙√∞∩≈≠≡≤≥⌐⌠⌡'''\n",
    "                '''①②③④⑤⑥⑦⑧⑨⓪─━│┃┌┏┐┓└┗┘┛├┝┠┣┤┥┨┫┬┯┰┳┴┷┸┻┼┿╂╋╪╬█░▒■▲▼◊●''')\n",
    "s=reset\n",
    "s+='github.com/ehmicky/cross-platform-terminal-characters\\n\\n'\n",
    "s+=core_support\n",
    "print2(s)\n",
    "time.sleep(pauseaftershow)"
   ]
  },
  {
   "cell_type": "code",
   "execution_count": 30,
   "id": "e3ce2196-06e1-43f4-8b1b-c86044a04c60",
   "metadata": {},
   "outputs": [],
   "source": [
    "print2(reset+clearscreen+hidecursor+\\\n",
    "       \"Legacy Computing Characters (some custom additions):\\n\"+\\\n",
    "       goto(3,20)+(\n",
    "'\\n'+right(10)+\"🭵🮀🮁🮁🮁🮁🮁🮁🮁🮁🮁🮁🮁🮁🮁🮁🮁🮁🮁🮁🮁🮁🮁🮁🮁🮁🮀🮼\"+\\\n",
    "'\\n'+right(10)+\"🭵                          🮸\"+\\\n",
    "'\\n'+right(10)+\"🭵     🮲🮳 🯅 🯆 🯇 🯈 🯉         |  {\"+sty.ef.inverse+'ok'+sty.rs.inverse+'}'+\\\n",
    "'\\n'+right(10)+\"🭵                          |\"+\\\n",
    "'\\n'+right(10)+\"🭵  🯁🯂🯃 🮹🮺     🯰🯱 🯲🯳🯴🯵🯶🯷🯸🯹  .     🮰\"+\\\n",
    "'\\n'+right(10)+\"🭵                          |\"+\\\n",
    "'\\n'+right(10)+\"🭵🮵===========$============🮶🮷\"+\\\n",
    "'\\n'+right(10)+\n",
    "'\\n'+right(10)+\"   🯀 🯄 🮻 🮽 🮾 🮿 🮱 🮴 🮯 \"+\\\n",
    "'\\n'+right(10)+\n",
    "'\\n'+right(10)+\"   🮌 🮍 🮎 🮏 🮐 🮑 🮒 \\U0001fb93 🮔 🮕 \"+\\\n",
    "'\\n'+right(10)+\n",
    "'\\n'+right(10)+\"   🮖 🮗 🮘 🮙 🮚 🮛 🮜 🮝 🮞 🮟 \"\n",
    ")\n",
    "# Add ons: \n",
    ".replace('=','\\U0001fbcb') # Empty horizontal scroll bar\n",
    ".replace('$','\\U0001fbcc') # Horizontal scroll handle\n",
    ".replace('.','\\U0001fbcd') # Vertical scroll handle\n",
    ".replace('|','\\U0001fbce') # Empty vertical scroll bar\n",
    ".replace('{','\\U0001fbcf') # Left round button end\n",
    ".replace('}','\\U0001fbd0') # Right round button end\n",
    ")\n",
    "time.sleep(pauseaftershow)"
   ]
  },
  {
   "cell_type": "code",
   "execution_count": null,
   "id": "28998662-8df6-4dd4-a604-d31a00978a44",
   "metadata": {},
   "outputs": [],
   "source": []
  },
  {
   "cell_type": "code",
   "execution_count": null,
   "id": "8d64e97c-4d13-4e89-9c58-e6185ec1b466",
   "metadata": {},
   "outputs": [],
   "source": []
  }
 ],
 "metadata": {
  "kernelspec": {
   "display_name": "Python 3 (ipykernel)",
   "language": "python",
   "name": "python3"
  },
  "language_info": {
   "codemirror_mode": {
    "name": "ipython",
    "version": 3
   },
   "file_extension": ".py",
   "mimetype": "text/x-python",
   "name": "python",
   "nbconvert_exporter": "python",
   "pygments_lexer": "ipython3",
   "version": "3.8.10"
  }
 },
 "nbformat": 4,
 "nbformat_minor": 5
}
