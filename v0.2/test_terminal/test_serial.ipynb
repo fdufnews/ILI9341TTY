{
 "cells": [
  {
   "cell_type": "markdown",
   "id": "f6310669-447f-4443-be09-640170afeba4",
   "metadata": {},
   "source": [
    "        stty -F /dev/ttyACM* 57600 ixon\n",
    "        sleep 4\n",
    "        stty cols 53 rows 20\n",
    "        price | tee /dev/ttyACM*"
   ]
  },
  {
   "cell_type": "markdown",
   "id": "b1c9c7a9-970d-424a-a8a1-63c4471d7433",
   "metadata": {},
   "source": [
    "# ANSI serial terminal test"
   ]
  },
  {
   "cell_type": "code",
   "execution_count": 242,
   "id": "2b4ba27f-12d8-4b4f-956b-b0edf933623a",
   "metadata": {},
   "outputs": [
    {
     "name": "stdout",
     "output_type": "stream",
     "text": [
      "The autoreload extension is already loaded. To reload it, use:\n",
      "  %reload_ext autoreload\n"
     ]
    }
   ],
   "source": [
    "%matplotlib inline\n",
    "%load_ext autoreload\n",
    "%autoreload 2\n",
    "\n",
    "import os\n",
    "import sys\n",
    "import numpy as np\n",
    "from pylab import *\n",
    "sys.path.append('../prepare_fonts/')\n",
    "from font_utilities import get_unicode_blocks_information\n",
    "from CONFIG import *"
   ]
  },
  {
   "cell_type": "code",
   "execution_count": 243,
   "id": "ddde48f6-e048-4eb0-b417-f8832a3bcb36",
   "metadata": {},
   "outputs": [
    {
     "name": "stdout",
     "output_type": "stream",
     "text": [
      "Available ports:\n",
      "  ttyACM0\n",
      "Using port /dev/ttyACM0\n"
     ]
    }
   ],
   "source": [
    "BAUDRATE = 57600\n",
    "#BAUDRATE = 38400\n",
    "#BAUDRATE = 9600\n",
    "CW,CH = 6,12\n",
    "TERMROWS = 20\n",
    "TERMCOLS = 53\n",
    "\n",
    "pauseaftershow = 5 #seconds\n",
    "\n",
    "CONTROL            = '\\x1b'\n",
    "CSI                = CONTROL+'['\n",
    "clearafter         = CSI + '0J'\n",
    "clearbefore        = CSI + '1J'\n",
    "clearscreen        = CSI + '2J'\n",
    "clearscreen2       = CSI + '3J'\n",
    "clearright         = CSI + '0K'\n",
    "clearleft          = CSI + '1K'\n",
    "clearline          = CSI + '2K'\n",
    "underline          = CSI + '3m'\n",
    "underline          = CSI + '4m'\n",
    "double_underline_1 = CSI + '21m'\n",
    "double_underline_2 = CSI + '61m'\n",
    "overline_1         = CSI + '53m'\n",
    "overline_2         = CSI + '62m'\n",
    "double_overline    = CSI + '63m'\n",
    "strike             = CSI + '9m'\n",
    "verybold           = CSI + '20m'\n",
    "vtab               = '\\x0b'\n",
    "upstart            = CSI+'F'\n",
    "downstart          = CSI+'E'\n",
    "savecursor         = '\\x1b7'\n",
    "restorecursor      = '\\x1b8'\n",
    "showcursor         = CSI+\"?25h\"\n",
    "hidecursor         = CSI+\"?25l\"\n",
    "reset              = '\\x1bc'\n",
    "getcursor          = CSI+'6n'\n",
    "\n",
    "def scroll(n):\n",
    "    return CSI+'%d'%abs(n)+('T' if n<0 else 'S')\n",
    "\n",
    "def goto(r,c):\n",
    "    return '\\x1b[%d;%dH'%(r+1,c+1)\n",
    "\n",
    "up    = lambda n: '\\x1b[%dA'%n\n",
    "down  = lambda n: '\\x1b[%dB'%n\n",
    "left  = lambda n: '\\x1b[%dD'%n\n",
    "right = lambda n: '\\x1b[%dC'%n\n",
    "\n",
    "def coljump(c):\n",
    "    return CSI+'%d'%(c+1)+'G'\n",
    "\n",
    "import os,serial,time,sty\n",
    "from sty import fg, bg\n",
    "\n",
    "ports = [f for f in os.listdir('/dev/') if 'acm' in f.lower() or 'ttyusb' in f.lower()]\n",
    "print('Available ports:\\n  '+'\\n  '.join(ports))\n",
    "port = '/dev/'+ports[0]\n",
    "print('Using port',port)\n",
    "arduino = serial.Serial(port=port, \n",
    "    baudrate=BAUDRATE, \n",
    "    xonxoff=False,  \n",
    "    timeout=.1) \n",
    "    #write_timeout=5)\n",
    "\n",
    "#os.system('stty -F %s %s ixon cr3 ff1 nl1 bs1'%(port,BAUDRATE))\n",
    "time.sleep(3)\n",
    "\n",
    "def print2(s='',delay=None):\n",
    "    if delay == None: \n",
    "        delay=0\n",
    "    throttle = delay*(len(s)/TERMCOLS+s.count('\\n'))\n",
    "    delay = throttle / len(s)\n",
    "    if delay>0: print(1/delay*8)\n",
    "    for b in s:\n",
    "        arduino.write(b.encode('utf-8'))\n",
    "        arduino.flush()\n",
    "        time.sleep(delay)\n",
    "\n",
    "def println2(s='',delay=None):\n",
    "    print2(s+'\\n',delay=delay)\n",
    "\n",
    "import unicodedata\n",
    "\n",
    "def exists(c):\n",
    "    try: unicodedata.name(c)\n",
    "    except: return False\n",
    "    return True\n",
    "\n",
    "def drain():\n",
    "    while len(arduino.read()): pass\n",
    "\n",
    "DEVICE_CONTROL4 = chr(20)\n",
    "PRINT_SCREEN = DEVICE_CONTROL4\n",
    "\n",
    "def unpack_RRRBBGGG(i):\n",
    "    i = uint8(i)\n",
    "    G = i&0b111\n",
    "    B = (i>>3)&0b11\n",
    "    R = (i>>5)&0b111\n",
    "    B = (B*255)//3\n",
    "    R = (R*255)//7\n",
    "    G = (G*255)//7\n",
    "    return (R,G,B)\n",
    "\n",
    "def to_RGB(screen):\n",
    "    RGB = [unpack_RRRBBGGG(i) for i in screen.ravel()]\n",
    "    RGB = array(RGB).reshape((240,320,3))\n",
    "    return RGB\n",
    "\n",
    "def printscreen():\n",
    "    # Drain buffer\n",
    "    while len(arduino.read()): pass\n",
    "    print2(PRINT_SCREEN)\n",
    "    screendata = np.zeros((240,320))\n",
    "    for y in range(320):\n",
    "        for x in range(240):\n",
    "            got = arduino.read()\n",
    "            while len(got)==0:\n",
    "                got = arduino.read()\n",
    "            screendata[x,y] = ord(got)\n",
    "        progress = int(round((x + y*240) / (320*240) * 40))\n",
    "        bar = '['+'|'*progress + ' '*(41-progress)+']'\n",
    "        print('\\r' + bar, end='', flush = True)\n",
    "    print('\\r' + '(done)'.ljust(43), flush = True)\n",
    "    return to_RGB(screendata)\n",
    "\n",
    "def save_snapshot(filename):\n",
    "    screen = printscreen()\n",
    "    imh,imw = screen.shape[:2]\n",
    "    figure(figsize=(imw,imh),dpi=1)\n",
    "    imshow(screen,interpolation='nearest')\n",
    "    axis('off')\n",
    "    subplots_adjust(0,0,1,1,0,0)\n",
    "    savefig(filename)"
   ]
  },
  {
   "cell_type": "code",
   "execution_count": 235,
   "id": "c8f03319-24d3-48ea-be79-00a0d2f1c780",
   "metadata": {},
   "outputs": [],
   "source": [
    "print2(reset + 'hi')"
   ]
  },
  {
   "cell_type": "code",
   "execution_count": 236,
   "id": "19bf4eb7-1291-4a38-a080-f72e80a140dc",
   "metadata": {},
   "outputs": [],
   "source": [
    "print2(sty.rs.all + clearscreen)\n",
    "print2(goto(6,55//2-8)+fg(255,100,0)+'◖'+sty.ef.inverse+'Hello world!'+sty.rs.inverse+'◗')\n",
    "print2(goto(8,55//2-12)+fg(255,100,0)+'◖'+sty.ef.inverse+'This is an Arduino TTY'+sty.rs.inverse+'◗')\n",
    "print2(goto(10,0)+'Its running at a baud rate of %d, and expects utf-8 encoded text. ANSI styling commands are supported. The hardware is an Arduino UNO with an Adafruit-style ILI9341 LCD screen shield. '%BAUDRATE)"
   ]
  },
  {
   "cell_type": "markdown",
   "id": "e7aa6357-a9fd-48c0-ba0c-dd1792f4fef6",
   "metadata": {},
   "source": [
    "# Positioning, clearing, scrolling"
   ]
  },
  {
   "cell_type": "code",
   "execution_count": 237,
   "id": "57340abb-cef3-4df9-a634-32f28897107b",
   "metadata": {},
   "outputs": [],
   "source": [
    "ANIMATION_DELAY = 0.35\n",
    "\n",
    "print2(sty.rs.all + clearscreen)\n",
    "\n",
    "# Show/hide the cursor\n",
    "println2(showcursor+\"[?25h shows the cursor\")\n",
    "time.sleep(ANIMATION_DELAY)\n",
    "\n",
    "println2(hidecursor+\"[?25l hides it\")\n",
    "time.sleep(ANIMATION_DELAY)\n",
    "\n",
    "println2(CSI+\"?25hlet's show it for now\")\n",
    "time.sleep(ANIMATION_DELAY)\n",
    "\n",
    "print2(bg(7) + clearscreen + 'clear screen ]2J gray')\n",
    "time.sleep(ANIMATION_DELAY)\n",
    "\n",
    "print2(bg.green + clearscreen2 + 'clear screen ]3J green')\n",
    "time.sleep(ANIMATION_DELAY)\n",
    "\n",
    "print2(goto(TERMROWS//2-1,TERMCOLS//2))\n",
    "print2(bg.red  + clearbefore + '\\r clear before ]1J red')\n",
    "time.sleep(ANIMATION_DELAY)\n",
    "\n",
    "print2(goto(TERMROWS//2-1,TERMCOLS//2))\n",
    "print2(bg(5)+clearright+'     clear right ]0K mauve')\n",
    "time.sleep(ANIMATION_DELAY)\n",
    "\n",
    "print2(goto(TERMROWS//2,TERMCOLS//2))\n",
    "print2(bg.blue + clearafter + '     clear after ]0J blue')\n",
    "time.sleep(ANIMATION_DELAY)\n",
    "\n",
    "print2(goto(TERMROWS//2,TERMCOLS//2))\n",
    "print2(bg(6)+clearleft+'\\r clear left   ]1K cyan')\n",
    "time.sleep(ANIMATION_DELAY)\n",
    "\n",
    "print2(bg(3))\n",
    "print2(scroll(2)  + goto(0,0) + 'Scrolled up   2 [2S brown')\n",
    "time.sleep(ANIMATION_DELAY)\n",
    "\n",
    "print2(bg(2))\n",
    "print2(scroll(-1) + goto(TERMROWS-2,0) + 'Scrolled down 1 [1T green')\n",
    "time.sleep(ANIMATION_DELAY)\n",
    "\n"
   ]
  },
  {
   "cell_type": "markdown",
   "id": "5546efc5-325a-41b0-b499-600121821119",
   "metadata": {},
   "source": [
    "# Colors"
   ]
  },
  {
   "cell_type": "code",
   "execution_count": 261,
   "id": "d89c830c-d9b0-409a-96b7-8608e2100771",
   "metadata": {
    "tags": []
   },
   "outputs": [
    {
     "name": "stdout",
     "output_type": "stream",
     "text": [
      "(done)                                     \n"
     ]
    },
    {
     "data": {
      "image/png": "[encoded data removed]",
      "text/plain": [
       "<Figure size 320x240 with 1 Axes>"
      ]
     },
     "metadata": {
      "needs_background": "light"
     },
     "output_type": "display_data"
    }
   ],
   "source": [
    "offset = 1\n",
    "s = sty.rs.all+clearscreen\n",
    "s += goto(0,offset) + '16-color pallet:'\n",
    "s += goto(1,offset)\n",
    "for i in range(16):\n",
    "    s += bg(i)+'  '\n",
    "s += goto(2,offset) + bg(0) + '6x6x6 color cube:'\n",
    "for r in range(6):\n",
    "    s += goto(r+3,offset)\n",
    "    for g in range(6):\n",
    "        for b in range(6):\n",
    "            s += bg(b+g*6+r*36+16)+' '\n",
    "        s += bg(0)+' '\n",
    "s += goto(9,offset)+\"Grays (can\\'t render all with 8-bit RRRBBGGG color)\"\n",
    "s += goto(10,offset)\n",
    "for q in range(24):\n",
    "    s+=bg(q+232)+' '\n",
    "s += goto(11,offset)+sty.rs.all\n",
    "s += '[*;2;R;G;Bm color codes\\n '\n",
    "for g in range(8):\n",
    "    for r in range(8):\n",
    "        for b in range(4):\n",
    "            s += bg(round(r*255/7),round(g*255/7),round(b*255/3))+' '\n",
    "    s += goto(13+g,offset)\n",
    "xoffset = 53-8*2-1\n",
    "s += goto(10,xoffset+3)+sty.rs.all+'Colors 0-7'\n",
    "s += goto(11,xoffset)\n",
    "s += 'Fore/background'\n",
    "for j in range(8):\n",
    "    s += goto(12+j,xoffset)\n",
    "    s += bg(j)\n",
    "    for i in range(8):\n",
    "        s += fg(i+8)\n",
    "        s += '%d%d'%(i,j)\n",
    "print2(s,delay=0);\n",
    "\n",
    "#save_snapshot('color')"
   ]
  },
  {
   "cell_type": "markdown",
   "id": "7604ab10-5420-4272-bc3a-1d34128c87d1",
   "metadata": {},
   "source": [
    "## Control / navigation "
   ]
  },
  {
   "cell_type": "code",
   "execution_count": 239,
   "id": "d32fcb7b-302c-437c-ab4c-aa6f2778bde7",
   "metadata": {},
   "outputs": [
    {
     "name": "stdout",
     "output_type": "stream",
     "text": [
      "424.0\n",
      "b'\\x1b[000;043R'\n"
     ]
    }
   ],
   "source": [
    "print2(sty.rs.all + clearscreen)\n",
    "time.sleep(ANIMATION_DELAY)\n",
    "println2('(cursor starts at 0,0)')\n",
    "time.sleep(ANIMATION_DELAY)\n",
    "print2('(Save it with control+7)'+bg.red+' '+sty.rs.all+savecursor)\n",
    "time.sleep(ANIMATION_DELAY)\n",
    "print2(goto(2,4)+'(... then move somewhere)')\n",
    "time.sleep(ANIMATION_DELAY)\n",
    "print2(restorecursor + '(Then return via control+8)')\n",
    "time.sleep(ANIMATION_DELAY)\n",
    "print2(goto(3,0))\n",
    "time.sleep(ANIMATION_DELAY)\n",
    "print2('carriage return... we\\'ll overwrite this in a second')\n",
    "time.sleep(ANIMATION_DELAY)\n",
    "println2('\\r'+'carr. rtn.: (done)')\n",
    "time.sleep(ANIMATION_DELAY)\n",
    "println2('bell  \"\\\\a\": \\a(did the screen flash?)')\n",
    "time.sleep(ANIMATION_DELAY)\n",
    "print2('bksp  \"\\\\b\": we\\'ll delete this in a second')\n",
    "time.sleep(ANIMATION_DELAY)\n",
    "println2('\\b'*len(\"we\\'ll delete this in a second\") + '(deleted)')\n",
    "time.sleep(ANIMATION_DELAY)\n",
    "println2('tab   \"\\\\t\": tab\\ttab')\n",
    "time.sleep(ANIMATION_DELAY)\n",
    "println2('ffeed   12: B\\fB')\n",
    "time.sleep(ANIMATION_DELAY)\n",
    "println2('vtab    11: A'+vtab+'Hi.')\n",
    "time.sleep(ANIMATION_DELAY)\n",
    "print2('navigation test -----  +'+\n",
    "       left(2)+'L'+\n",
    "       up(1)  +'U'+\n",
    "       left(1)+down(2)+'D'+\n",
    "       left(1)+up(1)+right(1)+'R',delay=1)\n",
    "time.sleep(ANIMATION_DELAY)\n",
    "print2(down(3)+downstart+'(down to start of line) ]E')\n",
    "time.sleep(ANIMATION_DELAY)\n",
    "print2(upstart+'(up   to start of line) ]F')\n",
    "time.sleep(ANIMATION_DELAY)\n",
    "print2(down(1)+downstart+':'+coljump(TERMCOLS//2)+'<- Jump to column')\n",
    "time.sleep(ANIMATION_DELAY)\n",
    "\n",
    "\n",
    "# We can also request the cursor position\n",
    "print2(getcursor)\n",
    "print((b''.join([arduino.read() for i in range(10)])))\n"
   ]
  },
  {
   "cell_type": "markdown",
   "id": "8eb02314-c5e3-4e76-86cc-6fe2f9f05098",
   "metadata": {},
   "source": [
    "## Text effects"
   ]
  },
  {
   "cell_type": "code",
   "execution_count": 268,
   "id": "aef3a824-8c34-47e1-8c5e-626d3a20241b",
   "metadata": {},
   "outputs": [
    {
     "name": "stdout",
     "output_type": "stream",
     "text": [
      "37629.279811097986\n",
      "(done)                                     \n",
      "(done)                                     \n"
     ]
    },
    {
     "data": {
      "image/png": "[encoded data removed]",
      "text/plain": [
       "<Figure size 320x240 with 1 Axes>"
      ]
     },
     "metadata": {
      "needs_background": "light"
     },
     "output_type": "display_data"
    },
    {
     "data": {
      "image/png": "[encoded data removed]",
      "text/plain": [
       "<Figure size 320x240 with 1 Axes>"
      ]
     },
     "metadata": {
      "needs_background": "light"
     },
     "output_type": "display_data"
    }
   ],
   "source": [
    "def ul(*args):\n",
    "    # Set underlying color\n",
    "    if len(args)==1 and args[0]<8:\n",
    "        return '\\x1b[%dm'%(100+args[0])\n",
    "    return bg(*args).replace('[48','[58')\n",
    "sty.ul = ul\n",
    "\n",
    "color = fg(255,255,255)\n",
    "fonttest = 'AaBbCcDdEeFfGg1234567890' + sty.rs.all\n",
    "underline          = '\\x1b[3m'\n",
    "underline          = '\\x1b[4m'\n",
    "double_underline_1 = '\\x1b[21m'\n",
    "double_underline_2 = '\\x1b[61m'\n",
    "overline_1         = '\\x1b[53m'\n",
    "overline_2         = '\\x1b[62m'\n",
    "double_overline    = '\\x1b[63m'\n",
    "strike             = '\\x1b[9m'\n",
    "verybold           = '\\x1b[20m'\n",
    "\n",
    "s = reset + sty.rs.all+fg.white+bg.black \n",
    "s += 'Fancy font effects:\\n\\n'\n",
    "s += 'Bold    [1: '+sty.ef.bold+fonttest+ '\\n'\n",
    "s += 'Faint   [2: '+sty.ef.dim+fonttest+ '\\n'\n",
    "s += 'Italic  [3: '+sty.ef.italic+fonttest+ '\\n'\n",
    "s += 'Bld+It    : '+sty.ef.bold+sty.ef.italic+fonttest+ '\\n'\n",
    "s += 'Blink   [5: '+sty.ef.blink+fonttest+ '\\n'\n",
    "s += 'BBold  [20: '+verybold+fonttest+ '\\n'\n",
    "s += 'B+BBld    : '+sty.ef.bold+verybold+fonttest+ '\\n'\n",
    "s += 'Invert  [7: '+sty.ef.inverse+fonttest+ '\\n'\n",
    "s += '1xOver [53: '+ul(1)+overline_1+fonttest+ '\\n'\n",
    "s += '1xOver [62: '+ul(1)+overline_2+fonttest+ '\\n'\n",
    "s += '2xOver [63: '+ul(1)+double_overline+fonttest+ '\\n'\n",
    "s += '1xUnder [4: '+ul(1)+underline+fonttest+ '\\n'\n",
    "s += '2xUnder[21: '+ul(1)+double_underline_1+fonttest+ '\\n'\n",
    "s += '2xUnder[61: '+ul(1)+double_underline_2+fonttest+ '\\n'\n",
    "s += 'Strike  [9: '+ul(1)+strike+fonttest+ '\\n'\n",
    "s += '2xO 2xU S : '+ul(1)+double_underline_1+double_overline+strike+fonttest+ '\\n'\n",
    "\n",
    "print2(s,delay=0.005)\n",
    "\n",
    "#save_snapshot('effects')\n",
    "#time.sleep(0.01)\n",
    "#save_snapshot('effects2')"
   ]
  },
  {
   "cell_type": "markdown",
   "id": "da443270-e646-402c-b37a-bad6b752f154",
   "metadata": {},
   "source": [
    "# Unicode"
   ]
  },
  {
   "cell_type": "code",
   "execution_count": 280,
   "id": "f6130c26-c753-451b-8a68-6a77c78eda27",
   "metadata": {},
   "outputs": [],
   "source": [
    "supported = ''.join(open('v0p2supported.txt','r').readlines())"
   ]
  },
  {
   "cell_type": "code",
   "execution_count": 305,
   "id": "7d66ed0b-0b12-445a-a74a-89cf80d8f012",
   "metadata": {},
   "outputs": [
    {
     "name": "stdout",
     "output_type": "stream",
     "text": [
      "(done)                                     \n"
     ]
    },
    {
     "data": {
      "image/png": "[encoded data removed]",
      "text/plain": [
       "<Figure size 320x240 with 1 Axes>"
      ]
     },
     "metadata": {
      "needs_background": "light"
     },
     "output_type": "display_data"
    }
   ],
   "source": [
    "s = reset+'Greek:\\n\\n'\n",
    "for b,(name,start,stop,N) in get_unicode_blocks_information().items(): \n",
    "    if 'greek' in b: \n",
    "        s += ''.join([chr(i) for i in range(start,stop+1) if chr(i) in supported])\n",
    "\n",
    "s += '\\n\\n\\nCyrillic:\\n\\n'\n",
    "for b,(name,start,stop,N) in get_unicode_blocks_information().items(): \n",
    "    if 'cyrillic' in b: \n",
    "        s += ''.join([chr(i) for i in range(start,stop+1) if chr(i) in supported])\n",
    "print2(s)\n",
    "#save_snapshot('greek_and_cyrillic')"
   ]
  },
  {
   "cell_type": "code",
   "execution_count": 304,
   "id": "f6119cb7-a1c4-4cc4-bb5c-1ee41fcea110",
   "metadata": {},
   "outputs": [
    {
     "name": "stdout",
     "output_type": "stream",
     "text": [
      "(done)                                     \n"
     ]
    },
    {
     "data": {
      "image/png": "[encoded data removed]",
      "text/plain": [
       "<Figure size 320x240 with 1 Axes>"
      ]
     },
     "metadata": {
      "needs_background": "light"
     },
     "output_type": "display_data"
    }
   ],
   "source": [
    "s = ''\n",
    "for b,(name,start,stop,N) in get_unicode_blocks_information().items(): \n",
    "    if 'latin' in b: \n",
    "        s += ''.join([chr(i) for i in range(start,stop+1) if chr(i) in supported])\n",
    "print2(reset+'Latin:\\n'+s)\n",
    "#save_snapshot('latin')"
   ]
  },
  {
   "cell_type": "code",
   "execution_count": 241,
   "id": "0ea43936-bd9f-4615-a875-d46111dc977c",
   "metadata": {
    "tags": []
   },
   "outputs": [],
   "source": [
    "print2(clearscreen + sty.rs.all+fg.white+bg.black)\n",
    "\n",
    "s = 'Braille patterns:\\n\\n'\n",
    "for i in range(0x2800,0x28FF+1):\n",
    "    s += chr(i)\n",
    "    \n",
    "s += '\\n\\nBlock sextants:\\n\\n'\n",
    "for i in range(0x1FB00,0x1fb3b+1):\n",
    "    s+=chr(i)\n",
    "    \n",
    "s += '\\n\\nTeletext:\\n\\n'\n",
    "s += ''.join([chr(i) for i in range(0x1FB3C,0x1FB3C+44)])\n",
    "    \n",
    "print2(s)\n",
    "time.sleep(pauseaftershow)\n",
    "#save_snapshot('teletext')"
   ]
  },
  {
   "cell_type": "code",
   "execution_count": 250,
   "id": "07d12e71-a7cd-410e-a787-39fd6fde533b",
   "metadata": {},
   "outputs": [
    {
     "name": "stdout",
     "output_type": "stream",
     "text": [
      "(done)                                     \n"
     ]
    },
    {
     "data": {
      "image/png": "[encoded data removed]",
      "text/plain": [
       "<Figure size 320x240 with 1 Axes>"
      ]
     },
     "metadata": {
      "needs_background": "light"
     },
     "output_type": "display_data"
    }
   ],
   "source": [
    "print2(reset + sty.rs.all+fg.white+bg.black)\n",
    "s = 'Enclosed alphanumerics:\\n\\n'\n",
    "for i in range(0x2460,1+0x24FF):\n",
    "    s += chr(i)+' '\n",
    "    if ((i-0x2460)%26==25): s+='\\n'\n",
    "print2(s)\n",
    "#save_snapshot('enclosed')"
   ]
  },
  {
   "cell_type": "code",
   "execution_count": 251,
   "id": "69bb224e-6fe1-4cdd-a088-da81fd51c9ea",
   "metadata": {},
   "outputs": [
    {
     "name": "stdout",
     "output_type": "stream",
     "text": [
      "(done)                                     \n"
     ]
    },
    {
     "data": {
      "image/png": "[encoded data removed]",
      "text/plain": [
       "<Figure size 320x240 with 1 Axes>"
      ]
     },
     "metadata": {
      "needs_background": "light"
     },
     "output_type": "display_data"
    }
   ],
   "source": [
    "print2(reset + sty.rs.all+fg.white+bg.black)\n",
    "s = 'Mathematical alphanumerics: '\n",
    "for i in range(ord('𝐀'),1+0x1D7FF):\n",
    "    s += chr(i)\n",
    "print2(s)\n",
    "#save_snapshot('mathematical')"
   ]
  },
  {
   "cell_type": "code",
   "execution_count": 252,
   "id": "a1375a50-6d20-4dd2-9e7c-2b80c75f9844",
   "metadata": {},
   "outputs": [
    {
     "name": "stdout",
     "output_type": "stream",
     "text": [
      "(done)                                     \n"
     ]
    },
    {
     "data": {
      "image/png": "[encoded data removed]",
      "text/plain": [
       "<Figure size 320x240 with 1 Axes>"
      ]
     },
     "metadata": {
      "needs_background": "light"
     },
     "output_type": "display_data"
    }
   ],
   "source": [
    "s = reset\n",
    "\n",
    "s  += 'Armenian\\n'\n",
    "for i in range(0x00000530,1+0x0000058F):\n",
    "    c = chr(i)\n",
    "    if exists(c) and not c in 'ՙ՟՛՜՞': s += chr(i)\n",
    "s += ' ՛ ՜ ՞'\n",
    "\n",
    "s += '\\n\\nGeorgian\\n'\n",
    "for i in range(0x000010A0,1+0x000010FF):\n",
    "    if i<ord('ა'): continue\n",
    "    c = chr(i)\n",
    "    if exists(c): \n",
    "        s += c\n",
    "\n",
    "s += '\\n\\nKatakana\\n'\n",
    "for j,c in enumerate('アイウエオカキクケコサシスセソタチツテトナニヌネノハヒフヘホマミムメ'\n",
    "                     'モヤユヨラリルレロワヰヱヲガギグゲゴザジズゼゾダヂヅデドバパビピブプ'\n",
    "                     'ベペボポヴヷヸヹヺヽヾァィゥェォッャュョヮンヵヶ゠・ーヿ'):\n",
    "#for j,i in enumerate(range(0x30A0,1+0x30FF)):\n",
    "    #c = chr(i)\n",
    "    if exists(c): s += c+' '\n",
    "    if j%24==23: s += '\\n'\n",
    "s += '\\nHiragana\\n'\n",
    "for j,c in enumerate('あいうえおかきくけこさすしせそたちつとなにぬねのはひふへほ'\n",
    "                     'まみむめもやゆよらりるれろわをんゟてがぎぐげござじずぜぞだ'\n",
    "                     'ぢづでどばぱびぴぶぷべぺぼぽゔゝゞぁぃぅぇぉっゃゅょゎゕゖ゛゜'):\n",
    "    if exists(c) and not c in 'ゐゑ\\u3099\\u309A': s += c+' '\n",
    "    if j%24==23: s += '\\n'\n",
    "\n",
    "print2(s)\n",
    "#save_snapshot('extras')"
   ]
  },
  {
   "cell_type": "code",
   "execution_count": 253,
   "id": "46dd544a-4b8f-46fc-bec0-8f6520df6288",
   "metadata": {},
   "outputs": [
    {
     "name": "stdout",
     "output_type": "stream",
     "text": [
      "(done)                                     \n"
     ]
    },
    {
     "data": {
      "image/png": "[encoded data removed]",
      "text/plain": [
       "<Figure size 320x240 with 1 Axes>"
      ]
     },
     "metadata": {
      "needs_background": "light"
     },
     "output_type": "display_data"
    }
   ],
   "source": [
    "s=reset+hidecursor\n",
    "s+='Box and Block-Drawing Characters 0x2500-0x259F:\\n\\n'\n",
    "#\"\"\"\n",
    "s+='─━│┃┄┅┆┇┈┉┊┋┌┍┎┏┐┑┒┓└┕┖┗┘┙┚┛├┝┞┟┠┡┢┣┤┥┦┧┨┩┪┫┬┭┮┯\\n'\n",
    "s+='┰┱┲┳┴┵┶┷┸┹┺┻┼┽┾┿╀╁╂╃╄╅╆╇╈╉╊╋╌╍╎╏═║╒╓╔╕╖╗╘╙╚╛╜╝╞╟\\n'\n",
    "s+='╠╡╢╣╤╥╦╧╨╩╪╫╬╭╮╯╰╱╲╳╴╵╶╷╸╹╺╻╼╽╾╿▀▁▂▃▄▅▆▇█▉▊▋▌▍▎▏\\n'\n",
    "s+='▐░▒▓▔▕▖▗▘▙▚▛▜▝▞▟\\n\\n'\n",
    "\n",
    "#\"\"\"\n",
    "s+='   ╱╲   ┌───┐ ┏━━━┓\\n'\n",
    "s+=' ╱╳╳╳╳╲ │▐█▌├┈┨▝ ▖┣╸╺╸╺╍╍┅┅┉┉━┑\\n'\n",
    "s+=' ╲╳╳╳╳╱ └─┬─┘ ┗━━━┛  ╔═══╗  ╒═╧═╕\\n'\n",
    "s+='   ╲╱     ╰─╌╌┄┄┈┈╼━═╣   ╟──┤   ┆\\n'\n",
    "s+='                     ╚═══╝  ╘═══╛\\n'\n",
    "s+='  ▟▙▝▞▞▝▛▞▙▙▝▞▌▀▖▙\\n'\n",
    "s+='  ▌▟▝▘▛▝▜▚▙ ▙▝▀▛▚▖\\n'\n",
    "s+='  ▞▀█▛▜ ▛▚▟▀▝█▗▞▛▛\\n'\n",
    "\n",
    "print2(s)\n",
    "time.sleep(pauseaftershow)\n",
    "#save_snapshot('semigraphics')"
   ]
  },
  {
   "cell_type": "markdown",
   "id": "6d875884-aeb4-4495-99b2-1f4dbc17631b",
   "metadata": {},
   "source": [
    "```\n",
    "!\"#$%&'()*+,-./0123456789:;<=>?@ABCDEFGHIJKLMNOPQRSTUVWXYZ[\\]^_`abcdefghijklmnopqrstuvwxyz{|}¡¢£\n",
    "¤¥¦§¨©ª«¬®¯°±²³´µ¶·¸¹º»¼½¾¿ÀÁÂÃÄÅÆÇÈÉÊËÌÍÎÏÐÑÒÓÔÕÖ×ØÙÚÛÜÝÞßàáâãäåæçèéêëìíîïðñòóôõö÷øùúûüýþÿĀāĂăĄ\n",
    "ąĆćĈĉĊċČčĎďĐđĒēĔĕĖėĘęĚěĜĝĞğĠġĢģĤĥĦħĨĩĪīĬĭĮįİıĲĳĴĵĶķĸĹĺĻļĽľĿŀŁłŃńŅņŇňŉŊŋŌōŎŏŐőŒœŔŕŖŗŘřŚśŜŝŞşŠšŢţŤ\n",
    "ťŦŧŨũŪūŬŭŮůŰűŲųŴŵŶŷŸŹźŻżŽžſƀƁƂƄƅƆƇƉƊƋƍƎƏƐƒƓƔƖƗƘƚƞƟƤƦƧƨƩƫƱƵƶƷƸƹƻƼƿǀǁǂǃǄǅǆǇǈǉǊǋǌǍǎǏǐǑǒǓǔǝǢǣǦǧǨǩǪǫǮ\n",
    "ǯǰǱǲǳǴǸǹǼǽȀȁȂȃȄȅȆȇȈȉȊȋȌȍȎȏȐȑȒȓȔȕȖȗȘșȚțȜȝȞȟȠȢȣȤȥȦȧȨȩȮȯȲȳȷȸȹȺȻȼȽȾɁɄɅɆɇɈɉɌɍɎɏɑɒɔɘəɛɜɟɢɣɨɩɪɯɰɱɴɵɸʀʁʋ\n",
    "ʍʏʒʔʘʙʜʟʹʻʼˆˇˈˉˊˋː˗˘˙˚˛˜˝˴˸ ̀ ́ ̂ ̃ ̄ ̅ ̆ ̇ ̈ ̉ ̊ ̋ ̌ ̍ ̎ ̏ ̐ ̑ ̒ ̓ ̔ ̕ ̖ ̗ ̘ ̙ ̚ ̛ ̜ ̝ ̞ ̟ ̠ ̡ ̢ ̣ ̤ ̥ ̦ ̧ ̨ ̩ ̪ ̫ ̬ ̭ ̮ ̯ ̰ ̱ ̲ ̳ ̴ ̵ ̶ ̷ ̸ ̹ ̻ ̼ ̽ ̾ ̿ ̀ ́ ͂ ̈́ ͅ ͆\n",
    " ͇ ͈ ͉ ͊ ͋ ͌ ͍ ͎ ͐ ͑ ͒ ͓ ͔ ͕ ͖ ͗ ͘ ͙ ͚ ͛ͰͱͲͳʹ͵Ͷͷͺͻͼ;Ϳ΄΅Ά·ΈΉΊΌΎΏΐΑΒΓΔΕΖΗΘΙΚΛΜΝΞΟΠΡΣΤΥΦΧΨΩΪΫάέήίΰαβγδεζηθικλμνξοπρςστυ\n",
    "φχψωϊϋόύώϏϐϑϒϓϔϕϖϗϘϙϚϛϜϝϞϟϠϡϢϣϤϥϦϧϨϩϬϭϮϯϰϱϲϳϴϵ϶ϷϸϹϺϻϽϾЀЁЂЃЄЅІЇЈЉЊЋЌЍЎЏАБВГДЕЖЗИЙКЛМНОПРСТУФХЦЧШЩ\n",
    "ЪЫЬЭЮЯабвгдежзийклмнопрстуфхцчшщъыьэюяѐёђѓєѕіїјљњћќѝўџѠѡѢѣѤѥѦѧѨѩѪѫѬѭѮѯѰѱѲѳѴѵѶѷѸѹѺѻѼѽѾѿҁ҂ҌҍҐґҒҔҕҖ\n",
    "җҘҚқҞҟҢңҨҩҪҫҬҭҮҰҲҳҶҷҺһҽӀӁӂӃӄӅӆӇӈӉӊӋӌӍӎӏӐӑӒӓӔӕӖӗӘәӚӜӝӞӠӡӢӣӤӥӦӧӨөӪӮӯӰӱӲӳӴӵӶӷӸӹӼӽԀԁԌԍԐԑԚԛԜԝԤԥԦԧԮԯԱԲ\n",
    "ԳԴԵԶԷԸԹԺԻԼԽԾԿՀՁՂՃՄՅՆՇՈՉՊՋՌՍՎՏՐՑՒՓՔՕՖՙ՚՛՝՞ՠաբգդեզէըթժիլխծկհձղճմյնշոչպջռսվտրցւփքօֆևֈ։֊֍֎֏ ऀ ँ ं ःऄअआइई\n",
    "उऊऋऌऍऎएऐऑऒओऔकखगघङचछजझञटठडढणतथदधनऩपफबभमयरऱलळऴवशषसह ऺ ऻ ़ऽ ा ु ू ृ ॄ ॅ ॆ े ै ॉ ॊ ो ौ ्ॐ ॑ ॒ ॓ ॔ ॕ ॖ ॗक़ख़ग़ज़ड़ढ़फ़य़ॠॡ ॢ।॥०१२३४५६७\n",
    "८९॰ॱॹॺॻॼॽॾॿႹႽჍაბგდევზთიკლმნოპჟრსტუფქღყშჩცძწჭხჯჰჱჲჳჴჵჶჷჸჹჺ჻ჼჽჾჿḂḃḄḅḆḇḊḋḌḍḎḏḐḑḒḓḘḙḚḛḞḟḠḡḢḣḤḥḦḧḨḩḪḫ\n",
    "ḬḭḰḱḲḳḴḵḶḷḺḻḼḽḾḿṀṁṂṃṄṅṆṇṈṉṊṋṔṕṖṗṘṙṚṛṞṟṠṡṢṣṪṫṬṭṮṯṰṱṲṳṴṵṶṷṼṽṾṿẀẁẂẃẄẅẆẇẈẉẊẋẌẍẎẏẐẑẒẓẔẕẖẗẘẙẚẛẜẞẟẠạẢảẸ\n",
    "ẹẺẻẼẽỈỉỊịỌọỎỏỤụỦủỲỳỴỵỶỷỸỹỼỽỿ᾽ι᾿´῾‐‑‒–—―‖‘’‚“”„‟†‡•․…‧‰‱′‵‹›‼‽⁋⁚⁰ⁱ⁴⁵⁶⁷⁸⁹⁺⁻⁼⁽⁾ⁿ₀₁₂₃₄₅₆₇₈₉₊₋₌₍₎₧₩₪€\n",
    "₮₰₳₸₹₺₽₾₿ℂ℃℅℆ℇ℈℉ℊℋℌℍℎℏℐℑℒℓℕ№ℙℚℛℜℝ℞™ℤΩ℧ℨKÅℬℭ℮ℯℰℱℲℳℴℵℹℽℾℿ⅀⅁⅂⅃⅄ⅅⅆⅇⅈⅉ⅐⅑⅒⅓⅔⅕⅖⅗⅘⅙⅚⅛⅜⅝⅞⅟ⅠⅡⅢⅣⅤⅥⅨⅩⅪⅬⅭⅮⅯⅰⅱ\n",
    "ⅲⅳⅴⅵⅸⅹⅺⅼⅽⅾⅿↀↁↃↄↅↆↇ↉↊↋←↑→↓↔↕↖↗↘↙↞↟↠↡↨↯↰↱↲↳↴↵↶↷↹↺↻↼↽↾↿⇀⇁⇂⇃⇄⇐⇒⇕⇠⇡⇢⇣⇧⇨⇳⇽⇾∀∁∂∃∅∆∇∈∊∍∎∏∑−∓∕∖∗∘∙√∞∟∣∥∨∩\n",
    "∪∫∬∶≈≠≡≤≥⊙⊤⊥⊳⋁⋂⋃⋄⋅⋿⌐⌠⌡⍳⍴⍵⍶⍷⍸⍹⍺①②③④⑤⑥⑦⑧⑨⑩⑪⑫⑬⑭⑮⑯⑰⑱⑲⑳⑴⑵⑶⑷⑸⑹⑺⑻⑼⑽⑾⑿⒀⒁⒂⒃⒄⒅⒆⒇⒈⒉⒊⒋⒌⒍⒎⒏⒐⒑⒒⒓⒔⒕⒖⒗⒘⒙⒚⒛⒜⒝⒞⒟⒠⒡\n",
    "⒢⒣⒤⒥⒦⒧⒨⒩⒪⒫⒬⒭⒮⒯⒰⒱⒲⒳⒴⒵ⒶⒷⒸⒹⒺⒻⒼⒽⒾⒿⓀⓁⓂⓃⓄⓅⓆⓇⓈⓉⓊⓋⓌⓍⓎⓏⓐⓑⓒⓓⓔⓕⓖⓗⓘⓙⓚⓛⓜⓝⓞⓟⓠⓡⓢⓣⓤⓥⓦⓧⓨⓩ⓪⓫⓬⓭⓮⓯⓰⓱⓲⓳⓴⓵⓶⓷⓸⓹⓺⓻⓼⓽⓾⓿─━\n",
    "│┃┄┅┆┇┈┉┊┋┌┍┎┏┐┑┒┓└┕┖┗┘┙┚┛├┝┞┟┠┡┢┣┤┥┦┧┨┩┪┫┬┭┮┯┰┱┲┳┴┵┶┷┸┹┺┻┼┽┾┿╀╁╂╃╄╅╆╇╈╉╊╋╌╍╎╏═║╒╓╔╕╖╗╘╙╚╛╜╝╞╟╠╡\n",
    "╢╣╤╥╦╧╨╩╪╫╬╭╮╯╰╱╲╳╴╵╶╷╸╹╺╻╼╽╾╿▀▁▂▃▄▅▆▇█▉▊▋▌▍▎▏▐░▒▓▔▕▖▗▘▙▚▛▜▝▞▟■□▬▲△▴▵▶▷▹►▻▼▽▾▿◀◄◆◇◈◊○◌◎◐◑◒◓◔◕◖◗◘\n",
    "◙◢◣◤◥◦◯◴◵◶◷◻◼◽◾★☉☐☑☒☥☦☧☨☩☺☻☼♀♂♠♡♢♣♤♥♦♧♩♪♫♬♰♱⚆⚇⚈⚉⚠⚪⚫⚬⛛⛤⛥⛦✀✁✂✃✄✅✓✔✕✖✗✘✙✚✛✜✝✞✟✠✡✢✣✤✥✦✧✨✩✪✫✬✭✮✯✰✱✲✳✴\n",
    "✵✶✷✸✹✺✻✼✽✾✿❀❁❂❃❄❅❆❇❈❉❊❋❌❍❎❓❔❕❖❗❘❙❛❜❝❞❟❠❡❢❣❤❥❦❧❨❪❬❮❰❲❴❶❷❸❹❺❻❼❽❾❿➀➁➂➃➄➅➆➇➈➉➊➋➌➍➎➏➐➑➒➓➔➕➖➗➛➜➡➢➣➤➲⠁⠂\n",
    "⠃⠄⠅⠆⠇⠈⠉⠊⠋⠌⠍⠎⠏⠐⠑⠒⠓⠔⠕⠖⠗⠘⠙⠚⠛⠜⠝⠞⠟⠠⠡⠢⠣⠤⠥⠦⠧⠨⠩⠪⠫⠬⠭⠮⠯⠰⠱⠲⠳⠴⠵⠶⠷⠸⠹⠺⠻⠼⠽⠾⠿⡀⡁⡂⡃⡄⡅⡆⡇⡈⡉⡊⡋⡌⡍⡎⡏⡐⡑⡒⡓⡔⡕⡖⡗⡘⡙⡚⡛⡜⡝⡞⡟⡠⡡⡢\n",
    "⡣⡤⡥⡦⡧⡨⡩⡪⡫⡬⡭⡮⡯⡰⡱⡲⡳⡴⡵⡶⡷⡸⡹⡺⡻⡼⡽⡾⡿⢀⢁⢂⢃⢄⢅⢆⢇⢈⢉⢊⢋⢌⢍⢎⢏⢐⢑⢒⢓⢔⢕⢖⢗⢘⢙⢚⢛⢜⢝⢞⢟⢠⢡⢢⢣⢤⢥⢦⢧⢨⢩⢪⢫⢬⢭⢮⢯⢰⢱⢲⢳⢴⢵⢶⢷⢸⢹⢺⢻⢼⢽⢾⢿⣀⣁⣂\n",
    "⣃⣄⣅⣆⣇⣈⣉⣊⣋⣌⣍⣎⣏⣐⣑⣒⣓⣔⣕⣖⣗⣘⣙⣚⣛⣜⣝⣞⣟⣠⣡⣢⣣⣤⣥⣦⣧⣨⣩⣪⣫⣬⣭⣮⣯⣰⣱⣲⣳⣴⣵⣶⣷⣸⣹⣺⣻⣼⣽⣾⣿⤌⤍⤎⤏⤐⤑⤫⤬⥀⥁⥊⥋⥌⥍⬁⬄⬆⬉⬌⬍⬤⬥⬦⬩⬷⬸⭠⭡⭢⭣⭪⭫⭬⭭⮉\n",
    "⮊⮋⮘⮙⮚⮛⮜⮝⮞⮟⯁⯅⯆⯇⯈⯬⯭⯮⯯ⱣⱧⱨⱩⱪⱫⱬⱮⱯⱲⱵⱶぁあぃいぅうぇえぉおかがきぎくぐけげこごさざしじすずせぜそぞただちぢっつづてでとどなにぬねのはばぱひびぴふぶぷへべぺほぼぽまみむめ\n",
    "もゃやゅゆょよらりるれろゎわをんゔゕゖ ゙ ゚゛゜ゝゞゟ゠ァアィイゥウェエォオカガキギクグケゲコゴサザシジスズセゼソゾタダチヂッツヅテデトドナニヌネノハバパヒビピフブプヘベペホボポマミムメモャヤュ\n",
    "ユョヨラリルレロヮワヰヱヲンヴヵヶヷヸヹヺ・ーヽヾヿㇲㇳㇴㇵㇶꓐꓑꓒꓓꓔꓕꓖꓗꓘꓙꓚꓛꓜꓝꓞꓟꓠꓡꓢꓣꓤꓥꓦꓧꓨꓩꓪꓫꓬꓭꓮꓯꓰꓱꓲꓳꓴꓵꓶꓷꓸꓹꓼꓽ꓿ꙄꙅꙇꙊꙋꙌꙍꙖꙗꙜꙞꙨꙩꙪꙫꙬꙭꙮ꙾Ꚁ\n",
    "ꚁꚂꚃꚖꚗꜦꜧꜩꜫꜱꝀꝁꝂꝃꝈꝉꝊꝋꝎꝏꝮꝯꝰꝸꞀꞃꞅꞈ꞉꞊ꞋꞌꞍꞏꞐꞑꞔꞕꞘꞟꞫꞰꞱꞲꞳꞴꞵꞶꞷꟄꟆꟺꟻꟼꟽꬲꬽꭎꭒꭚﬀﬁﬂﬃﬄﬅﬆ𝐀𝐁𝐂𝐃𝐄𝐅𝐆𝐇𝐈𝐉𝐊𝐋𝐌𝐍𝐎𝐏𝐐𝐑𝐒𝐓𝐔𝐕𝐖𝐗𝐘𝐙𝐚𝐛𝐜\n",
    "𝐝𝐞𝐟𝐠𝐡𝐢𝐣𝐤𝐥𝐦𝐧𝐨𝐩𝐪𝐫𝐬𝐭𝐮𝐯𝐰𝐱𝐲𝐳𝐴𝐵𝐶𝐷𝐸𝐹𝐺𝐻𝐼𝐽𝐾𝐿𝑀𝑁𝑂𝑃𝑄𝑅𝑆𝑇𝑈𝑉𝑊𝑋𝑌𝑍𝑎𝑏𝑐𝑑𝑒𝑓𝑔𝑕𝑖𝑗𝑘𝑙𝑚𝑛𝑜𝑝𝑞𝑟𝑠𝑡𝑢𝑣𝑤𝑥𝑦𝑧𝑨𝑩𝑪𝑫𝑬𝑭𝑮𝑯𝑰𝑱𝑲𝑳𝑴𝑵𝑶𝑷𝑸𝑹𝑺𝑻𝑼\n",
    "𝑽𝑾𝑿𝒀𝒁𝒂𝒃𝒄𝒅𝒆𝒇𝒈𝒉𝒊𝒋𝒌𝒍𝒎𝒏𝒐𝒑𝒒𝒓𝒔𝒕𝒖𝒗𝒘𝒙𝒚𝒛𝒜𝒝𝒞𝒟𝒠𝒡𝒢𝒣𝒤𝒥𝒦𝒧𝒨𝒩𝒪𝒫𝒬𝒭𝒮𝒯𝒰𝒱𝒲𝒳𝒴𝒵𝒶𝒷𝒸𝒹𝒺𝒻𝒼𝒽𝒾𝒿𝓀𝓁𝓂𝓃𝓄𝓅𝓆𝓇𝓈𝓉𝓊𝓋𝓌𝓍𝓎𝓏𝓐𝓑𝓒𝓓𝓔𝓕𝓖𝓗𝓘𝓙𝓚𝓛𝓜\n",
    "𝓝𝓞𝓟𝓠𝓡𝓢𝓣𝓤𝓥𝓦𝓧𝓨𝓩𝓪𝓫𝓬𝓭𝓮𝓯𝓰𝓱𝓲𝓳𝓴𝓵𝓶𝓷𝓸𝓹𝓺𝓻𝓼𝓽𝓾𝓿𝔀𝔁𝔂𝔃𝔄𝔅𝔆𝔇𝔈𝔉𝔊𝔋𝔌𝔍𝔎𝔏𝔐𝔑𝔒𝔓𝔔𝔕𝔖𝔗𝔘𝔙𝔚𝔛𝔜𝔝𝔞𝔟𝔠𝔡𝔢𝔣𝔤𝔥𝔦𝔧𝔨𝔩𝔪𝔫𝔬𝔭𝔮𝔯𝔰𝔱𝔲𝔳𝔴𝔵𝔶𝔷𝔸𝔹𝔺𝔻𝔼\n",
    "𝔽𝔾𝔿𝕀𝕁𝕂𝕃𝕄𝕅𝕆𝕇𝕈𝕉𝕊𝕋𝕌𝕍𝕎𝕏𝕐𝕑𝕒𝕓𝕔𝕕𝕖𝕗𝕘𝕙𝕚𝕛𝕜𝕝𝕞𝕟𝕠𝕡𝕢𝕣𝕤𝕥𝕦𝕧𝕨𝕩𝕪𝕫𝕬𝕭𝕮𝕯𝕰𝕱𝕲𝕳𝕴𝕵𝕶𝕷𝕸𝕹𝕺𝕻𝕼𝕽𝕾𝕿𝖀𝖁𝖂𝖃𝖄𝖅𝖆𝖇𝖈𝖉𝖊𝖋𝖌𝖍𝖎𝖏𝖐𝖑𝖒𝖓𝖔𝖕𝖖𝖗𝖘𝖙𝖚𝖛𝖜\n",
    "𝖝𝖞𝖟𝖠𝖡𝖢𝖣𝖤𝖥𝖦𝖧𝖨𝖩𝖪𝖫𝖬𝖭𝖮𝖯𝖰𝖱𝖲𝖳𝖴𝖵𝖶𝖷𝖸𝖹𝖺𝖻𝖼𝖽𝖾𝖿𝗀𝗁𝗂𝗃𝗄𝗅𝗆𝗇𝗈𝗉𝗊𝗋𝗌𝗍𝗎𝗏𝗐𝗑𝗒𝗓𝗔𝗕𝗖𝗗𝗘𝗙𝗚𝗛𝗜𝗝𝗞𝗟𝗠𝗡𝗢𝗣𝗤𝗥𝗦𝗧𝗨𝗩𝗪𝗫𝗬𝗭𝗮𝗯𝗰𝗱𝗲𝗳𝗴𝗵𝗶𝗷𝗸𝗹𝗺𝗻𝗼\n",
    "𝗽𝗾𝗿𝘀𝘁𝘂𝘃𝘄𝘅𝘆𝘇𝘈𝘉𝘊𝘋𝘌𝘍𝘎𝘏𝘐𝘑𝘒𝘓𝘔𝘕𝘖𝘗𝘘𝘙𝘚𝘛𝘜𝘝𝘞𝘟𝘠𝘡𝘢𝘣𝘤𝘥𝘦𝘧𝘨𝘩𝘪𝘫𝘬𝘭𝘮𝘯𝘰𝘱𝘲𝘳𝘴𝘵𝘶𝘷𝘸𝘹𝘺𝘻𝘼𝘽𝘾𝘿𝙀𝙁𝙂𝙃𝙄𝙅𝙆𝙇𝙈𝙉𝙊𝙋𝙌𝙍𝙎𝙏𝙐𝙑𝙒𝙓𝙔𝙕𝙖𝙗𝙘𝙙𝙚𝙛𝙜\n",
    "𝙝𝙞𝙟𝙠𝙡𝙢𝙣𝙤𝙥𝙦𝙧𝙨𝙩𝙪𝙫𝙬𝙭𝙮𝙯𝙰𝙱𝙲𝙳𝙴𝙵𝙶𝙷𝙸𝙹𝙺𝙻𝙼𝙽𝙾𝙿𝚀𝚁𝚂𝚃𝚄𝚅𝚆𝚇𝚈𝚉𝚊𝚋𝚌𝚍𝚎𝚏𝚐𝚑𝚒𝚓𝚔𝚕𝚖𝚗𝚘𝚙𝚚𝚛𝚜𝚝𝚞𝚟𝚠𝚡𝚢𝚣𝚤𝚥𝚨𝚩𝚪𝚫𝚬𝚭𝚮𝚯𝚰𝚱𝚲𝚳𝚴𝚵𝚶𝚷𝚸𝚹𝚺𝚻𝚼𝚽𝚾\n",
    "𝚿𝛀𝛁𝛂𝛃𝛄𝛅𝛆𝛇𝛈𝛉𝛊𝛋𝛌𝛍𝛎𝛏𝛐𝛑𝛒𝛓𝛔𝛕𝛖𝛗𝛘𝛙𝛚𝛛𝛜𝛝𝛞𝛟𝛠𝛡𝛢𝛣𝛤𝛥𝛦𝛧𝛨𝛩𝛪𝛫𝛬𝛭𝛮𝛯𝛰𝛱𝛲𝛳𝛴𝛵𝛶𝛷𝛸𝛹𝛺𝛻𝛼𝛽𝛾𝛿𝜀𝜁𝜂𝜃𝜄𝜅𝜆𝜇𝜈𝜉𝜊𝜋𝜌𝜍𝜎𝜏𝜐𝜑𝜒𝜓𝜔𝜕𝜖𝜗𝜘𝜙𝜚𝜛𝜜𝜝𝜞\n",
    "𝜟𝜠𝜡𝜢𝜣𝜤𝜥𝜦𝜧𝜨𝜩𝜪𝜫𝜬𝜭𝜮𝜯𝜰𝜱𝜲𝜳𝜴𝜵𝜶𝜷𝜸𝜹𝜺𝜻𝜼𝜽𝜾𝜿𝝀𝝁𝝂𝝃𝝄𝝅𝝆𝝇𝝈𝝉𝝊𝝋𝝌𝝍𝝎𝝏𝝐𝝑𝝒𝝓𝝔𝝕𝝖𝝗𝝘𝝙𝝚𝝛𝝜𝝝𝝞𝝟𝝠𝝡𝝢𝝣𝝤𝝥𝝦𝝧𝝨𝝩𝝪𝝫𝝬𝝭𝝮𝝯𝝰𝝱𝝲𝝳𝝴𝝵𝝶𝝷𝝸𝝹𝝺𝝻𝝼𝝽𝝾\n",
    "𝝿𝞀𝞁𝞂𝞃𝞄𝞅𝞆𝞇𝞈𝞉𝞊𝞋𝞌𝞍𝞎𝞏𝞐𝞑𝞒𝞓𝞔𝞕𝞖𝞗𝞘𝞙𝞚𝞛𝞜𝞝𝞞𝞟𝞠𝞡𝞢𝞣𝞤𝞥𝞦𝞧𝞨𝞩𝞪𝞫𝞬𝞭𝞮𝞯𝞰𝞱𝞲𝞳𝞴𝞵𝞶𝞷𝞸𝞹𝞺𝞻𝞼𝞽𝞾𝞿𝟀𝟁𝟂𝟃𝟄𝟅𝟆𝟇𝟈𝟉𝟊𝟋𝟎𝟏𝟐𝟑𝟒𝟓𝟔𝟕𝟖𝟗𝟘𝟙𝟚𝟛𝟜𝟝𝟞𝟟𝟠\n",
    "𝟡𝟢𝟣𝟤𝟥𝟦𝟧𝟨𝟩𝟪𝟫𝟬𝟭𝟮𝟯𝟰𝟱𝟲𝟳𝟴𝟵𝟶𝟷𝟸𝟹𝟺𝟻𝟼𝟽𝟾𝟿🎔🎜🎝🎧🏵🏶👆👇👈👉👍👎👻👾💀💉💎💓💔💕💖💗💘💙💚💛💜💝💞💟💠💲💴💹💽💾💿📀📇📞🔆🔇🔈🔉🔊🔛🔜🔝🔴🔵🔶🔷🔸🔹🔺🔻🔼🔾🔿🕀🕁🕂🕆🕇🕈\n",
    "🕨🕩🕪🕻🕼🕽🕾🕿🖀🖁🖒🖓🖗🖘🖙🖚🖛🖜🖝🖞🖟🖠🖡🖢🖣🖤🖪🖫🖬🗅🗆🗇🗈🗉🗊🗋🗌🗍🗎🗏🗐🗑🗒🗴🗵🗶🗹🠅🠆🠉🠊🠔🠕🠖🠗🠙🠚🠝🠞🠤🠥🠦🠧🠩🠪🠭🠮🠱🠲🠸🠹🠺🠻🠽🠿🡀🡁🡂🡃🡄🡅🡆🡇🡐🡑🡒🡓🡔🡕🡖🡗🡘🡙🡨🡬🡭\n",
    "🡮🡯🡶🡾🢆🢐🢑🢒🢓🬀🬁🬂🬃🬄🬅🬆🬇🬈🬉🬊🬋🬌🬍🬎🬏🬐🬑🬒🬓🬔🬕🬖🬗🬘🬙🬚🬛🬜🬝🬞🬟🬠🬡🬢🬣🬤🬥🬦🬧🬨🬩🬪🬫🬬🬭🬮🬯🬰🬱🬲🬳🬴🬵🬶🬷🬸🬹🬺🬻🬼🬽🬾🬿🭀🭁🭂🭃🭄🭅🭆🭇🭈🭉🭊🭋🭌🭍🭎🭏🭐🭑🭒🭓🭔🭕🭖\n",
    "🭗🭘🭙🭚🭛🭜🭝🭞🭟🭠🭡🭢🭣🭤🭥🭦🭧🭨🭩🭪🭫🭬🭭🭮🭯🭰🭱🭲🭳🭴🭵🭶🭷🭸🭹🭺🭻🭼🭽🭾🭿🮀🮁🮂🮃🮄🮅🮆🮇🮈🮉🮊🮋🮌🮍🮎🮏🮐🮑🮒🮓🮔🮕🮖🮗🮘🮙🮚🮛🮜🮝🮞🮟🮠🮡🮢🮣🮤🮥🮦🮧🮨🮩🮪🮫🮬🮭🮮🮯🮰🮱🮲🮳🮴🮵🮶\n",
    "🮷🮸🮹🮺🮻🮼🮽🮾🮿🯀🯁🯂🯃🯄🯅🯆🯇🯈🯉🯊🯋🯌🯍🯎🯏🯐🯰🯱🯲🯳🯴🯵🯶🯷🯸🯹                                                            \n",
    "```"
   ]
  },
  {
   "cell_type": "code",
   "execution_count": 254,
   "id": "c924e11b-8e4b-493c-b509-b87a81532cc3",
   "metadata": {},
   "outputs": [
    {
     "name": "stdout",
     "output_type": "stream",
     "text": [
      "(done)                                     \n"
     ]
    },
    {
     "data": {
      "image/png": "[encoded data removed]",
      "text/plain": [
       "<Figure size 320x240 with 1 Axes>"
      ]
     },
     "metadata": {
      "needs_background": "light"
     },
     "output_type": "display_data"
    }
   ],
   "source": [
    "core_support = (''' !\"#$%&\\'()*+,-./0123456789:;<=>?@ABCDEFGHIJKLMNOPQRSTUVWXYZ[]^_`'''\n",
    "                '''abcdefghijklmnopqrstuvwxyz{|}~ ¡¢£¤¥¦§¨©ª«¬®¯°±²³´µ¶·¸¹º»¼½¾¿'''\n",
    "                '''ÀÁÂÃÄÅÆÇÈÉÊËÌÍÎÏÐÑÒÓÔÕÖ×ØÙÚÛÜÝÞßàáâãäåæçèéêëìíîïðñòóôõö÷øùúûüýþÿ'''\n",
    "                '''ĀāĂăĄąĆćĈĉĊċČčĎďĐđĒēĖėĘęĚěĜĝĞğĠġĢģĤĥĦħĪīĮįİıĴĵĶķĹĺĻļĽľŁłŃńŅņŇňŌōŐőŒœ'''\n",
    "                '''ŔŕŖŗŘřŚśŜŝŞşŠšŢţŤťŪūŬŭŮůŰűŲųŴŵŶŷŸŹźŻżŽžƒȘșȚțˆˇˉ˘˙˛˜˝΄΅ΆΈΉΊΌΎΏΐΑΒΓΔΕΖΗ'''\n",
    "                '''ΘΙΚΛΜΝΞΟΠΡΣΤΥΦΧΨΩΪΫάέήίΰαβγδεζηθικλμνξοπρςστυφχψωϊϋόύώϳϴЀЁЂЃЄЅІЇЈЉЊЋЌЍЎЏ'''\n",
    "                '''АБВГДЕЖЗИЙКЛМНОПРСТУФХЦЧШЩЪЫЬЭЮЯабвгдежзийклмнопрстуфхцчшщъыьэюяѐёђѓєѕіїј'''\n",
    "                '''љњћќѝўџҐґҮӐӑḂḃḊḋḞḟṀṁṖṗṠṡṪṫẀẁẂẃẄẅỲỳ‐‒–—―‘’‚“”„†‡•…‰‹›‼ⁿ₧€№™Ω←↑→↓∆−∙√∞∩≈≠≡≤≥⌐⌠⌡'''\n",
    "                '''①②③④⑤⑥⑦⑧⑨⓪─━│┃┌┏┐┓└┗┘┛├┝┠┣┤┥┨┫┬┯┰┳┴┷┸┻┼┿╂╋╪╬█░▒■▲▼◊●''')\n",
    "s=reset\n",
    "s+='github.com/ehmicky/cross-platform-terminal-characters\\n\\n'\n",
    "s+=core_support\n",
    "print2(s)\n",
    "time.sleep(pauseaftershow)\n",
    "#save_snapshot('cross-platorm')"
   ]
  },
  {
   "cell_type": "code",
   "execution_count": 257,
   "id": "e3ce2196-06e1-43f4-8b1b-c86044a04c60",
   "metadata": {},
   "outputs": [
    {
     "name": "stdout",
     "output_type": "stream",
     "text": [
      "(done)                                     \n"
     ]
    },
    {
     "data": {
      "image/png": "[encoded data removed]",
      "text/plain": [
       "<Figure size 320x240 with 1 Axes>"
      ]
     },
     "metadata": {
      "needs_background": "light"
     },
     "output_type": "display_data"
    }
   ],
   "source": [
    "print2(reset+\\\n",
    "       \"Legacy Computing Characters (some custom additions):\\n\\n\"+\\\n",
    "('\\n'+' '*10+\"🭵🮀🮁🮁🮁🮁🮁🮁🮁🮁🮁🮁🮁🮁🮁🮁🮁🮁🮁🮁🮁🮁🮁🮁🮁🮁🮀🮼\"+\\\n",
    "'\\n'+' '*10+\"🭵                          🮸\"+\\\n",
    "'\\n'+' '*10+\"🭵     🮲🮳 🯅 🯆 🯇 🯈 🯉         |  {\"+sty.ef.inverse+'ok'+sty.rs.inverse+'}'+\\\n",
    "'\\n'+' '*10+\"🭵                          |\"+\\\n",
    "'\\n'+' '*10+\"🭵  🯁🯂🯃 🮹🮺     🯰🯱 🯲🯳🯴🯵🯶🯷🯸🯹  .     🮰\"+\\\n",
    "'\\n'+' '*10+\"🭵                          |\"+\\\n",
    "'\\n'+' '*10+\"🭵🮵===========$============🮶🮷\"+\\\n",
    "'\\n'+' '*10+\n",
    "'\\n'+' '*10+\"   🯀 🯄 🮻 🮽 🮾 🮿 🮱 🮴 🮯 \"+\\\n",
    "'\\n'+' '*10+\n",
    "'\\n'+' '*10+\"   🮌 🮍 🮎 🮏 🮐 🮑 🮒 \\U0001fb93 🮔 🮕 \"+\\\n",
    "'\\n'+' '*10+\n",
    "'\\n'+' '*10+\"   🮖 🮗 🮘 🮙 🮚 🮛 🮜 🮝 🮞 🮟 \"\n",
    ")\n",
    "# Add ons: \n",
    ".replace('=','\\U0001fbcb') # Empty horizontal scroll bar\n",
    ".replace('$','\\U0001fbcc') # Horizontal scroll handle\n",
    ".replace('.','\\U0001fbcd') # Vertical scroll handle\n",
    ".replace('|','\\U0001fbce') # Empty vertical scroll bar\n",
    ".replace('{','\\U0001fbcf') # Left round button end\n",
    ".replace('}','\\U0001fbd0') # Right round button end\n",
    ")\n",
    "time.sleep(pauseaftershow)\n",
    "#save_snapshot('legacy')"
   ]
  },
  {
   "cell_type": "code",
   "execution_count": null,
   "id": "28998662-8df6-4dd4-a604-d31a00978a44",
   "metadata": {},
   "outputs": [],
   "source": [
    "\n",
    "print2(sty.rs.all + clearscreen + hidecursor)\n",
    "print2(goto(9,55//2-21)+fg(255,100,0)+'◖'+sty.ef.inverse+' github.com/michaelerule/ILI9341TTY  '+sty.rs.inverse+'◗')\n",
    "time.sleep(1)\n",
    "\n",
    "print2(goto(14,55//2-19)+fg(255,100,0)+' (sorry about the cracked screen)')"
   ]
  },
  {
   "cell_type": "markdown",
   "id": "4abae9d1-9655-4634-9d23-643b6e255ee2",
   "metadata": {},
   "source": [
    "# Inspect mapped unicode blocks"
   ]
  },
  {
   "cell_type": "code",
   "execution_count": null,
   "id": "3acb029a-2b77-4276-ae18-c57d21b7a5f5",
   "metadata": {},
   "outputs": [],
   "source": [
    "import sys\n",
    "sys.path.append('../prepare_fonts/')\n",
    "from font_utilities import get_unicode_blocks_information\n",
    "from CONFIG import *\n",
    "toprint = mapped_blocks + softmapped\n",
    "for b,(name,start,stop,N) in get_unicode_blocks_information().items(): \n",
    "    if b in mapped_blocks:\n",
    "        s = reset+name+'\\n'\n",
    "        for i in range(start,stop+1):\n",
    "            c = chr(i)\n",
    "            if exists(c): s += c\n",
    "        print2(s,delay=0)\n",
    "        print(s)\n",
    "        input(\"Press any key to continue...\")"
   ]
  },
  {
   "cell_type": "markdown",
   "id": "331c244c-710f-4bdc-b084-eb8acfd6944e",
   "metadata": {},
   "source": [
    "## Screen capture all mapped unicode blocks to see how characters render, and which are missing"
   ]
  },
  {
   "cell_type": "code",
   "execution_count": 259,
   "id": "a25290a7-7006-46cc-9bc7-2e1173fb6256",
   "metadata": {
    "collapsed": true,
    "jupyter": {
     "outputs_hidden": true,
     "source_hidden": true
    },
    "tags": []
   },
   "outputs": [
    {
     "name": "stdout",
     "output_type": "stream",
     "text": [
      "Group 0\n",
      "                                 !\"#$%&'()*+,-./\n",
      "0123456789:;<=>?@ABCDEFGHIJKLMNOPQRSTUVWXYZ[\\]^_\n",
      "`abcdefghijklmnopqrstuvwxyz{|}~                 \n",
      "                 ¡¢£¤¥¦§¨©ª«¬­®¯°±²³´µ¶·¸¹º»¼½¾¿\n",
      "ÀÁÂÃÄÅÆÇÈÉÊËÌÍÎÏÐÑÒÓÔÕÖ×ØÙÚÛÜÝÞßàáâãäåæçèéêëìíîï\n",
      "ðñòóôõö÷øùúûüýþÿĀāĂăĄąĆćĈĉĊċČčĎďĐđĒēĔĕĖėĘęĚěĜĝĞğ\n",
      "ĠġĢģĤĥĦħĨĩĪīĬĭĮįİıĲĳĴĵĶķĸĹĺĻļĽľĿŀŁłŃńŅņŇňŉŊŋŌōŎŏ\n",
      "ŐőŒœŔŕŖŗŘřŚśŜŝŞşŠšŢţŤťŦŧŨũŪūŬŭŮůŰűŲųŴŵŶŷŸŹźŻżŽžſ\n",
      "ƀƁƂƃƄƅƆƇƈƉƊƋƌƍƎƏƐƑƒƓƔƕƖƗƘƙƚƛƜƝƞƟƠơƢƣƤƥƦƧƨƩƪƫƬƭƮƯ\n",
      "ưƱƲƳƴƵƶƷƸƹƺƻƼƽƾƿǀǁǂǃǄǅǆǇǈǉǊǋǌǍǎǏǐǑǒǓǔǕǖǗǘǙǚǛǜǝǞǟ\n",
      "ǠǡǢǣǤǥǦǧǨǩǪǫǬǭǮǯǰǱǲǳǴǵǶǷǸǹǺǻǼǽǾǿȀȁȂȃȄȅȆȇȈȉȊȋȌȍȎȏ\n",
      "ȐȑȒȓȔȕȖȗȘșȚțȜȝȞȟȠȡȢȣȤȥȦȧȨȩȪȫȬȭȮȯȰȱȲȳȴȵȶȷȸȹȺȻȼȽȾȿ\n",
      "ɀɁɂɃɄɅɆɇɈɉɊɋɌɍɎɏɐɑɒɓɔɕɖɗɘəɚɛɜɝɞɟɠɡɢɣɤɥɦɧɨɩɪɫɬɭɮɯ\n",
      "ɰɱɲɳɴɵɶɷɸɹɺɻɼɽɾɿʀʁʂʃʄʅʆʇʈʉʊʋʌʍʎʏʐʑʒʓʔʕʖʗʘʙʚʛʜʝʞʟ\n",
      "ʠʡʢʣʤʥʦʧʨʩʪʫʬʭʮʯʰʱʲʳʴʵʶʷʸʹʺʻʼʽʾʿˀˁ˂˃˄˅ˆˇˈˉˊˋˌˍˎˏ\n",
      "ːˑ˒˓˔˕˖˗˘˙˚˛˜˝˞˟ˠˡˢˣˤ˥˦˧˨˩˪˫ˬ˭ˮ˯˰˱˲˳˴˵˶˷˸˹˺˻˼˽˾˿\n",
      " ̀ ́ ̂ ̃ ̄ ̅ ̆ ̇ ̈ ̉ ̊ ̋ ̌ ̍ ̎ ̏ ̐ ̑ ̒ ̓ ̔ ̕ ̖ ̗ ̘ ̙ ̚ ̛ ̜ ̝ ̞ ̟ ̠ ̡ ̢ ̣ ̤ ̥ ̦ ̧ ̨ ̩ ̪ ̫ ̬ ̭ ̮ ̯\n",
      " ̰ ̱ ̲ ̳ ̴ ̵ ̶ ̷ ̸ ̹ ̺ ̻ ̼ ̽ ̾ ̿ ̀ ́ ͂ ̓ ̈́ ͅ ͆ ͇ ͈ ͉ ͊ ͋ ͌ ͍ ͎ ͏ ͐ ͑ ͒ ͓ ͔ ͕ ͖ ͗ ͘ ͙ ͚ ͛ ͜ ͝ ͞ ͟\n",
      " ͠ ͡ ͢ ͣ ͤ ͥ ͦ ͧ ͨ ͩ ͪ ͫ ͬ ͭ ͮ ͯͰͱͲͳʹ͵Ͷͷ͸͹ͺͻͼͽ;Ϳ΀΁΂΃΄΅Ά·ΈΉΊ΋Ό΍ΎΏ\n",
      "ΐΑΒΓΔΕΖΗΘΙΚΛΜΝΞΟΠΡ΢ΣΤΥΦΧΨΩΪΫάέήίΰαβγδεζηθικλμνξο\n",
      "209332.6683291771\n",
      "(done)                                     \n"
     ]
    },
    {
     "data": {
      "image/png": "[encoded data removed]",
      "text/plain": [
       "<Figure size 320x240 with 1 Axes>"
      ]
     },
     "metadata": {
      "needs_background": "light"
     },
     "output_type": "display_data"
    },
    {
     "name": "stdout",
     "output_type": "stream",
     "text": [
      "Group 1\n",
      "πρςστυφχψωϊϋόύώϏϐϑϒϓϔϕϖϗϘϙϚϛϜϝϞϟϠϡϢϣϤϥϦϧϨϩϪϫϬϭϮϯ\n",
      "ϰϱϲϳϴϵ϶ϷϸϹϺϻϼϽϾϿЀЁЂЃЄЅІЇЈЉЊЋЌЍЎЏАБВГДЕЖЗИЙКЛМНОП\n",
      "РСТУФХЦЧШЩЪЫЬЭЮЯабвгдежзийклмнопрстуфхцчшщъыьэюя\n",
      "ѐёђѓєѕіїјљњћќѝўџѠѡѢѣѤѥѦѧѨѩѪѫѬѭѮѯѰѱѲѳѴѵѶѷѸѹѺѻѼѽѾѿ\n",
      "Ҁҁ҂҃҄҅҆҇҈҉ҊҋҌҍҎҏҐґҒғҔҕҖҗҘҙҚқҜҝҞҟҠҡҢңҤҥҦҧҨҩҪҫҬҭҮү\n",
      "ҰұҲҳҴҵҶҷҸҹҺһҼҽҾҿӀӁӂӃӄӅӆӇӈӉӊӋӌӍӎӏӐӑӒӓӔӕӖӗӘәӚӛӜӝӞӟ\n",
      "ӠӡӢӣӤӥӦӧӨөӪӫӬӭӮӯӰӱӲӳӴӵӶӷӸӹӺӻӼӽӾӿԀԁԂԃԄԅԆԇԈԉԊԋԌԍԎԏ\n",
      "ԐԑԒԓԔԕԖԗԘԙԚԛԜԝԞԟԠԡԢԣԤԥԦԧԨԩԪԫԬԭԮԯ԰ԱԲԳԴԵԶԷԸԹԺԻԼԽԾԿ\n",
      "ՀՁՂՃՄՅՆՇՈՉՊՋՌՍՎՏՐՑՒՓՔՕՖ՗՘ՙ՚՛ ՜ ՝ ՞՟ՠաբգդեզէըթժիլխծկ\n",
      "հձղճմյնշոչպջռսվտրցւփքօֆևֈ։֊֋֌֍֎֏ ऀ ँ ंःऄअआइईउऊऋऌऍऎए\n",
      "ऐऑऒओऔकखगघङचछजझञटठडढणतथदधनऩपफबभमयरऱलळऴवशषसह ऺऻ ़ऽाि\n",
      "ी ु ू ृ ॄ ॅ ॆ े ैॉॊोौ्ॎॏॐ ॑ ॒ ॓ ॔ ॕ ॖ ॗक़ख़ग़ज़ड़ढ़फ़य़ॠॡ ॢॣ।॥०१२३४५६७८९\n",
      "॰ॱॲॳॴॵॶॷॸॹॺॻॼॽॾॿႠႡႢႣႤႥႦႧႨႩႪႫႬႭႮႯႰႱႲႳႴႵႶႷႸႹႺႻႼႽႾႿ\n",
      "ჀჁჂჃჄჅ჆Ⴧ჈჉჊჋჌Ⴭ჎჏აბგდევზთიკლმნოპჟრსტუფქღყშჩცძწჭხჯ\n",
      "ჰჱჲჳჴჵჶჷჸჹჺ჻ჼჽჾჿḀḁḂḃḄḅḆḇḈḉḊḋḌḍḎḏḐḑḒḓḔḕḖḗḘḙḚḛḜḝḞḟ\n",
      "ḠḡḢḣḤḥḦḧḨḩḪḫḬḭḮḯḰḱḲḳḴḵḶḷḸḹḺḻḼḽḾḿṀṁṂṃṄṅṆṇṈṉṊṋṌṍṎṏ\n",
      "ṐṑṒṓṔṕṖṗṘṙṚṛṜṝṞṟṠṡṢṣṤṥṦṧṨṩṪṫṬṭṮṯṰṱṲṳṴṵṶṷṸṹṺṻṼṽṾṿ\n",
      "ẀẁẂẃẄẅẆẇẈẉẊẋẌẍẎẏẐẑẒẓẔẕẖẗẘẙẚẛẜẝẞẟẠạẢảẤấẦầẨẩẪẫẬậẮắ\n",
      "ẰằẲẳẴẵẶặẸẹẺẻẼẽẾếỀềỂểỄễỆệỈỉỊịỌọỎỏỐốỒồỔổỖỗỘộỚớỜờỞở\n",
      "ỠỡỢợỤụỦủỨứỪừỬửỮữỰựỲỳỴỵỶỷỸỹỺỻỼỽỾỿἀἁἂἃἄἅἆἇἈἉἊἋἌἍἎἏ\n",
      "201314.55399061032\n",
      "(done)                                     \n"
     ]
    },
    {
     "data": {
      "image/png": "[encoded data removed]",
      "text/plain": [
       "<Figure size 320x240 with 1 Axes>"
      ]
     },
     "metadata": {
      "needs_background": "light"
     },
     "output_type": "display_data"
    },
    {
     "name": "stdout",
     "output_type": "stream",
     "text": [
      "Group 2\n",
      "ἐἑἒἓἔἕ἖἗ἘἙἚἛἜἝ἞἟ἠἡἢἣἤἥἦἧἨἩἪἫἬἭἮἯἰἱἲἳἴἵἶἷἸἹἺἻἼἽἾἿ\n",
      "ὀὁὂὃὄὅ὆὇ὈὉὊὋὌὍ὎὏ὐὑὒὓὔὕὖὗ὘Ὑ὚Ὓ὜Ὕ὞ὟὠὡὢὣὤὥὦὧὨὩὪὫὬὭὮὯ\n",
      "ὰάὲέὴήὶίὸόὺύὼώ὾὿ᾀᾁᾂᾃᾄᾅᾆᾇᾈᾉᾊᾋᾌᾍᾎᾏᾐᾑᾒᾓᾔᾕᾖᾗᾘᾙᾚᾛᾜᾝᾞᾟ\n",
      "ᾠᾡᾢᾣᾤᾥᾦᾧᾨᾩᾪᾫᾬᾭᾮᾯᾰᾱᾲᾳᾴ᾵ᾶᾷᾸᾹᾺΆᾼ᾽ι᾿῀῁ῂῃῄ῅ῆῇῈΈῊΉῌ῍῎῏\n",
      "ῐῑῒΐ῔῕ῖῗῘῙῚΊ῜῝῞῟ῠῡῢΰῤῥῦῧῨῩῪΎῬ῭΅`῰῱ῲῳῴ῵ῶῷῸΌῺΏῼ´῾῿\n",
      "           ​‌‍‎‏‐‑‒–—―‖‗‘’‚‛“”„‟†‡•‣․‥…‧ ",
      " ",
      "‪‫‬‭‮ \n",
      "‰‱′″‴‵‶‷‸‹›※‼‽‾‿⁀⁁⁂⁃⁄⁅⁆⁇⁈⁉⁊⁋⁌⁍⁎⁏⁐⁑⁒⁓⁔⁕⁖⁗⁘⁙⁚⁛⁜⁝⁞ \n",
      "⁠⁡⁢⁣⁤⁥⁦⁧⁨⁩⁪⁫⁬⁭⁮⁯⁰ⁱ⁲⁳⁴⁵⁶⁷⁸⁹⁺⁻⁼⁽⁾ⁿ₀₁₂₃₄₅₆₇₈₉₊₋₌₍₎₏\n",
      "ₐₑₒₓₔₕₖₗₘₙₚₛₜ₝₞₟₠₡₢₣₤₥₦₧₨₩₪₫€₭₮₯₰₱₲₳₴₵₶₷₸₹₺₻₼₽₾₿\n",
      "⃀⃁⃂⃃⃄⃅⃆⃇⃈⃉⃊⃋⃌⃍⃎⃏℀℁ℂ℃℄℅℆ℇ℈℉ℊℋℌℍℎℏℐℑℒℓ℔ℕ№℗℘ℙℚℛℜℝ℞℟\n",
      "℠℡™℣ℤ℥Ω℧ℨ℩KÅℬℭ℮ℯℰℱℲℳℴℵℶℷℸℹ℺℻ℼℽℾℿ⅀⅁⅂⅃⅄ⅅⅆⅇⅈⅉ⅊⅋⅌⅍ⅎ⅏\n",
      "⅐⅑⅒⅓⅔⅕⅖⅗⅘⅙⅚⅛⅜⅝⅞⅟ⅠⅡⅢⅣⅤⅥⅦⅧⅨⅩⅪⅫⅬⅭⅮⅯⅰⅱⅲⅳⅴⅵⅶⅷⅸⅹⅺⅻⅼⅽⅾⅿ\n",
      "ↀↁↂↃↄↅↆↇↈ↉↊↋↌↍↎↏←↑→↓↔↕↖↗↘↙↚↛↜↝↞↟↠↡↢↣↤↥↦↧↨↩↪↫↬↭↮↯\n",
      "↰↱↲↳↴↵↶↷↸↹↺↻↼↽↾↿⇀⇁⇂⇃⇄⇅⇆⇇⇈⇉⇊⇋⇌⇍⇎⇏⇐⇑⇒⇓⇔⇕⇖⇗⇘⇙⇚⇛⇜⇝⇞⇟\n",
      "⇠⇡⇢⇣⇤⇥⇦⇧⇨⇩⇪⇫⇬⇭⇮⇯⇰⇱⇲⇳⇴⇵⇶⇷⇸⇹⇺⇻⇼⇽⇾⇿∀∁∂∃∄∅∆∇∈∉∊∋∌∍∎∏\n",
      "∐∑−∓∔∕∖∗∘∙√∛∜∝∞∟∠∡∢∣∤∥∦∧∨∩∪∫∬∭∮∯∰∱∲∳∴∵∶∷∸∹∺∻∼∽∾∿\n",
      "≀≁≂≃≄≅≆≇≈≉≊≋≌≍≎≏≐≑≒≓≔≕≖≗≘≙≚≛≜≝≞≟≠≡≢≣≤≥≦≧≨≩≪≫≬≭≮≯\n",
      "≰≱≲≳≴≵≶≷≸≹≺≻≼≽≾≿⊀⊁⊂⊃⊄⊅⊆⊇⊈⊉⊊⊋⊌⊍⊎⊏⊐⊑⊒⊓⊔⊕⊖⊗⊘⊙⊚⊛⊜⊝⊞⊟\n",
      "⊠⊡⊢⊣⊤⊥⊦⊧⊨⊩⊪⊫⊬⊭⊮⊯⊰⊱⊲⊳⊴⊵⊶⊷⊸⊹⊺⊻⊼⊽⊾⊿⋀⋁⋂⋃⋄⋅⋆⋇⋈⋉⋊⋋⋌⋍⋎⋏\n",
      "⋐⋑⋒⋓⋔⋕⋖⋗⋘⋙⋚⋛⋜⋝⋞⋟⋠⋡⋢⋣⋤⋥⋦⋧⋨⋩⋪⋫⋬⋭⋮⋯⋰⋱⋲⋳⋴⋵⋶⋷⋸⋹⋺⋻⋼⋽⋾⋿\n",
      "198998.4152139461\n",
      "(done)                                     \n"
     ]
    },
    {
     "data": {
      "image/png": "[encoded data removed]",
      "text/plain": [
       "<Figure size 320x240 with 1 Axes>"
      ]
     },
     "metadata": {
      "needs_background": "light"
     },
     "output_type": "display_data"
    },
    {
     "name": "stdout",
     "output_type": "stream",
     "text": [
      "Group 3\n",
      "⌀⌁⌂⌃⌄⌅⌆⌇⌈⌉⌊⌋⌌⌍⌎⌏⌐⌑⌒⌓⌔⌕⌖⌗⌘⌙⌚⌛⌜⌝⌞⌟⌠⌡⌢⌣⌤⌥⌦⌧⌨〈〉⌫⌬⌭⌮⌯\n",
      "⌰⌱⌲⌳⌴⌵⌶⌷⌸⌹⌺⌻⌼⌽⌾⌿⍀⍁⍂⍃⍄⍅⍆⍇⍈⍉⍊⍋⍌⍍⍎⍏⍐⍑⍒⍓⍔⍕⍖⍗⍘⍙⍚⍛⍜⍝⍞⍟\n",
      "⍠⍡⍢⍣⍤⍥⍦⍧⍨⍩⍪⍫⍬⍭⍮⍯⍰⍱⍲⍳⍴⍵⍶⍷⍸⍹⍺⍻⍼⍽⍾⍿⎀⎁⎂⎃⎄⎅⎆⎇⎈⎉⎊⎋⎌⎍⎎⎏\n",
      "⎐⎑⎒⎓⎔⎕⎖⎗⎘⎙⎚⎛⎜⎝⎞⎟⎠⎡⎢⎣⎤⎥⎦⎧⎨⎩⎪⎫⎬⎭⎮⎯⎰⎱⎲⎳⎴⎵⎶⎷⎸⎹⎺⎻⎼⎽⎾⎿\n",
      "⏀⏁⏂⏃⏄⏅⏆⏇⏈⏉⏊⏋⏌⏍⏎⏏⏐⏑⏒⏓⏔⏕⏖⏗⏘⏙⏚⏛⏜⏝⏞⏟⏠⏡⏢⏣⏤⏥⏦⏧⏨⏩⏪⏫⏬⏭⏮⏯\n",
      "⏰⏱⏲⏳⏴⏵⏶⏷⏸⏹⏺⏻⏼⏽⏾⏿①②③④⑤⑥⑦⑧⑨⑩⑪⑫⑬⑭⑮⑯⑰⑱⑲⑳⑴⑵⑶⑷⑸⑹⑺⑻⑼⑽⑾⑿\n",
      "⒀⒁⒂⒃⒄⒅⒆⒇⒈⒉⒊⒋⒌⒍⒎⒏⒐⒑⒒⒓⒔⒕⒖⒗⒘⒙⒚⒛⒜⒝⒞⒟⒠⒡⒢⒣⒤⒥⒦⒧⒨⒩⒪⒫⒬⒭⒮⒯\n",
      "⒰⒱⒲⒳⒴⒵ⒶⒷⒸⒹⒺⒻⒼⒽⒾⒿⓀⓁⓂⓃⓄⓅⓆⓇⓈⓉⓊⓋⓌⓍⓎⓏⓐⓑⓒⓓⓔⓕⓖⓗⓘⓙⓚⓛⓜⓝⓞⓟ\n",
      "ⓠⓡⓢⓣⓤⓥⓦⓧⓨⓩ⓪⓫⓬⓭⓮⓯⓰⓱⓲⓳⓴⓵⓶⓷⓸⓹⓺⓻⓼⓽⓾⓿─━│┃┄┅┆┇┈┉┊┋┌┍┎┏\n",
      "┐┑┒┓└┕┖┗┘┙┚┛├┝┞┟┠┡┢┣┤┥┦┧┨┩┪┫┬┭┮┯┰┱┲┳┴┵┶┷┸┹┺┻┼┽┾┿\n",
      "╀╁╂╃╄╅╆╇╈╉╊╋╌╍╎╏═║╒╓╔╕╖╗╘╙╚╛╜╝╞╟╠╡╢╣╤╥╦╧╨╩╪╫╬╭╮╯\n",
      "╰╱╲╳╴╵╶╷╸╹╺╻╼╽╾╿▀▁▂▃▄▅▆▇█▉▊▋▌▍▎▏▐░▒▓▔▕▖▗▘▙▚▛▜▝▞▟\n",
      "■□▢▣▤▥▦▧▨▩▪▫▬▭▮▯▰▱▲△▴▵▶▷▸▹►▻▼▽▾▿◀◁◂◃◄◅◆◇◈◉◊○◌◍◎●\n",
      "◐◑◒◓◔◕◖◗◘◙◚◛◜◝◞◟◠◡◢◣◤◥◦◧◨◩◪◫◬◭◮◯◰◱◲◳◴◵◶◷◸◹◺◻◼◽◾◿\n",
      "☀☁☂☃☄★☆☇☈☉☊☋☌☍☎☏☐☑☒☓☔☕☖☗☘☙☚☛☜☝☞☟☠☡☢☣☤☥☦☧☨☩☪☫☬☭☮☯\n",
      "☰☱☲☳☴☵☶☷☸☹☺☻☼☽☾☿♀♁♂♃♄♅♆♇♈♉♊♋♌♍♎♏♐♑♒♓♔♕♖♗♘♙♚♛♜♝♞♟\n",
      "♠♡♢♣♤♥♦♧♨♩♪♫♬♭♮♯♰♱♲♳♴♵♶♷♸♹♺♻♼♽♾♿⚀⚁⚂⚃⚄⚅⚆⚇⚈⚉⚊⚋⚌⚍⚎⚏\n",
      "⚐⚑⚒⚓⚔⚕⚖⚗⚘⚙⚚⚛⚜⚝⚞⚟⚠⚡⚢⚣⚤⚥⚦⚧⚨⚩⚪⚫⚬⚭⚮⚯⚰⚱⚲⚳⚴⚵⚶⚷⚸⚹⚺⚻⚼⚽⚾⚿\n",
      "⛀⛁⛂⛃⛄⛅⛆⛇⛈⛉⛊⛋⛌⛍⛎⛏⛐⛑⛒⛓⛔⛕⛖⛗⛘⛙⛚⛛⛜⛝⛞⛟⛠⛡⛢⛣⛤⛥⛦⛧⛨⛩⛪⛫⛬⛭⛮⛯\n",
      "⛰⛱⛲⛳⛴⛵⛶⛷⛸⛹⛺⛻⛼⛽⛾⛿✀✁✂✃✄✅✆✇✈✉✊✋✌✍✎✏✐✑✒✓✔✕✖✗✘✙✚✛✜✝✞✟\n",
      "198998.4152139461\n",
      "(done)                                     \n"
     ]
    },
    {
     "data": {
      "image/png": "[encoded data removed]",
      "text/plain": [
       "<Figure size 320x240 with 1 Axes>"
      ]
     },
     "metadata": {
      "needs_background": "light"
     },
     "output_type": "display_data"
    },
    {
     "name": "stdout",
     "output_type": "stream",
     "text": [
      "Group 4\n",
      "✠✡✢✣✤✥✦✧✨✩✪✫✬✭✮✯✰✱✲✳✴✵✶✷✸✹✺✻✼✽✾✿❀❁❂❃❄❅❆❇❈❉❊❋❌❍❎❏\n",
      "❐❑❒❓❔❕❖❗❘❙❚❛❜❝❞❟❠❡❢❣❤❥❦❧❨❩❪❫❬❭❮❯❰❱❲❳❴❵❶❷❸❹❺❻❼❽❾❿\n",
      "➀➁➂➃➄➅➆➇➈➉➊➋➌➍➎➏➐➑➒➓➔➕➖➗➘➙➚➛➜➝➞➟➠➡➢➣➤➥➦➧➨➩➪➫➬➭➮➯\n",
      "➰➱➲➳➴➵➶➷➸➹➺➻➼➽➾➿⠀⠁⠂⠃⠄⠅⠆⠇⠈⠉⠊⠋⠌⠍⠎⠏⠐⠑⠒⠓⠔⠕⠖⠗⠘⠙⠚⠛⠜⠝⠞⠟\n",
      "⠠⠡⠢⠣⠤⠥⠦⠧⠨⠩⠪⠫⠬⠭⠮⠯⠰⠱⠲⠳⠴⠵⠶⠷⠸⠹⠺⠻⠼⠽⠾⠿⡀⡁⡂⡃⡄⡅⡆⡇⡈⡉⡊⡋⡌⡍⡎⡏\n",
      "⡐⡑⡒⡓⡔⡕⡖⡗⡘⡙⡚⡛⡜⡝⡞⡟⡠⡡⡢⡣⡤⡥⡦⡧⡨⡩⡪⡫⡬⡭⡮⡯⡰⡱⡲⡳⡴⡵⡶⡷⡸⡹⡺⡻⡼⡽⡾⡿\n",
      "⢀⢁⢂⢃⢄⢅⢆⢇⢈⢉⢊⢋⢌⢍⢎⢏⢐⢑⢒⢓⢔⢕⢖⢗⢘⢙⢚⢛⢜⢝⢞⢟⢠⢡⢢⢣⢤⢥⢦⢧⢨⢩⢪⢫⢬⢭⢮⢯\n",
      "⢰⢱⢲⢳⢴⢵⢶⢷⢸⢹⢺⢻⢼⢽⢾⢿⣀⣁⣂⣃⣄⣅⣆⣇⣈⣉⣊⣋⣌⣍⣎⣏⣐⣑⣒⣓⣔⣕⣖⣗⣘⣙⣚⣛⣜⣝⣞⣟\n",
      "⣠⣡⣢⣣⣤⣥⣦⣧⣨⣩⣪⣫⣬⣭⣮⣯⣰⣱⣲⣳⣴⣵⣶⣷⣸⣹⣺⣻⣼⣽⣾⣿⤀⤁⤂⤃⤄⤅⤆⤇⤈⤉⤊⤋⤌⤍⤎⤏\n",
      "⤐⤑⤒⤓⤔⤕⤖⤗⤘⤙⤚⤛⤜⤝⤞⤟⤠⤡⤢⤣⤤⤥⤦⤧⤨⤩⤪⤫⤬⤭⤮⤯⤰⤱⤲⤳⤴⤵⤶⤷⤸⤹⤺⤻⤼⤽⤾⤿\n",
      "⥀⥁⥂⥃⥄⥅⥆⥇⥈⥉⥊⥋⥌⥍⥎⥏⥐⥑⥒⥓⥔⥕⥖⥗⥘⥙⥚⥛⥜⥝⥞⥟⥠⥡⥢⥣⥤⥥⥦⥧⥨⥩⥪⥫⥬⥭⥮⥯\n",
      "⥰⥱⥲⥳⥴⥵⥶⥷⥸⥹⥺⥻⥼⥽⥾⥿⬀⬁⬂⬃⬄⬅⬆⬇⬈⬉⬊⬋⬌⬍⬎⬏⬐⬑⬒⬓⬔⬕⬖⬗⬘⬙⬚⬛⬜⬝⬞⬟\n",
      "⬠⬡⬢⬣⬤⬥⬦⬧⬨⬩⬪⬫⬬⬭⬮⬯⬰⬱⬲⬳⬴⬵⬶⬷⬸⬹⬺⬻⬼⬽⬾⬿⭀⭁⭂⭃⭄⭅⭆⭇⭈⭉⭊⭋⭌⭍⭎⭏\n",
      "⭐⭑⭒⭓⭔⭕⭖⭗⭘⭙⭚⭛⭜⭝⭞⭟⭠⭡⭢⭣⭤⭥⭦⭧⭨⭩⭪⭫⭬⭭⭮⭯⭰⭱⭲⭳⭴⭵⭶⭷⭸⭹⭺⭻⭼⭽⭾⭿\n",
      "⮀⮁⮂⮃⮄⮅⮆⮇⮈⮉⮊⮋⮌⮍⮎⮏⮐⮑⮒⮓⮔⮕⮖⮗⮘⮙⮚⮛⮜⮝⮞⮟⮠⮡⮢⮣⮤⮥⮦⮧⮨⮩⮪⮫⮬⮭⮮⮯\n",
      "⮰⮱⮲⮳⮴⮵⮶⮷⮸⮹⮺⮻⮼⮽⮾⮿⯀⯁⯂⯃⯄⯅⯆⯇⯈⯉⯊⯋⯌⯍⯎⯏⯐⯑⯒⯓⯔⯕⯖⯗⯘⯙⯚⯛⯜⯝⯞⯟\n",
      "⯠⯡⯢⯣⯤⯥⯦⯧⯨⯩⯪⯫⯬⯭⯮⯯⯰⯱⯲⯳⯴⯵⯶⯷⯸⯹⯺⯻⯼⯽⯾⯿ⱠⱡⱢⱣⱤⱥⱦⱧⱨⱩⱪⱫⱬⱭⱮⱯ\n",
      "ⱰⱱⱲⱳⱴⱵⱶⱷⱸⱹⱺⱻⱼⱽⱾⱿ぀ぁあぃいぅうぇえぉおかがきぎくぐけげこごさざしじすずせぜそぞた\n",
      "だちぢっつづてでとどなにぬねのはばぱひびぴふぶぷへべぺほぼぽまみむめもゃやゅゆょよらりるれろゎわ\n",
      "ゐゑをんゔゕゖ゗゘ ゙ ゚゛゜ゝゞゟ゠ァアィイゥウェエォオカガキギクグケゲコゴサザシジスズセゼソゾタ\n",
      "199193.6675461741\n",
      "(done)                                     \n"
     ]
    },
    {
     "data": {
      "image/png": "[encoded data removed]",
      "text/plain": [
       "<Figure size 320x240 with 1 Axes>"
      ]
     },
     "metadata": {
      "needs_background": "light"
     },
     "output_type": "display_data"
    },
    {
     "name": "stdout",
     "output_type": "stream",
     "text": [
      "Group 5\n",
      "ダチヂッツヅテデトドナニヌネノハバパヒビピフブプヘベペホボポマミムメモャヤュユョヨラリルレロヮワ\n",
      "ヰヱヲンヴヵヶヷヸヹヺ・ーヽヾヿㇰㇱㇲㇳㇴㇵㇶㇷㇸㇹㇺㇻㇼㇽㇾㇿꓐꓑꓒꓓꓔꓕꓖꓗꓘꓙꓚꓛꓜꓝꓞꓟ\n",
      "ꓠꓡꓢꓣꓤꓥꓦꓧꓨꓩꓪꓫꓬꓭꓮꓯꓰꓱꓲꓳꓴꓵꓶꓷꓸꓹꓺꓻꓼꓽ꓾꓿ꙀꙁꙂꙃꙄꙅꙆꙇꙈꙉꙊꙋꙌꙍꙎꙏ\n",
      "ꙐꙑꙒꙓꙔꙕꙖꙗꙘꙙꙚꙛꙜꙝꙞꙟꙠꙡꙢꙣꙤꙥꙦꙧꙨꙩꙪꙫꙬꙭꙮ꙯꙰꙱꙲꙳ꙴꙵꙶꙷꙸꙹꙺꙻ꙼꙽꙾ꙿ\n",
      "ꚀꚁꚂꚃꚄꚅꚆꚇꚈꚉꚊꚋꚌꚍꚎꚏꚐꚑꚒꚓꚔꚕꚖꚗꚘꚙꚚꚛꚜꚝꚞꚟ꜠꜡ꜢꜣꜤꜥꜦꜧꜨꜩꜪꜫꜬꜭꜮꜯ\n",
      "ꜰꜱꜲꜳꜴꜵꜶꜷꜸꜹꜺꜻꜼꜽꜾꜿꝀꝁꝂꝃꝄꝅꝆꝇꝈꝉꝊꝋꝌꝍꝎꝏꝐꝑꝒꝓꝔꝕꝖꝗꝘꝙꝚꝛꝜꝝꝞꝟ\n",
      "ꝠꝡꝢꝣꝤꝥꝦꝧꝨꝩꝪꝫꝬꝭꝮꝯꝰꝱꝲꝳꝴꝵꝶꝷꝸꝹꝺꝻꝼꝽꝾꝿꞀꞁꞂꞃꞄꞅꞆꞇꞈ꞉꞊ꞋꞌꞍꞎꞏ\n",
      "ꞐꞑꞒꞓꞔꞕꞖꞗꞘꞙꞚꞛꞜꞝꞞꞟꞠꞡꞢꞣꞤꞥꞦꞧꞨꞩꞪꞫꞬꞭꞮꞯꞰꞱꞲꞳꞴꞵꞶꞷꞸꞹꞺꞻꞼꞽꞾꞿ\n",
      "ꟀꟁꟂꟃꟄꟅꟆꟇꟈꟉꟊꟋꟌꟍ꟎꟏Ꟑꟑ꟒ꟓ꟔ꟕꟖꟗꟘꟙꟚꟛꟜ꟝꟞꟟꟠꟡꟢꟣꟤꟥꟦꟧꟨꟩꟪꟫꟬꟭꟮꟯\n",
      "꟰꟱ꟲꟳꟴꟵꟶꟷꟸꟹꟺꟻꟼꟽꟾꟿꬰꬱꬲꬳꬴꬵꬶꬷꬸꬹꬺꬻꬼꬽꬾꬿꭀꭁꭂꭃꭄꭅꭆꭇꭈꭉꭊꭋꭌꭍꭎꭏ\n",
      "ꭐꭑꭒꭓꭔꭕꭖꭗꭘꭙꭚ꭛ꭜꭝꭞꭟꭠꭡꭢꭣꭤꭥꭦꭧꭨꭩ꭪꭫꭬꭭꭮꭯ﬀﬁﬂﬃﬄﬅﬆ﬇﬈﬉﬊﬋﬌﬍﬎﬏\n",
      "﬐﬑﬒ﬓﬔﬕﬖﬗ﬘﬙﬚﬛﬜יִﬞײַﬠﬡﬢﬣﬤﬥﬦﬧﬨ﬩שׁשׂשּׁשּׂאַאָאּבּגּדּהּוּזּ﬷טּיּךּכּלּ﬽מּ﬿\n",
      "נּסּ﭂ףּפּ﭅צּקּרּשּתּוֹבֿכֿפֿﭏ𐞀𐞁𐞂𐞃𐞄𐞅𐞆𐞇𐞈𐞉𐞊𐞋𐞌𐞍𐞎𐞏𐞐𐞑𐞒𐞓𐞔𐞕𐞖𐞗𐞘𐞙𐞚𐞛𐞜𐞝𐞞𐞟\n",
      "𐞠𐞡𐞢𐞣𐞤𐞥𐞦𐞧𐞨𐞩𐞪𐞫𐞬𐞭𐞮𐞯𐞰𐞱𐞲𐞳𐞴𐞵𐞶𐞷𐞸𐞹𐞺𐞻𐞼𐞽𐞾𐞿𝐀𝐁𝐂𝐃𝐄𝐅𝐆𝐇𝐈𝐉𝐊𝐋𝐌𝐍𝐎𝐏\n",
      "𝐐𝐑𝐒𝐓𝐔𝐕𝐖𝐗𝐘𝐙𝐚𝐛𝐜𝐝𝐞𝐟𝐠𝐡𝐢𝐣𝐤𝐥𝐦𝐧𝐨𝐩𝐪𝐫𝐬𝐭𝐮𝐯𝐰𝐱𝐲𝐳𝐴𝐵𝐶𝐷𝐸𝐹𝐺𝐻𝐼𝐽𝐾𝐿\n",
      "𝑀𝑁𝑂𝑃𝑄𝑅𝑆𝑇𝑈𝑉𝑊𝑋𝑌𝑍𝑎𝑏𝑐𝑑𝑒𝑓𝑔𝑕𝑖𝑗𝑘𝑙𝑚𝑛𝑜𝑝𝑞𝑟𝑠𝑡𝑢𝑣𝑤𝑥𝑦𝑧𝑨𝑩𝑪𝑫𝑬𝑭𝑮𝑯\n",
      "𝑰𝑱𝑲𝑳𝑴𝑵𝑶𝑷𝑸𝑹𝑺𝑻𝑼𝑽𝑾𝑿𝒀𝒁𝒂𝒃𝒄𝒅𝒆𝒇𝒈𝒉𝒊𝒋𝒌𝒍𝒎𝒏𝒐𝒑𝒒𝒓𝒔𝒕𝒖𝒗𝒘𝒙𝒚𝒛𝒜𝒝𝒞𝒟\n",
      "𝒠𝒡𝒢𝒣𝒤𝒥𝒦𝒧𝒨𝒩𝒪𝒫𝒬𝒭𝒮𝒯𝒰𝒱𝒲𝒳𝒴𝒵𝒶𝒷𝒸𝒹𝒺𝒻𝒼𝒽𝒾𝒿𝓀𝓁𝓂𝓃𝓄𝓅𝓆𝓇𝓈𝓉𝓊𝓋𝓌𝓍𝓎𝓏\n",
      "𝓐𝓑𝓒𝓓𝓔𝓕𝓖𝓗𝓘𝓙𝓚𝓛𝓜𝓝𝓞𝓟𝓠𝓡𝓢𝓣𝓤𝓥𝓦𝓧𝓨𝓩𝓪𝓫𝓬𝓭𝓮𝓯𝓰𝓱𝓲𝓳𝓴𝓵𝓶𝓷𝓸𝓹𝓺𝓻𝓼𝓽𝓾𝓿\n",
      "𝔀𝔁𝔂𝔃𝔄𝔅𝔆𝔇𝔈𝔉𝔊𝔋𝔌𝔍𝔎𝔏𝔐𝔑𝔒𝔓𝔔𝔕𝔖𝔗𝔘𝔙𝔚𝔛𝔜𝔝𝔞𝔟𝔠𝔡𝔢𝔣𝔤𝔥𝔦𝔧𝔨𝔩𝔪𝔫𝔬𝔭𝔮𝔯\n",
      "198998.4152139461\n",
      "(done)                                     \n"
     ]
    },
    {
     "data": {
      "image/png": "[encoded data removed]",
      "text/plain": [
       "<Figure size 320x240 with 1 Axes>"
      ]
     },
     "metadata": {
      "needs_background": "light"
     },
     "output_type": "display_data"
    },
    {
     "name": "stdout",
     "output_type": "stream",
     "text": [
      "Group 6\n",
      "𝔰𝔱𝔲𝔳𝔴𝔵𝔶𝔷𝔸𝔹𝔺𝔻𝔼𝔽𝔾𝔿𝕀𝕁𝕂𝕃𝕄𝕅𝕆𝕇𝕈𝕉𝕊𝕋𝕌𝕍𝕎𝕏𝕐𝕑𝕒𝕓𝕔𝕕𝕖𝕗𝕘𝕙𝕚𝕛𝕜𝕝𝕞𝕟\n",
      "𝕠𝕡𝕢𝕣𝕤𝕥𝕦𝕧𝕨𝕩𝕪𝕫𝕬𝕭𝕮𝕯𝕰𝕱𝕲𝕳𝕴𝕵𝕶𝕷𝕸𝕹𝕺𝕻𝕼𝕽𝕾𝕿𝖀𝖁𝖂𝖃𝖄𝖅𝖆𝖇𝖈𝖉𝖊𝖋𝖌𝖍𝖎𝖏\n",
      "𝖐𝖑𝖒𝖓𝖔𝖕𝖖𝖗𝖘𝖙𝖚𝖛𝖜𝖝𝖞𝖟𝖠𝖡𝖢𝖣𝖤𝖥𝖦𝖧𝖨𝖩𝖪𝖫𝖬𝖭𝖮𝖯𝖰𝖱𝖲𝖳𝖴𝖵𝖶𝖷𝖸𝖹𝖺𝖻𝖼𝖽𝖾𝖿\n",
      "𝗀𝗁𝗂𝗃𝗄𝗅𝗆𝗇𝗈𝗉𝗊𝗋𝗌𝗍𝗎𝗏𝗐𝗑𝗒𝗓𝗔𝗕𝗖𝗗𝗘𝗙𝗚𝗛𝗜𝗝𝗞𝗟𝗠𝗡𝗢𝗣𝗤𝗥𝗦𝗧𝗨𝗩𝗪𝗫𝗬𝗭𝗮𝗯\n",
      "𝗰𝗱𝗲𝗳𝗴𝗵𝗶𝗷𝗸𝗹𝗺𝗻𝗼𝗽𝗾𝗿𝘀𝘁𝘂𝘃𝘄𝘅𝘆𝘇𝘈𝘉𝘊𝘋𝘌𝘍𝘎𝘏𝘐𝘑𝘒𝘓𝘔𝘕𝘖𝘗𝘘𝘙𝘚𝘛𝘜𝘝𝘞𝘟\n",
      "𝘠𝘡𝘢𝘣𝘤𝘥𝘦𝘧𝘨𝘩𝘪𝘫𝘬𝘭𝘮𝘯𝘰𝘱𝘲𝘳𝘴𝘵𝘶𝘷𝘸𝘹𝘺𝘻𝘼𝘽𝘾𝘿𝙀𝙁𝙂𝙃𝙄𝙅𝙆𝙇𝙈𝙉𝙊𝙋𝙌𝙍𝙎𝙏\n",
      "𝙐𝙑𝙒𝙓𝙔𝙕𝙖𝙗𝙘𝙙𝙚𝙛𝙜𝙝𝙞𝙟𝙠𝙡𝙢𝙣𝙤𝙥𝙦𝙧𝙨𝙩𝙪𝙫𝙬𝙭𝙮𝙯𝙰𝙱𝙲𝙳𝙴𝙵𝙶𝙷𝙸𝙹𝙺𝙻𝙼𝙽𝙾𝙿\n",
      "𝚀𝚁𝚂𝚃𝚄𝚅𝚆𝚇𝚈𝚉𝚊𝚋𝚌𝚍𝚎𝚏𝚐𝚑𝚒𝚓𝚔𝚕𝚖𝚗𝚘𝚙𝚚𝚛𝚜𝚝𝚞𝚟𝚠𝚡𝚢𝚣𝚤𝚥𝚦𝚧𝚨𝚩𝚪𝚫𝚬𝚭𝚮𝚯\n",
      "𝚰𝚱𝚲𝚳𝚴𝚵𝚶𝚷𝚸𝚹𝚺𝚻𝚼𝚽𝚾𝚿𝛀𝛁𝛂𝛃𝛄𝛅𝛆𝛇𝛈𝛉𝛊𝛋𝛌𝛍𝛎𝛏𝛐𝛑𝛒𝛓𝛔𝛕𝛖𝛗𝛘𝛙𝛚𝛛𝛜𝛝𝛞𝛟\n",
      "𝛠𝛡𝛢𝛣𝛤𝛥𝛦𝛧𝛨𝛩𝛪𝛫𝛬𝛭𝛮𝛯𝛰𝛱𝛲𝛳𝛴𝛵𝛶𝛷𝛸𝛹𝛺𝛻𝛼𝛽𝛾𝛿𝜀𝜁𝜂𝜃𝜄𝜅𝜆𝜇𝜈𝜉𝜊𝜋𝜌𝜍𝜎𝜏\n",
      "𝜐𝜑𝜒𝜓𝜔𝜕𝜖𝜗𝜘𝜙𝜚𝜛𝜜𝜝𝜞𝜟𝜠𝜡𝜢𝜣𝜤𝜥𝜦𝜧𝜨𝜩𝜪𝜫𝜬𝜭𝜮𝜯𝜰𝜱𝜲𝜳𝜴𝜵𝜶𝜷𝜸𝜹𝜺𝜻𝜼𝜽𝜾𝜿\n",
      "𝝀𝝁𝝂𝝃𝝄𝝅𝝆𝝇𝝈𝝉𝝊𝝋𝝌𝝍𝝎𝝏𝝐𝝑𝝒𝝓𝝔𝝕𝝖𝝗𝝘𝝙𝝚𝝛𝝜𝝝𝝞𝝟𝝠𝝡𝝢𝝣𝝤𝝥𝝦𝝧𝝨𝝩𝝪𝝫𝝬𝝭𝝮𝝯\n",
      "𝝰𝝱𝝲𝝳𝝴𝝵𝝶𝝷𝝸𝝹𝝺𝝻𝝼𝝽𝝾𝝿𝞀𝞁𝞂𝞃𝞄𝞅𝞆𝞇𝞈𝞉𝞊𝞋𝞌𝞍𝞎𝞏𝞐𝞑𝞒𝞓𝞔𝞕𝞖𝞗𝞘𝞙𝞚𝞛𝞜𝞝𝞞𝞟\n",
      "𝞠𝞡𝞢𝞣𝞤𝞥𝞦𝞧𝞨𝞩𝞪𝞫𝞬𝞭𝞮𝞯𝞰𝞱𝞲𝞳𝞴𝞵𝞶𝞷𝞸𝞹𝞺𝞻𝞼𝞽𝞾𝞿𝟀𝟁𝟂𝟃𝟄𝟅𝟆𝟇𝟈𝟉𝟊𝟋𝟌𝟍𝟎𝟏\n",
      "𝟐𝟑𝟒𝟓𝟔𝟕𝟖𝟗𝟘𝟙𝟚𝟛𝟜𝟝𝟞𝟟𝟠𝟡𝟢𝟣𝟤𝟥𝟦𝟧𝟨𝟩𝟪𝟫𝟬𝟭𝟮𝟯𝟰𝟱𝟲𝟳𝟴𝟵𝟶𝟷𝟸𝟹𝟺𝟻𝟼𝟽𝟾𝟿\n",
      "𝼀𝼁𝼂𝼃𝼄𝼅𝼆𝼇𝼈𝼉𝼊𝼋𝼌𝼍𝼎𝼏𝼐𝼑𝼒𝼓𝼔𝼕𝼖𝼗𝼘𝼙𝼚𝼛𝼜𝼝𝼞𝼟𝼠𝼡𝼢𝼣𝼤𝼥𝼦𝼧𝼨𝼩𝼪𝼫𝼬𝼭𝼮𝼯\n",
      "𝼰𝼱𝼲𝼳𝼴𝼵𝼶𝼷𝼸𝼹𝼺𝼻𝼼𝼽𝼾𝼿𝽀𝽁𝽂𝽃𝽄𝽅𝽆𝽇𝽈𝽉𝽊𝽋𝽌𝽍𝽎𝽏𝽐𝽑𝽒𝽓𝽔𝽕𝽖𝽗𝽘𝽙𝽚𝽛𝽜𝽝𝽞𝽟\n",
      "𝽠𝽡𝽢𝽣𝽤𝽥𝽦𝽧𝽨𝽩𝽪𝽫𝽬𝽭𝽮𝽯𝽰𝽱𝽲𝽳𝽴𝽵𝽶𝽷𝽸𝽹𝽺𝽻𝽼𝽽𝽾𝽿𝾀𝾁𝾂𝾃𝾄𝾅𝾆𝾇𝾈𝾉𝾊𝾋𝾌𝾍𝾎𝾏\n",
      "𝾐𝾑𝾒𝾓𝾔𝾕𝾖𝾗𝾘𝾙𝾚𝾛𝾜𝾝𝾞𝾟𝾠𝾡𝾢𝾣𝾤𝾥𝾦𝾧𝾨𝾩𝾪𝾫𝾬𝾭𝾮𝾯𝾰𝾱𝾲𝾳𝾴𝾵𝾶𝾷𝾸𝾹𝾺𝾻𝾼𝾽𝾾𝾿\n",
      "𝿀𝿁𝿂𝿃𝿄𝿅𝿆𝿇𝿈𝿉𝿊𝿋𝿌𝿍𝿎𝿏𝿐𝿑𝿒𝿓𝿔𝿕𝿖𝿗𝿘𝿙𝿚𝿛𝿜𝿝𝿞𝿟𝿠𝿡𝿢𝿣𝿤𝿥𝿦𝿧𝿨𝿩𝿪𝿫𝿬𝿭𝿮𝿯\n",
      "198998.4152139461\n",
      "(done)                                     \n"
     ]
    },
    {
     "data": {
      "image/png": "[encoded data removed]",
      "text/plain": [
       "<Figure size 320x240 with 1 Axes>"
      ]
     },
     "metadata": {
      "needs_background": "light"
     },
     "output_type": "display_data"
    },
    {
     "name": "stdout",
     "output_type": "stream",
     "text": [
      "Group 7\n",
      "𝿰𝿱𝿲𝿳𝿴𝿵𝿶𝿷𝿸𝿹𝿺𝿻𝿼𝿽𝿾𝿿🌀🌁🌂🌃🌄🌅🌆🌇🌈🌉🌊🌋🌌🌍🌎🌏🌐🌑🌒🌓🌔🌕🌖🌗🌘🌙🌚🌛🌜🌝🌞🌟\n",
      "🌠🌡🌢🌣🌤🌥🌦🌧🌨🌩🌪🌫🌬🌭🌮🌯🌰🌱🌲🌳🌴🌵🌶🌷🌸🌹🌺🌻🌼🌽🌾🌿🍀🍁🍂🍃🍄🍅🍆🍇🍈🍉🍊🍋🍌🍍🍎🍏\n",
      "🍐🍑🍒🍓🍔🍕🍖🍗🍘🍙🍚🍛🍜🍝🍞🍟🍠🍡🍢🍣🍤🍥🍦🍧🍨🍩🍪🍫🍬🍭🍮🍯🍰🍱🍲🍳🍴🍵🍶🍷🍸🍹🍺🍻🍼🍽🍾🍿\n",
      "🎀🎁🎂🎃🎄🎅🎆🎇🎈🎉🎊🎋🎌🎍🎎🎏🎐🎑🎒🎓🎔🎕🎖🎗🎘🎙🎚🎛🎜🎝🎞🎟🎠🎡🎢🎣🎤🎥🎦🎧🎨🎩🎪🎫🎬🎭🎮🎯\n",
      "🎰🎱🎲🎳🎴🎵🎶🎷🎸🎹🎺🎻🎼🎽🎾🎿🏀🏁🏂🏃🏄🏅🏆🏇🏈🏉🏊🏋🏌🏍🏎🏏🏐🏑🏒🏓🏔🏕🏖🏗🏘🏙🏚🏛🏜🏝🏞🏟\n",
      "🏠🏡🏢🏣🏤🏥🏦🏧🏨🏩🏪🏫🏬🏭🏮🏯🏰🏱🏲🏳🏴🏵🏶🏷🏸🏹🏺🏻🏼🏽🏾🏿🐀🐁🐂🐃🐄🐅🐆🐇🐈🐉🐊🐋🐌🐍🐎🐏\n",
      "🐐🐑🐒🐓🐔🐕🐖🐗🐘🐙🐚🐛🐜🐝🐞🐟🐠🐡🐢🐣🐤🐥🐦🐧🐨🐩🐪🐫🐬🐭🐮🐯🐰🐱🐲🐳🐴🐵🐶🐷🐸🐹🐺🐻🐼🐽🐾🐿\n",
      "👀👁👂👃👄👅👆👇👈👉👊👋👌👍👎👏👐👑👒👓👔👕👖👗👘👙👚👛👜👝👞👟👠👡👢👣👤👥👦👧👨👩👪👫👬👭👮👯\n",
      "👰👱👲👳👴👵👶👷👸👹👺👻👼👽👾👿💀💁💂💃💄💅💆💇💈💉💊💋💌💍💎💏💐💑💒💓💔💕💖💗💘💙💚💛💜💝💞💟\n",
      "💠💡💢💣💤💥💦💧💨💩💪💫💬💭💮💯💰💱💲💳💴💵💶💷💸💹💺💻💼💽💾💿📀📁📂📃📄📅📆📇📈📉📊📋📌📍📎📏\n",
      "📐📑📒📓📔📕📖📗📘📙📚📛📜📝📞📟📠📡📢📣📤📥📦📧📨📩📪📫📬📭📮📯📰📱📲📳📴📵📶📷📸📹📺📻📼📽📾📿\n",
      "🔀🔁🔂🔃🔄🔅🔆🔇🔈🔉🔊🔋🔌🔍🔎🔏🔐🔑🔒🔓🔔🔕🔖🔗🔘🔙🔚🔛🔜🔝🔞🔟🔠🔡🔢🔣🔤🔥🔦🔧🔨🔩🔪🔫🔬🔭🔮🔯\n",
      "🔰🔱🔲🔳🔴🔵🔶🔷🔸🔹🔺🔻🔼🔽🔾🔿🕀🕁🕂🕃🕄🕅🕆🕇🕈🕉🕊🕋🕌🕍🕎🕏🕐🕑🕒🕓🕔🕕🕖🕗🕘🕙🕚🕛🕜🕝🕞🕟\n",
      "🕠🕡🕢🕣🕤🕥🕦🕧🕨🕩🕪🕫🕬🕭🕮🕯🕰🕱🕲🕳🕴🕵🕶🕷🕸🕹🕺🕻🕼🕽🕾🕿🖀🖁🖂🖃🖄🖅🖆🖇🖈🖉🖊🖋🖌🖍🖎🖏\n",
      "🖐🖑🖒🖓🖔🖕🖖🖗🖘🖙🖚🖛🖜🖝🖞🖟🖠🖡🖢🖣🖤🖥🖦🖧🖨🖩🖪🖫🖬🖭🖮🖯🖰🖱🖲🖳🖴🖵🖶🖷🖸🖹🖺🖻🖼🖽🖾🖿\n",
      "🗀🗁🗂🗃🗄🗅🗆🗇🗈🗉🗊🗋🗌🗍🗎🗏🗐🗑🗒🗓🗔🗕🗖🗗🗘🗙🗚🗛🗜🗝🗞🗟🗠🗡🗢🗣🗤🗥🗦🗧🗨🗩🗪🗫🗬🗭🗮🗯\n",
      "🗰🗱🗲🗳🗴🗵🗶🗷🗸🗹🗺🗻🗼🗽🗾🗿🠀🠁🠂🠃🠄🠅🠆🠇🠈🠉🠊🠋🠌🠍🠎🠏🠐🠑🠒🠓🠔🠕🠖🠗🠘🠙🠚🠛🠜🠝🠞🠟\n",
      "🠠🠡🠢🠣🠤🠥🠦🠧🠨🠩🠪🠫🠬🠭🠮🠯🠰🠱🠲🠳🠴🠵🠶🠷🠸🠹🠺🠻🠼🠽🠾🠿🡀🡁🡂🡃🡄🡅🡆🡇🡈🡉🡊🡋🡌🡍🡎🡏\n",
      "🡐🡑🡒🡓🡔🡕🡖🡗🡘🡙🡚🡛🡜🡝🡞🡟🡠🡡🡢🡣🡤🡥🡦🡧🡨🡩🡪🡫🡬🡭🡮🡯🡰🡱🡲🡳🡴🡵🡶🡷🡸🡹🡺🡻🡼🡽🡾🡿\n",
      "🢀🢁🢂🢃🢄🢅🢆🢇🢈🢉🢊🢋🢌🢍🢎🢏🢐🢑🢒🢓🢔🢕🢖🢗🢘🢙🢚🢛🢜🢝🢞🢟🢠🢡🢢🢣🢤🢥🢦🢧🢨🢩🢪🢫🢬🢭🢮🢯\n",
      "198998.4152139461\n",
      "(done)                                     \n"
     ]
    },
    {
     "data": {
      "image/png": "[encoded data removed]",
      "text/plain": [
       "<Figure size 320x240 with 1 Axes>"
      ]
     },
     "metadata": {
      "needs_background": "light"
     },
     "output_type": "display_data"
    },
    {
     "name": "stdout",
     "output_type": "stream",
     "text": [
      "Group 8\n",
      "🢰🢱🢲🢳🢴🢵🢶🢷🢸🢹🢺🢻🢼🢽🢾🢿🣀🣁🣂🣃🣄🣅🣆🣇🣈🣉🣊🣋🣌🣍🣎🣏🣐🣑🣒🣓🣔🣕🣖🣗🣘🣙🣚🣛🣜🣝🣞🣟\n",
      "🣠🣡🣢🣣🣤🣥🣦🣧🣨🣩🣪🣫🣬🣭🣮🣯🣰🣱🣲🣳🣴🣵🣶🣷🣸🣹🣺🣻🣼🣽🣾🣿🬀🬁🬂🬃🬄🬅🬆🬇🬈🬉🬊🬋🬌🬍🬎🬏\n",
      "🬐🬑🬒🬓🬔🬕🬖🬗🬘🬙🬚🬛🬜🬝🬞🬟🬠🬡🬢🬣🬤🬥🬦🬧🬨🬩🬪🬫🬬🬭🬮🬯🬰🬱🬲🬳🬴🬵🬶🬷🬸🬹🬺🬻🬼🬽🬾🬿\n",
      "🭀🭁🭂🭃🭄🭅🭆🭇🭈🭉🭊🭋🭌🭍🭎🭏🭐🭑🭒🭓🭔🭕🭖🭗🭘🭙🭚🭛🭜🭝🭞🭟🭠🭡🭢🭣🭤🭥🭦🭧🭨🭩🭪🭫🭬🭭🭮🭯\n",
      "🭰🭱🭲🭳🭴🭵🭶🭷🭸🭹🭺🭻🭼🭽🭾🭿🮀🮁🮂🮃🮄🮅🮆🮇🮈🮉🮊🮋🮌🮍🮎🮏🮐🮑🮒🮓🮔🮕🮖🮗🮘🮙🮚🮛🮜🮝🮞🮟\n",
      "🮠🮡🮢🮣🮤🮥🮦🮧🮨🮩🮪🮫🮬🮭🮮🮯🮰🮱🮲🮳🮴🮵🮶🮷🮸🮹🮺🮻🮼🮽🮾🮿🯀🯁🯂🯃🯄🯅🯆🯇🯈🯉🯊🯋🯌🯍🯎🯏\n",
      "🯐🯑🯒🯓🯔🯕🯖🯗🯘🯙🯚🯛🯜🯝🯞🯟🯠🯡🯢🯣🯤🯥🯦🯧🯨🯩🯪🯫🯬🯭🯮🯯🯰🯱🯲🯳🯴🯵🯶🯷🯸🯹🯺🯻🯼🯽🯾🯿\n",
      "\n",
      "194537.44493392072\n",
      "(done)                                     \n"
     ]
    },
    {
     "data": {
      "image/png": "[encoded data removed]",
      "text/plain": [
       "<Figure size 320x240 with 1 Axes>"
      ]
     },
     "metadata": {
      "needs_background": "light"
     },
     "output_type": "display_data"
    }
   ],
   "source": [
    "\n",
    "'''\n",
    "RGB = printscreen()\n",
    "figure(figsize=(320,240),dpi=1)\n",
    "imshow(RGB,interpolation='nearest')\n",
    "axis('off')\n",
    "subplots_adjust(0,0,1,1,0,0)\n",
    "'''\n",
    "\n",
    "import sys\n",
    "sys.path.append('../prepare_fonts/')\n",
    "from font_utilities import get_unicode_blocks_information\n",
    "from CONFIG import *\n",
    "toprint = mapped_blocks + softmapped\n",
    "groups = []\n",
    "TERMCOLS = 48\n",
    "K = TERMROWS*TERMCOLS\n",
    "s = ''\n",
    "j = 0\n",
    "actual_groups = []\n",
    "actual_s = ''\n",
    "# Skip unsupported combining characters\n",
    "exclude = [0x483,0x484,0x485,0x486,0x487,0x488,0x489,0x903,0x093B,0x093E,0x093F,0x940,0x949,0x94A,0x94B,0x94C,\n",
    "          0x94D,0x94E,0x94F,0x963] + [*range(0xa66f,0xa67f+1)]+[0xa69e,0xa69f,0xfb1e]\n",
    "# Some of the armenian characters are implemented as combining\n",
    "include = [0x55C,0x55D,0x55E]\n",
    "for b,(name,start,stop,N) in get_unicode_blocks_information().items(): \n",
    "    if b=='halfwidthandfullwidthforms': continue\n",
    "    if b in toprint:\n",
    "        for i in range(start,stop+1):\n",
    "            c =  chr(i)\n",
    "            actual_s += c\n",
    "            if c<' ' or (c>'~' and c<'¡'):\n",
    "                c = ' '\n",
    "            if i in include or (\n",
    "                not i in exclude and unicodedata.category(c)[0]=='M'):\n",
    "                c = ' '+c\n",
    "            s += c\n",
    "            j += 1\n",
    "            if (j>=K):\n",
    "                j = 0\n",
    "                groups += [s]\n",
    "                actual_groups += [actual_s]\n",
    "                s = ''\n",
    "                actual_s = ''\n",
    "            elif (j%TERMCOLS==0):\n",
    "                s += '\\n'\n",
    "groups += [s]\n",
    "actual_groups += [actual_s]\n",
    "\n",
    "bitmaps = []\n",
    "for i,group in enumerate(groups):\n",
    "    print('Group %d'%i)\n",
    "    print(group)\n",
    "    print2(reset+group,delay=0.001)\n",
    "    RGB = printscreen()\n",
    "    bitmaps += [RGB]\n",
    "    figure(figsize=(320,240),dpi=1)\n",
    "    imshow(RGB,interpolation='nearest')\n",
    "    axis('off')\n",
    "    subplots_adjust(0,0,1,1,0,0)\n",
    "    show()"
   ]
  },
  {
   "cell_type": "markdown",
   "id": "2121ebec-8edd-4bc8-84f0-a96c6e26d225",
   "metadata": {},
   "source": [
    "# Show all supported characters"
   ]
  },
  {
   "cell_type": "code",
   "execution_count": 260,
   "id": "ce583746-b225-48c2-9b5a-7669d9c8f02b",
   "metadata": {
    "tags": []
   },
   "outputs": [
    {
     "name": "stdout",
     "output_type": "stream",
     "text": [
      "!\"#$%&'()*+,-./0123456789:;<=>?@ABCDEFGHIJKLMNOPQRSTUVWXYZ[\\]^_`abcdefghijklmnopqrstuvwxyz{|}¡¢£\n",
      "¤¥¦§¨©ª«¬®¯°±²³´µ¶·¸¹º»¼½¾¿ÀÁÂÃÄÅÆÇÈÉÊËÌÍÎÏÐÑÒÓÔÕÖ×ØÙÚÛÜÝÞßàáâãäåæçèéêëìíîïðñòóôõö÷øùúûüýþÿĀāĂăĄ\n",
      "ąĆćĈĉĊċČčĎďĐđĒēĔĕĖėĘęĚěĜĝĞğĠġĢģĤĥĦħĨĩĪīĬĭĮįİıĲĳĴĵĶķĸĹĺĻļĽľĿŀŁłŃńŅņŇňŉŊŋŌōŎŏŐőŒœŔŕŖŗŘřŚśŜŝŞşŠšŢţŤ\n",
      "ťŦŧŨũŪūŬŭŮůŰűŲųŴŵŶŷŸŹźŻżŽžſƀƁƂƄƅƆƇƉƊƋƍƎƏƐƒƓƔƖƗƘƚƞƟƤƦƧƨƩƫƱƵƶƷƸƹƻƼƿǀǁǂǃǄǅǆǇǈǉǊǋǌǍǎǏǐǑǒǓǔǝǢǣǦǧǨǩǪǫǮ\n",
      "ǯǰǱǲǳǴǸǹǼǽȀȁȂȃȄȅȆȇȈȉȊȋȌȍȎȏȐȑȒȓȔȕȖȗȘșȚțȜȝȞȟȠȢȣȤȥȦȧȨȩȮȯȲȳȷȸȹȺȻȼȽȾɁɄɅɆɇɈɉɌɍɎɏɑɒɔɘəɛɜɟɢɣɨɩɪɯɰɱɴɵɸʀʁʋ\n",
      "ʍʏʒʔʘʙʜʟʹʻʼˆˇˈˉˊˋː˗˘˙˚˛˜˝˴˸ ̀ ́ ̂ ̃ ̄ ̅ ̆ ̇ ̈ ̉ ̊ ̋ ̌ ̍ ̎ ̏ ̐ ̑ ̒ ̓ ̔ ̕ ̖ ̗ ̘ ̙ ̚ ̛ ̜ ̝ ̞ ̟ ̠ ̡ ̢ ̣ ̤ ̥ ̦ ̧ ̨ ̩ ̪ ̫ ̬ ̭ ̮ ̯ ̰ ̱ ̲ ̳ ̴ ̵ ̶ ̷ ̸ ̹ ̻ ̼ ̽ ̾ ̿ ̀ ́ ͂ ̈́ ͅ ͆\n",
      " ͇ ͈ ͉ ͊ ͋ ͌ ͍ ͎ ͐ ͑ ͒ ͓ ͔ ͕ ͖ ͗ ͘ ͙ ͚ ͛ͰͱͲͳʹ͵Ͷͷͺͻͼ;Ϳ΄΅Ά·ΈΉΊΌΎΏΐΑΒΓΔΕΖΗΘΙΚΛΜΝΞΟΠΡΣΤΥΦΧΨΩΪΫάέήίΰαβγδεζηθικλμνξοπρςστυ\n",
      "φχψωϊϋόύώϏϐϑϒϓϔϕϖϗϘϙϚϛϜϝϞϟϠϡϢϣϤϥϦϧϨϩϬϭϮϯϰϱϲϳϴϵ϶ϷϸϹϺϻϽϾЀЁЂЃЄЅІЇЈЉЊЋЌЍЎЏАБВГДЕЖЗИЙКЛМНОПРСТУФХЦЧШЩ\n",
      "ЪЫЬЭЮЯабвгдежзийклмнопрстуфхцчшщъыьэюяѐёђѓєѕіїјљњћќѝўџѠѡѢѣѤѥѦѧѨѩѪѫѬѭѮѯѰѱѲѳѴѵѶѷѸѹѺѻѼѽѾѿҁ҂ҌҍҐґҒҔҕҖ\n",
      "җҘҚқҞҟҢңҨҩҪҫҬҭҮҰҲҳҶҷҺһҽӀӁӂӃӄӅӆӇӈӉӊӋӌӍӎӏӐӑӒӓӔӕӖӗӘәӚӜӝӞӠӡӢӣӤӥӦӧӨөӪӮӯӰӱӲӳӴӵӶӷӸӹӼӽԀԁԌԍԐԑԚԛԜԝԤԥԦԧԮԯԱԲ\n",
      "ԳԴԵԶԷԸԹԺԻԼԽԾԿՀՁՂՃՄՅՆՇՈՉՊՋՌՍՎՏՐՑՒՓՔՕՖՙ՚՛՝՞ՠաբգդեզէըթժիլխծկհձղճմյնշոչպջռսվտրցւփքօֆևֈ։֊֍֎֏ ऀ ँ ं ःऄअआइई\n",
      "उऊऋऌऍऎएऐऑऒओऔकखगघङचछजझञटठडढणतथदधनऩपफबभमयरऱलळऴवशषसह ऺ ऻ ़ऽ ा ु ू ृ ॄ ॅ ॆ े ै ॉ ॊ ो ौ ्ॐ ॑ ॒ ॓ ॔ ॕ ॖ ॗक़ख़ग़ज़ड़ढ़फ़य़ॠॡ ॢ।॥०१२३४५६७\n",
      "८९॰ॱॹॺॻॼॽॾॿႹႽჍაბგდევზთიკლმნოპჟრსტუფქღყშჩცძწჭხჯჰჱჲჳჴჵჶჷჸჹჺ჻ჼჽჾჿḂḃḄḅḆḇḊḋḌḍḎḏḐḑḒḓḘḙḚḛḞḟḠḡḢḣḤḥḦḧḨḩḪḫ\n",
      "ḬḭḰḱḲḳḴḵḶḷḺḻḼḽḾḿṀṁṂṃṄṅṆṇṈṉṊṋṔṕṖṗṘṙṚṛṞṟṠṡṢṣṪṫṬṭṮṯṰṱṲṳṴṵṶṷṼṽṾṿẀẁẂẃẄẅẆẇẈẉẊẋẌẍẎẏẐẑẒẓẔẕẖẗẘẙẚẛẜẞẟẠạẢảẸ\n",
      "ẹẺẻẼẽỈỉỊịỌọỎỏỤụỦủỲỳỴỵỶỷỸỹỼỽỿ᾽ι᾿´῾‐‑‒–—―‖‘’‚“”„‟†‡•․…‧‰‱′‵‹›‼‽⁋⁚⁰ⁱ⁴⁵⁶⁷⁸⁹⁺⁻⁼⁽⁾ⁿ₀₁₂₃₄₅₆₇₈₉₊₋₌₍₎₧₩₪€\n",
      "₮₰₳₸₹₺₽₾₿ℂ℃℅℆ℇ℈℉ℊℋℌℍℎℏℐℑℒℓℕ№ℙℚℛℜℝ℞™ℤΩ℧ℨKÅℬℭ℮ℯℰℱℲℳℴℵℹℽℾℿ⅀⅁⅂⅃⅄ⅅⅆⅇⅈⅉ⅐⅑⅒⅓⅔⅕⅖⅗⅘⅙⅚⅛⅜⅝⅞⅟ⅠⅡⅢⅣⅤⅥⅨⅩⅪⅬⅭⅮⅯⅰⅱ\n",
      "ⅲⅳⅴⅵⅸⅹⅺⅼⅽⅾⅿↀↁↃↄↅↆↇ↉↊↋←↑→↓↔↕↖↗↘↙↞↟↠↡↨↯↰↱↲↳↴↵↶↷↹↺↻↼↽↾↿⇀⇁⇂⇃⇄⇐⇒⇕⇠⇡⇢⇣⇧⇨⇳⇽⇾∀∁∂∃∅∆∇∈∊∍∎∏∑−∓∕∖∗∘∙√∞∟∣∥∨∩\n",
      "∪∫∬∶≈≠≡≤≥⊙⊤⊥⊳⋁⋂⋃⋄⋅⋿⌐⌠⌡⍳⍴⍵⍶⍷⍸⍹⍺①②③④⑤⑥⑦⑧⑨⑩⑪⑫⑬⑭⑮⑯⑰⑱⑲⑳⑴⑵⑶⑷⑸⑹⑺⑻⑼⑽⑾⑿⒀⒁⒂⒃⒄⒅⒆⒇⒈⒉⒊⒋⒌⒍⒎⒏⒐⒑⒒⒓⒔⒕⒖⒗⒘⒙⒚⒛⒜⒝⒞⒟⒠⒡\n",
      "⒢⒣⒤⒥⒦⒧⒨⒩⒪⒫⒬⒭⒮⒯⒰⒱⒲⒳⒴⒵ⒶⒷⒸⒹⒺⒻⒼⒽⒾⒿⓀⓁⓂⓃⓄⓅⓆⓇⓈⓉⓊⓋⓌⓍⓎⓏⓐⓑⓒⓓⓔⓕⓖⓗⓘⓙⓚⓛⓜⓝⓞⓟⓠⓡⓢⓣⓤⓥⓦⓧⓨⓩ⓪⓫⓬⓭⓮⓯⓰⓱⓲⓳⓴⓵⓶⓷⓸⓹⓺⓻⓼⓽⓾⓿─━\n",
      "│┃┄┅┆┇┈┉┊┋┌┍┎┏┐┑┒┓└┕┖┗┘┙┚┛├┝┞┟┠┡┢┣┤┥┦┧┨┩┪┫┬┭┮┯┰┱┲┳┴┵┶┷┸┹┺┻┼┽┾┿╀╁╂╃╄╅╆╇╈╉╊╋╌╍╎╏═║╒╓╔╕╖╗╘╙╚╛╜╝╞╟╠╡\n",
      "╢╣╤╥╦╧╨╩╪╫╬╭╮╯╰╱╲╳╴╵╶╷╸╹╺╻╼╽╾╿▀▁▂▃▄▅▆▇█▉▊▋▌▍▎▏▐░▒▓▔▕▖▗▘▙▚▛▜▝▞▟■□▬▲△▴▵▶▷▹►▻▼▽▾▿◀◄◆◇◈◊○◌◎◐◑◒◓◔◕◖◗◘\n",
      "◙◢◣◤◥◦◯◴◵◶◷◻◼◽◾★☉☐☑☒☥☦☧☨☩☺☻☼♀♂♠♡♢♣♤♥♦♧♩♪♫♬♰♱⚆⚇⚈⚉⚠⚪⚫⚬⛛⛤⛥⛦✀✁✂✃✄✅✓✔✕✖✗✘✙✚✛✜✝✞✟✠✡✢✣✤✥✦✧✨✩✪✫✬✭✮✯✰✱✲✳✴\n",
      "✵✶✷✸✹✺✻✼✽✾✿❀❁❂❃❄❅❆❇❈❉❊❋❌❍❎❓❔❕❖❗❘❙❛❜❝❞❟❠❡❢❣❤❥❦❧❨❪❬❮❰❲❴❶❷❸❹❺❻❼❽❾❿➀➁➂➃➄➅➆➇➈➉➊➋➌➍➎➏➐➑➒➓➔➕➖➗➛➜➡➢➣➤➲⠁⠂\n",
      "⠃⠄⠅⠆⠇⠈⠉⠊⠋⠌⠍⠎⠏⠐⠑⠒⠓⠔⠕⠖⠗⠘⠙⠚⠛⠜⠝⠞⠟⠠⠡⠢⠣⠤⠥⠦⠧⠨⠩⠪⠫⠬⠭⠮⠯⠰⠱⠲⠳⠴⠵⠶⠷⠸⠹⠺⠻⠼⠽⠾⠿⡀⡁⡂⡃⡄⡅⡆⡇⡈⡉⡊⡋⡌⡍⡎⡏⡐⡑⡒⡓⡔⡕⡖⡗⡘⡙⡚⡛⡜⡝⡞⡟⡠⡡⡢\n",
      "⡣⡤⡥⡦⡧⡨⡩⡪⡫⡬⡭⡮⡯⡰⡱⡲⡳⡴⡵⡶⡷⡸⡹⡺⡻⡼⡽⡾⡿⢀⢁⢂⢃⢄⢅⢆⢇⢈⢉⢊⢋⢌⢍⢎⢏⢐⢑⢒⢓⢔⢕⢖⢗⢘⢙⢚⢛⢜⢝⢞⢟⢠⢡⢢⢣⢤⢥⢦⢧⢨⢩⢪⢫⢬⢭⢮⢯⢰⢱⢲⢳⢴⢵⢶⢷⢸⢹⢺⢻⢼⢽⢾⢿⣀⣁⣂\n",
      "⣃⣄⣅⣆⣇⣈⣉⣊⣋⣌⣍⣎⣏⣐⣑⣒⣓⣔⣕⣖⣗⣘⣙⣚⣛⣜⣝⣞⣟⣠⣡⣢⣣⣤⣥⣦⣧⣨⣩⣪⣫⣬⣭⣮⣯⣰⣱⣲⣳⣴⣵⣶⣷⣸⣹⣺⣻⣼⣽⣾⣿⤌⤍⤎⤏⤐⤑⤫⤬⥀⥁⥊⥋⥌⥍⬁⬄⬆⬉⬌⬍⬤⬥⬦⬩⬷⬸⭠⭡⭢⭣⭪⭫⭬⭭⮉\n",
      "⮊⮋⮘⮙⮚⮛⮜⮝⮞⮟⯁⯅⯆⯇⯈⯬⯭⯮⯯ⱣⱧⱨⱩⱪⱫⱬⱮⱯⱲⱵⱶぁあぃいぅうぇえぉおかがきぎくぐけげこごさざしじすずせぜそぞただちぢっつづてでとどなにぬねのはばぱひびぴふぶぷへべぺほぼぽまみむめ\n",
      "もゃやゅゆょよらりるれろゎわをんゔゕゖ ゙ ゚゛゜ゝゞゟ゠ァアィイゥウェエォオカガキギクグケゲコゴサザシジスズセゼソゾタダチヂッツヅテデトドナニヌネノハバパヒビピフブプヘベペホボポマミムメモャヤュ\n",
      "ユョヨラリルレロヮワヰヱヲンヴヵヶヷヸヹヺ・ーヽヾヿㇲㇳㇴㇵㇶꓐꓑꓒꓓꓔꓕꓖꓗꓘꓙꓚꓛꓜꓝꓞꓟꓠꓡꓢꓣꓤꓥꓦꓧꓨꓩꓪꓫꓬꓭꓮꓯꓰꓱꓲꓳꓴꓵꓶꓷꓸꓹꓼꓽ꓿ꙄꙅꙇꙊꙋꙌꙍꙖꙗꙜꙞꙨꙩꙪꙫꙬꙭꙮ꙾Ꚁ\n",
      "ꚁꚂꚃꚖꚗꜦꜧꜩꜫꜱꝀꝁꝂꝃꝈꝉꝊꝋꝎꝏꝮꝯꝰꝸꞀꞃꞅꞈ꞉꞊ꞋꞌꞍꞏꞐꞑꞔꞕꞘꞟꞫꞰꞱꞲꞳꞴꞵꞶꞷꟄꟆꟺꟻꟼꟽꬲꬽꭎꭒꭚﬀﬁﬂﬃﬄﬅﬆ𝐀𝐁𝐂𝐃𝐄𝐅𝐆𝐇𝐈𝐉𝐊𝐋𝐌𝐍𝐎𝐏𝐐𝐑𝐒𝐓𝐔𝐕𝐖𝐗𝐘𝐙𝐚𝐛𝐜\n",
      "𝐝𝐞𝐟𝐠𝐡𝐢𝐣𝐤𝐥𝐦𝐧𝐨𝐩𝐪𝐫𝐬𝐭𝐮𝐯𝐰𝐱𝐲𝐳𝐴𝐵𝐶𝐷𝐸𝐹𝐺𝐻𝐼𝐽𝐾𝐿𝑀𝑁𝑂𝑃𝑄𝑅𝑆𝑇𝑈𝑉𝑊𝑋𝑌𝑍𝑎𝑏𝑐𝑑𝑒𝑓𝑔𝑕𝑖𝑗𝑘𝑙𝑚𝑛𝑜𝑝𝑞𝑟𝑠𝑡𝑢𝑣𝑤𝑥𝑦𝑧𝑨𝑩𝑪𝑫𝑬𝑭𝑮𝑯𝑰𝑱𝑲𝑳𝑴𝑵𝑶𝑷𝑸𝑹𝑺𝑻𝑼\n",
      "𝑽𝑾𝑿𝒀𝒁𝒂𝒃𝒄𝒅𝒆𝒇𝒈𝒉𝒊𝒋𝒌𝒍𝒎𝒏𝒐𝒑𝒒𝒓𝒔𝒕𝒖𝒗𝒘𝒙𝒚𝒛𝒜𝒝𝒞𝒟𝒠𝒡𝒢𝒣𝒤𝒥𝒦𝒧𝒨𝒩𝒪𝒫𝒬𝒭𝒮𝒯𝒰𝒱𝒲𝒳𝒴𝒵𝒶𝒷𝒸𝒹𝒺𝒻𝒼𝒽𝒾𝒿𝓀𝓁𝓂𝓃𝓄𝓅𝓆𝓇𝓈𝓉𝓊𝓋𝓌𝓍𝓎𝓏𝓐𝓑𝓒𝓓𝓔𝓕𝓖𝓗𝓘𝓙𝓚𝓛𝓜\n",
      "𝓝𝓞𝓟𝓠𝓡𝓢𝓣𝓤𝓥𝓦𝓧𝓨𝓩𝓪𝓫𝓬𝓭𝓮𝓯𝓰𝓱𝓲𝓳𝓴𝓵𝓶𝓷𝓸𝓹𝓺𝓻𝓼𝓽𝓾𝓿𝔀𝔁𝔂𝔃𝔄𝔅𝔆𝔇𝔈𝔉𝔊𝔋𝔌𝔍𝔎𝔏𝔐𝔑𝔒𝔓𝔔𝔕𝔖𝔗𝔘𝔙𝔚𝔛𝔜𝔝𝔞𝔟𝔠𝔡𝔢𝔣𝔤𝔥𝔦𝔧𝔨𝔩𝔪𝔫𝔬𝔭𝔮𝔯𝔰𝔱𝔲𝔳𝔴𝔵𝔶𝔷𝔸𝔹𝔺𝔻𝔼\n",
      "𝔽𝔾𝔿𝕀𝕁𝕂𝕃𝕄𝕅𝕆𝕇𝕈𝕉𝕊𝕋𝕌𝕍𝕎𝕏𝕐𝕑𝕒𝕓𝕔𝕕𝕖𝕗𝕘𝕙𝕚𝕛𝕜𝕝𝕞𝕟𝕠𝕡𝕢𝕣𝕤𝕥𝕦𝕧𝕨𝕩𝕪𝕫𝕬𝕭𝕮𝕯𝕰𝕱𝕲𝕳𝕴𝕵𝕶𝕷𝕸𝕹𝕺𝕻𝕼𝕽𝕾𝕿𝖀𝖁𝖂𝖃𝖄𝖅𝖆𝖇𝖈𝖉𝖊𝖋𝖌𝖍𝖎𝖏𝖐𝖑𝖒𝖓𝖔𝖕𝖖𝖗𝖘𝖙𝖚𝖛𝖜\n",
      "𝖝𝖞𝖟𝖠𝖡𝖢𝖣𝖤𝖥𝖦𝖧𝖨𝖩𝖪𝖫𝖬𝖭𝖮𝖯𝖰𝖱𝖲𝖳𝖴𝖵𝖶𝖷𝖸𝖹𝖺𝖻𝖼𝖽𝖾𝖿𝗀𝗁𝗂𝗃𝗄𝗅𝗆𝗇𝗈𝗉𝗊𝗋𝗌𝗍𝗎𝗏𝗐𝗑𝗒𝗓𝗔𝗕𝗖𝗗𝗘𝗙𝗚𝗛𝗜𝗝𝗞𝗟𝗠𝗡𝗢𝗣𝗤𝗥𝗦𝗧𝗨𝗩𝗪𝗫𝗬𝗭𝗮𝗯𝗰𝗱𝗲𝗳𝗴𝗵𝗶𝗷𝗸𝗹𝗺𝗻𝗼\n",
      "𝗽𝗾𝗿𝘀𝘁𝘂𝘃𝘄𝘅𝘆𝘇𝘈𝘉𝘊𝘋𝘌𝘍𝘎𝘏𝘐𝘑𝘒𝘓𝘔𝘕𝘖𝘗𝘘𝘙𝘚𝘛𝘜𝘝𝘞𝘟𝘠𝘡𝘢𝘣𝘤𝘥𝘦𝘧𝘨𝘩𝘪𝘫𝘬𝘭𝘮𝘯𝘰𝘱𝘲𝘳𝘴𝘵𝘶𝘷𝘸𝘹𝘺𝘻𝘼𝘽𝘾𝘿𝙀𝙁𝙂𝙃𝙄𝙅𝙆𝙇𝙈𝙉𝙊𝙋𝙌𝙍𝙎𝙏𝙐𝙑𝙒𝙓𝙔𝙕𝙖𝙗𝙘𝙙𝙚𝙛𝙜\n",
      "𝙝𝙞𝙟𝙠𝙡𝙢𝙣𝙤𝙥𝙦𝙧𝙨𝙩𝙪𝙫𝙬𝙭𝙮𝙯𝙰𝙱𝙲𝙳𝙴𝙵𝙶𝙷𝙸𝙹𝙺𝙻𝙼𝙽𝙾𝙿𝚀𝚁𝚂𝚃𝚄𝚅𝚆𝚇𝚈𝚉𝚊𝚋𝚌𝚍𝚎𝚏𝚐𝚑𝚒𝚓𝚔𝚕𝚖𝚗𝚘𝚙𝚚𝚛𝚜𝚝𝚞𝚟𝚠𝚡𝚢𝚣𝚤𝚥𝚨𝚩𝚪𝚫𝚬𝚭𝚮𝚯𝚰𝚱𝚲𝚳𝚴𝚵𝚶𝚷𝚸𝚹𝚺𝚻𝚼𝚽𝚾\n",
      "𝚿𝛀𝛁𝛂𝛃𝛄𝛅𝛆𝛇𝛈𝛉𝛊𝛋𝛌𝛍𝛎𝛏𝛐𝛑𝛒𝛓𝛔𝛕𝛖𝛗𝛘𝛙𝛚𝛛𝛜𝛝𝛞𝛟𝛠𝛡𝛢𝛣𝛤𝛥𝛦𝛧𝛨𝛩𝛪𝛫𝛬𝛭𝛮𝛯𝛰𝛱𝛲𝛳𝛴𝛵𝛶𝛷𝛸𝛹𝛺𝛻𝛼𝛽𝛾𝛿𝜀𝜁𝜂𝜃𝜄𝜅𝜆𝜇𝜈𝜉𝜊𝜋𝜌𝜍𝜎𝜏𝜐𝜑𝜒𝜓𝜔𝜕𝜖𝜗𝜘𝜙𝜚𝜛𝜜𝜝𝜞\n",
      "𝜟𝜠𝜡𝜢𝜣𝜤𝜥𝜦𝜧𝜨𝜩𝜪𝜫𝜬𝜭𝜮𝜯𝜰𝜱𝜲𝜳𝜴𝜵𝜶𝜷𝜸𝜹𝜺𝜻𝜼𝜽𝜾𝜿𝝀𝝁𝝂𝝃𝝄𝝅𝝆𝝇𝝈𝝉𝝊𝝋𝝌𝝍𝝎𝝏𝝐𝝑𝝒𝝓𝝔𝝕𝝖𝝗𝝘𝝙𝝚𝝛𝝜𝝝𝝞𝝟𝝠𝝡𝝢𝝣𝝤𝝥𝝦𝝧𝝨𝝩𝝪𝝫𝝬𝝭𝝮𝝯𝝰𝝱𝝲𝝳𝝴𝝵𝝶𝝷𝝸𝝹𝝺𝝻𝝼𝝽𝝾\n",
      "𝝿𝞀𝞁𝞂𝞃𝞄𝞅𝞆𝞇𝞈𝞉𝞊𝞋𝞌𝞍𝞎𝞏𝞐𝞑𝞒𝞓𝞔𝞕𝞖𝞗𝞘𝞙𝞚𝞛𝞜𝞝𝞞𝞟𝞠𝞡𝞢𝞣𝞤𝞥𝞦𝞧𝞨𝞩𝞪𝞫𝞬𝞭𝞮𝞯𝞰𝞱𝞲𝞳𝞴𝞵𝞶𝞷𝞸𝞹𝞺𝞻𝞼𝞽𝞾𝞿𝟀𝟁𝟂𝟃𝟄𝟅𝟆𝟇𝟈𝟉𝟊𝟋𝟎𝟏𝟐𝟑𝟒𝟓𝟔𝟕𝟖𝟗𝟘𝟙𝟚𝟛𝟜𝟝𝟞𝟟𝟠\n",
      "𝟡𝟢𝟣𝟤𝟥𝟦𝟧𝟨𝟩𝟪𝟫𝟬𝟭𝟮𝟯𝟰𝟱𝟲𝟳𝟴𝟵𝟶𝟷𝟸𝟹𝟺𝟻𝟼𝟽𝟾𝟿🎔🎜🎝🎧🏵🏶👆👇👈👉👍👎👻👾💀💉💎💓💔💕💖💗💘💙💚💛💜💝💞💟💠💲💴💹💽💾💿📀📇📞🔆🔇🔈🔉🔊🔛🔜🔝🔴🔵🔶🔷🔸🔹🔺🔻🔼🔾🔿🕀🕁🕂🕆🕇🕈\n",
      "🕨🕩🕪🕻🕼🕽🕾🕿🖀🖁🖒🖓🖗🖘🖙🖚🖛🖜🖝🖞🖟🖠🖡🖢🖣🖤🖪🖫🖬🗅🗆🗇🗈🗉🗊🗋🗌🗍🗎🗏🗐🗑🗒🗴🗵🗶🗹🠅🠆🠉🠊🠔🠕🠖🠗🠙🠚🠝🠞🠤🠥🠦🠧🠩🠪🠭🠮🠱🠲🠸🠹🠺🠻🠽🠿🡀🡁🡂🡃🡄🡅🡆🡇🡐🡑🡒🡓🡔🡕🡖🡗🡘🡙🡨🡬🡭\n",
      "🡮🡯🡶🡾🢆🢐🢑🢒🢓🬀🬁🬂🬃🬄🬅🬆🬇🬈🬉🬊🬋🬌🬍🬎🬏🬐🬑🬒🬓🬔🬕🬖🬗🬘🬙🬚🬛🬜🬝🬞🬟🬠🬡🬢🬣🬤🬥🬦🬧🬨🬩🬪🬫🬬🬭🬮🬯🬰🬱🬲🬳🬴🬵🬶🬷🬸🬹🬺🬻🬼🬽🬾🬿🭀🭁🭂🭃🭄🭅🭆🭇🭈🭉🭊🭋🭌🭍🭎🭏🭐🭑🭒🭓🭔🭕🭖\n",
      "🭗🭘🭙🭚🭛🭜🭝🭞🭟🭠🭡🭢🭣🭤🭥🭦🭧🭨🭩🭪🭫🭬🭭🭮🭯🭰🭱🭲🭳🭴🭵🭶🭷🭸🭹🭺🭻🭼🭽🭾🭿🮀🮁🮂🮃🮄🮅🮆🮇🮈🮉🮊🮋🮌🮍🮎🮏🮐🮑🮒🮓🮔🮕🮖🮗🮘🮙🮚🮛🮜🮝🮞🮟🮠🮡🮢🮣🮤🮥🮦🮧🮨🮩🮪🮫🮬🮭🮮🮯🮰🮱🮲🮳🮴🮵🮶\n",
      "🮷🮸🮹🮺🮻🮼🮽🮾🮿🯀🯁🯂🯃🯄🯅🯆🯇🯈🯉🯊🯋🯌🯍🯎🯏🯐🯰🯱🯲🯳🯴🯵🯶🯷🯸🯹                                                            \n"
     ]
    },
    {
     "data": {
      "image/png": "[encoded data removed]",
      "text/plain": [
       "<Figure size 576x540 with 1 Axes>"
      ]
     },
     "metadata": {
      "needs_background": "light"
     },
     "output_type": "display_data"
    }
   ],
   "source": [
    "allc = ''\n",
    "allb = []\n",
    "for g,b in zip(actual_groups,bitmaps):\n",
    "    q = b[:,:48*6,:].reshape(20,12,48,6,3)\n",
    "    q = q.transpose(0,2,1,3,4)\n",
    "    q = q.reshape(20*48,12,6,3)\n",
    "    keep = [(g[i],q[i]) for i in range(K) if not all(q[i]==0) and not g[i]==' ' and g[i]<='🯹']\n",
    "    kg,kb = zip(*keep)\n",
    "    allc += ''.join(kg)\n",
    "    allb += kb\n",
    "\n",
    "nc = 96\n",
    "nr = int(ceil(len(allc)/nc))\n",
    "nn = nr*nc\n",
    "allc = allc.ljust(nn)\n",
    "allb += [uint8(zeros((12,6,3))) for i in range(nn-shape(allb)[0])]\n",
    "allb = array(allb).reshape(nr,nc,12,6,3)\n",
    "allc = np.array([*allc]).reshape(nr,nc)\n",
    "q = array([q.transpose(0,2,1,3).reshape(nc*6,12,3).transpose(1,0,2) for q in allb])\n",
    "q = q.reshape(nr*12,nc*6,3)\n",
    "imh,imw = q.shape[:2]\n",
    "figure(figsize=(imw,imh),dpi=1)\n",
    "imshow(q,interpolation='nearest')\n",
    "axis('off')\n",
    "subplots_adjust(0,0,1,1,0,0)\n",
    "savefig('supported.png')\n",
    "\n",
    "supported = '\\n'.join(''.join(r) for r in allc)\n",
    "to_replace = ''\n",
    "for c in supported: \n",
    "    if unicodedata.category(c)[0]=='M':\n",
    "        to_replace += c\n",
    "for c in to_replace:\n",
    "    supported = supported.replace(c,' '+c)\n",
    "print(supported)"
   ]
  },
  {
   "cell_type": "markdown",
   "id": "0b038758-776a-4c55-a99c-2b42f8859798",
   "metadata": {},
   "source": [
    "## Devanagari diacritics prooved too difficult!\n",
    "\n",
    "One would need to add custom code to handld prefix diacritic. \n",
    "\n",
    "```python\n",
    "s  = reset + 'Devanagari\\n'\n",
    "s += ('ऄअआइईउऊऋऌऍऎएऐऑऒओऔकखगघङचछजझञटठडढणत'\n",
    "      'थदधनऩपफबभमयरऱलळऴवशषसहॐक़ख़ग़ज़ड़ढ़फ़य़ॠॡॱ'\n",
    "      'ॲॳॴॵॶॷॸॹॺॻॼॾॿॽ।॥०१२३४५६७८९॰')\n",
    "\n",
    "base = ('अआइउऊऋऌएकखगघङचछजझञटठडढणत'\n",
    "      'थदधनपफबभमयरऱलळवशषसहॐॠॡॱ'\n",
    "      'ॲॳॴॵॸॹॺॻॼॾॿ')\n",
    "modifier = ('\\u0900\\u0901\\u0902\\u093A\\u093B\\u093C\\u093E\\u093F'\n",
    "            '\\u0940\\u0941\\u0942\\u0943\\u0944\\u0945\\u0946\\u0947\\u0948'\n",
    "            '\\u0949\\u094A\\u094B\\u094C\\u094E\\u094F\\u0951\\u0952'\n",
    "            '\\u0953\\u0954\\u0955\\u0956\\u0957')\n",
    "\n",
    "print2(reset)\n",
    "for i,b in enumerate(base):\n",
    "    print2(b+' ')\n",
    "    print(b+' ',end='')\n",
    "    for m in modifier:\n",
    "        print(b+m,end='')\n",
    "        print2(b+m)\n",
    "    print()\n",
    "    print2('\\n')\n",
    "    if (i==18): break\n",
    "    \n",
    "for i in range(0x0900,1+ord('ॿ')):\n",
    "n = unicodedata.name(chr(i))\n",
    "if 'SIGN' in n or 'ACCENT' in n:\n",
    "    print('0x%X  %s %s'%(i,chr(i),n))\n",
    "\n",
    "        \n",
    "print('कखगघङचछजझञटठडढणतथदधनऩपफबभमयरऱलळऴवशषसह़কখগঘঙচছজঝঞটঠডঢণতথদধনপফবভমযরলশষসহ়'\n",
    "      'ৰৱਕਖਗਘਙਚਛਜਝਞਟਠਡਢਣਤਥਦਧਨਪਫਬਭਮਯਰਲਵਸਹ਼કખગઘઙચછજઝઞટઠડઢણતથદધનપફબભમયરલ'\n",
    "      'ળવશષસહକଖଗଘଙଚଛଜଝଞଟଠଡଢଣତଥଦଧନପଫବଭମଯରଲଳଶଷସହୟୱகஙசஜஞடணதநனபமய'\n",
    "      'ரறலளழவஶஷஸஹకఖగఘఙచఛజఝఞటఠడఢణతథదధనపఫబభమయరఱలళవశషసహಕಖಗಘಙಚಛಜಝ'\n",
    "      'ಞಟಠಡಢಣತಥದಧನಪಫಬಭಮಯರಱಲಳವಶಷಸಹೞകഖഗഘങചഛജഝഞടഠഡഢണതഥദധനഩപഫബ'\n",
    "      'ഭമയരറലളഴവശഷസഹකඛගඝඞචඡජඣඤටඨඩඪණතථදධනපඵබභමයරලවශෂසහළกขฃคฅฆงจฉ'\n",
    "      'ชซฌญฎฏฐฑฒณดตถทธนบปผฝพฟภมยรลวศษสหฬฮກຂຄຆງຈຉຊຌຍຎຏຐຑຒຓຕຖທຘນປຜພຠມຣລວຨຩສຫຬཀ'\n",
    "      'ཁགངཅཆཇཉཊཋཌཎཏཐདནཔཕབམཛཝཡརལཤཥསཧྷကခဂဃငစဆဇဈဉညဋဌဍဎဏတထဒဓနပဖဗဘမယ'\n",
    "      'ရလဝသဟဠၐၑᜃᜄᜅᜆᜇᜈᜉᜊᜋᜌᜎᜏᜐᜑᜣᜤᜥᜦᜧᜨᜩᜪᜫᜬᜭᜮᜯᜰᜱᝃᝄᝅᝆᝇᝈᝉᝊᝋᝌᝍᝎᝏᝐᝑᝣᝤ'\n",
    "      'ᝥᝦᝧᝨᝩᝪᝫᝬᝮᝯᝰកខគឃងចឆជឈញដឋឌឍណតថទធនបផពភមយរលវឝឞសហឡᤁ'\n",
    "      'ᤂᤃᤄᤅᤆᤇᤈᤉᤊᤋᤌᤍᤎᤏᤐᤑᤒᤓᤔᤕᤖᤗᤘᤙᤚᤛᤜᨀᨁᨂᨄᨅᨆᨈᨉᨊᨌᨍᨎᨐᨑᨒᨓᨔᨕᬓᬔᬕᬖᬗ'\n",
    "      'ᬘᬙᬚᬛᬜᬝᬞᬟᬠᬡᬢᬣᬤᬥᬦᬧᬨᬩᬪᬫᬬᬭᬮᬯᬰᬱᬲᬳᮊᮌᮍᮎᮏᮑᮒᮓᮔᮕᮘᮙᮚᮛᮜᮝ'\n",
    "      'ᮞᮠᮮᮯᮽᯂᯅᯇᯉᯎᯐᯑᯒᯔᯖᯘᯛᯝᯞᯠᰀᰂᰃᰅᰆᰇᰈᰉᰊᰋᰌᰍᰎᰐᰓᰕᰚᰛᰜᰝᰟᰠᰡ᰷ᱍᱎᱏḍḷḻṅ'\n",
    "      'ṇṉṟṣṭẏ  ꠇꠈꠉꠊꠌꠍꠎꠏꠐꠑꠒꠓꠔꠕꠖꠗꠘꠙꠚꠛꠜꠝꠞꠟꠡꠢꤰꤱꤲꤳꤴꤵꤶꤷꤸꤹꤺꤻꤼꤽꤾꤿꥀꥁꦏꦑꦒꦓꦔ'\n",
    "      'ꦕꦖꦗꦘꦙꦚꦛꦜꦝꦞꦟꦠꦡꦢꦣꦤꦥꦦꦧꦨꦩꦪꦫꦭꦮꦯꦰꦱꦲꨆꨇꨈꨉꨋꨌꨍ'\n",
    "      'ꨎꨏꨑꨓꨔꨕꨖꨘꨚꨜꨝꨞꨠꨢꨣꨤꨥꨦꨧꨨꫢꫣꫤꫥꫦꫧꫨꫩꫪꯀꯁꯂꯃꯄꯅꯆꯇꯈꯉꯊꯋ'\n",
    "      'ꯌꯍꯐꯒꯓꯔꯕꯖꯗꯘꯙꯚ𑀓𑀔𑀕𑀖𑀗𑀘𑀙𑀚𑀛𑀜𑀝𑀞𑀟𑀠𑀡𑀢𑀣𑀤𑀥𑀦𑀧𑀨𑀩𑀪𑀫𑀬𑀭𑀮𑀯𑀰𑀱𑀲𑀳𑀴𑂍𑂎𑂏𑂐𑂑𑂒𑂓𑂔𑂕𑂖𑂗𑂘𑂙𑂛'\n",
    "      '𑂝𑂞𑂟𑂠𑂡𑂢𑂣𑂤𑂥𑂦𑂧𑂨𑂩𑂪𑂫𑂬𑂭𑂮𑂯𑄇𑄈𑄉𑄊𑄋𑄌𑄍𑄎𑄏𑄐𑄑𑄒𑄓𑄔𑄕𑄖𑄗𑄘𑄙𑄚𑄛𑄜𑄝𑄞𑄟𑄠𑄡𑄢𑄣𑄤𑄥𑄦𑅄𑌕'\n",
    "      '𑌖𑌗𑌘𑌙𑌚𑌛𑌜𑌝𑌞𑌟𑌠𑌡𑌢𑌣𑌤𑌥𑌦𑌧𑌨𑌪𑌫𑌬𑌭𑌮𑌯𑌰𑌲𑌳𑌵𑌶𑌷𑌸𑌹𑒏𑒐𑒑'\n",
    "      '𑒒𑒓𑒔𑒕𑒖𑒗𑒘𑒙𑒚𑒛𑒜𑒝𑒞𑒟𑒠𑒡𑒢𑒣𑒤𑒥𑒦𑒧𑒨𑒩𑒪𑒬𑒭𑒮𑒯𑻠𑻡𑻢𑻣𑻤𑻥𑻦𑻧𑻨𑻩𑻪𑻫𑻬𑻭𑻮𑻯𑻰𑻱')\n",
    "\n",
    "missing_georgian = ('ႠႡႢႣႤႥႦႧႨႩႪႫႬႭႮႯႰႱႲႳႴႵႶႷႸႹႺႻႼႽႾႿჀჁჂჃჄჅ'\n",
    "                    'ჇჍᲐᲑᲒᲓᲔᲕᲖᲗᲘᲙᲚᲛᲜᲝᲞᲟᲠᲡᲢᲣᲤᲥᲦᲧᲨᲩᲪᲫᲬᲭᲮᲯᲰᲱᲲᲳᲴᲵᲶᲷᲸᲹᲺᲽᲾᲿ'\n",
    "                    'ⴀⴁⴂⴃⴄⴅⴆⴇⴈⴉⴊⴋⴌⴍⴎⴏⴐⴑⴒⴓⴔⴕⴖⴗⴘⴙⴚⴛⴜⴝⴞⴟⴠⴡⴢⴣⴤⴥ'\n",
    "                    'ⴧⴭ𐔰𐔱𐔲𐔳𐔴𐔵𐔶𐔷𐔸𐔹𐔺𐔻𐔼𐔽𐔾𐔿𐕀𐕁𐕂𐕃𐕄𐕅𐕆𐕇𐕈𐕉𐕊𐕋𐕌𐕍𐕎𐕏𐕐𐕑𐕒𐕓𐕔𐕕𐕖𐕗𐕘𐕙𐕚𐕛𐕜𐕝𐕞𐕟𐕠𐕡𐕢𐕣')\n",
    "```"
   ]
  }
 ],
 "metadata": {
  "kernelspec": {
   "display_name": "Python 3 (ipykernel)",
   "language": "python",
   "name": "python3"
  },
  "language_info": {
   "codemirror_mode": {
    "name": "ipython",
    "version": 3
   },
   "file_extension": ".py",
   "mimetype": "text/x-python",
   "name": "python",
   "nbconvert_exporter": "python",
   "pygments_lexer": "ipython3",
   "version": "3.8.10"
  }
 },
 "nbformat": 4,
 "nbformat_minor": 5
}
