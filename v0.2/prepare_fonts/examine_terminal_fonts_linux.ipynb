{
 "cells": [
  {
   "cell_type": "code",
   "execution_count": null,
   "id": "33ee251a-0b0a-4136-93d9-3b1a19a3a1f7",
   "metadata": {},
   "outputs": [],
   "source": [
    "import os,subprocess,struct,gzip\n",
    "from pylab import *\n",
    "from collections import defaultdict\n",
    "\n",
    "result     = subprocess.run(['find','/usr/share/consolefonts/','-iname','*.psf*'],stdout=subprocess.PIPE,stderr=subprocess.DEVNULL)\n",
    "fontfiles  = result.stdout.split()\n",
    "compressed = [f for f in fontfiles if f.lower()[-7:]==b'.psf.gz']"
   ]
  },
  {
   "cell_type": "code",
   "execution_count": null,
   "id": "3c5ddc8a-a8a2-455f-9215-1c7b3915a903",
   "metadata": {},
   "outputs": [
    {
     "name": "stdout",
     "output_type": "stream",
     "text": [
      " !\"#$%&'()*+,-./0123456789:;<=>?@ABCDEFGHIJKLMNOPQRSTUVWXYZ[\\]^_`abcdefghijklmnopqrstuvwxyz{|}~ §–•←↑→↓−▲▶▼◀♦\n"
     ]
    }
   ],
   "source": [
    "all_supported = {}\n",
    "\n",
    "for f in compressed:\n",
    "    with gzip.open(f,'rb') as gf: b = b''.join(gf)\n",
    "\n",
    "    is_psf1 = struct.unpack('BB',b[:2])==(0x36,0x04)\n",
    "    is_psf2 = False if is_psf1 else struct.unpack('BBBB',b[:4])==(0x72,0xb5,0x4a,0x86)\n",
    "    if not (is_psf1 or is_psf2):\n",
    "        raise ValueError('Magic number does not match either psf1 or psf2 format')\n",
    "    if is_psf2:\n",
    "        #print('Skipping psf2 file',f)\n",
    "        continue\n",
    "    if is_psf1:\n",
    "        magic, mode, charsize = struct.unpack('2sBB',b[:4])\n",
    "        PSF1_MODE512    =0x01\n",
    "        PSF1_MODEHASTAB =0x02\n",
    "        PSF1_MODEHASSEQ =0x04\n",
    "        PSF1_MAXMODE    =0x05\n",
    "        PSF1_SEPARATOR  =0xFFFF\n",
    "        PSF1_STARTSEQ   =0xFFFE\n",
    "\n",
    "        is512  = (mode&PSF1_MODE512)>0\n",
    "        hastab = (mode&PSF1_MODEHASTAB)>0\n",
    "        hasseq = (mode&PSF1_MODEHASSEQ)>0\n",
    "        height = charsize\n",
    "        width  = 8\n",
    "        nchars = 512 if is512 else 256\n",
    "        #print(is512, hastab, hasseq, width, height, nchars)\n",
    "\n",
    "        bitsperchar  = width*height\n",
    "        bytesperchar = bitsperchar//8\n",
    "        fontbytes    = bytesperchar*nchars\n",
    "        filedata     = b[4:]\n",
    "        fontdata     = filedata[:fontbytes]\n",
    "        unicodeinfo  = filedata[fontbytes:]\n",
    "\n",
    "        nshorts = len(unicodeinfo)//2\n",
    "        codes   = struct.unpack('<'+'H'*nshorts, unicodeinfo)\n",
    "\n",
    "        # Combining accents will break this\n",
    "        groups    = ''.join([chr(c) for c in codes]).split(chr(0xFFFF))\n",
    "        supported = ''.join(groups[:nchars])\n",
    "        all_supported[f] = {*supported}\n",
    "\n",
    "print(''.join(sorted(list(set.intersection(*all_supported.values())))))"
   ]
  },
  {
   "cell_type": "code",
   "execution_count": 93,
   "id": "76b4c2c0-dbd7-4f7e-afda-84a3a3d9f288",
   "metadata": {
    "tags": []
   },
   "outputs": [
    {
     "name": "stdout",
     "output_type": "stream",
     "text": [
      "unicode data doesn't know the name of \n",
      "\n",
      "unicode data doesn't know the name of ﷾\n",
      "unicode data doesn't know the name of ﷿\n"
     ]
    }
   ],
   "source": [
    "import unicodedata\n",
    "\n",
    "# sort by frequency\n",
    "counter = defaultdict(lambda:0)\n",
    "for f,chrs in all_supported.items():\n",
    "    for c in chrs:\n",
    "        counter[c]+=1\n",
    "        \n",
    "# Also add in these characters scraped from historical code pages\n",
    "d = open('./fontdescription/codepagedump','r').readlines()\n",
    "for c in ''.join(d):\n",
    "    counter[c]+=1\n",
    "        \n",
    "keys    = sorted([*counter.keys()])\n",
    "order   = argsort(-array([counter[k] for k in keys]))\n",
    "\n",
    "maybe_support = set()\n",
    "for  k in array(keys)[order]:\n",
    "    if k in '﷽': continue\n",
    "    try:\n",
    "        n = unicodedata.name(k)\n",
    "    except:\n",
    "        print('unicode data doesn\\'t know the name of',k)\n",
    "    if 'ETHIOPIC' in n: continue\n",
    "    if 'HEBREW' in n: continue\n",
    "    if 'ARABIC' in n: continue\n",
    "    d = unicodedata.bidirectional(k)\n",
    "    if d in ('R','AL','RLE','RLO','RLI'): continue # no right-to-left\n",
    "    #print('    '+k+'% 3d%%'%(100*counter[k]/len(all_supported)))\n",
    "    # Skip combining\n",
    "    c = unicodedata.category(k)\n",
    "    if c[0]=='M':\n",
    "        continue\n",
    "    maybe_support.add(k)"
   ]
  },
  {
   "cell_type": "code",
   "execution_count": 94,
   "id": "97a700b2-4d63-4b75-aa8b-6b50d024e1e2",
   "metadata": {},
   "outputs": [],
   "source": [
    "\n",
    "maybe_support -= {*'\\n\\r\\t'}"
   ]
  },
  {
   "cell_type": "code",
   "execution_count": 95,
   "id": "74def303-5a80-4e61-9348-81a53259fa89",
   "metadata": {
    "tags": []
   },
   "outputs": [
    {
     "name": "stdout",
     "output_type": "stream",
     "text": [
      " !\"#$%&'()*+,-./0123456789:;<=>?@ABCDEFG\n",
      "HIJKLMNOPQRSTUVWXYZ[\\]^_`abcdefghijklmno\n",
      "pqrstuvwxyz{|}~ ¡¢£¤¥¦§¨©ª«¬­®¯°±²³´µ¶·¸\n",
      "¹º»¼½¾¿ÀÁÂÃÄÅÆÇÈÉÊËÌÍÎÏÐÑÒÓÔÕÖ×ØÙÚÛÜÝÞßà\n",
      "áâãäåæçèéêëìíîïðñòóôõö÷øùúûüýþÿĀāĂăĄąĆćĈ\n",
      "ĉĊċČčĎďĐđĒēĔĕĖėĘęĚěĜĝĞğĠġĢģĤĥĦħĨĩĪīĮįİıĲ\n",
      "ĳĴĵĶķĸĹĺĻļĽľĿŀŁłŃńŅņŇňŉŊŋŌōŎŏŐőŒœŔŕŖŗŘřŚ\n",
      "śŜŝŞşŠšŢţŤťŦŧŨũŪūŬŭŮůŰűŲųŴŵŶŷŸŹźŻżŽžſƒƠơ\n",
      "ƯưƷǅǈǋǎǔǞǟǠǡǢǣǤǥǦǧǨǩǪǫǬǭǮǯǴǵǸǹǾǿȘșȚțȞȟɑɒ\n",
      "ɔəɛɜɡɪʃʊʌʒʟʲʼʽʾˆˇˈˉˋˌː˘˙˚˛˜˝ˮͺ΄΅ΆΈΉΊΌΎΏΐ\n",
      "ΑΒΓΔΕΖΗΘΙΚΛΜΝΞΟΠΡΣΤΥΦΧΨΩΪΫάέήίΰαβγδεζηθι\n",
      "κλμνξοπρςστυφχψωϊϋόύώϑϒϕϖϳϴЀЁЂЃЄЅІЇЈЉЊЋЌ\n",
      "ЍЎЏАБВГДЕЖЗИЙКЛМНОПРСТУФХЦЧШЩЪЫЬЭЮЯабвгд\n",
      "ежзийклмнопрстуфхцчшщъыьэюяѐёђѓєѕіїјљњћќ\n",
      "ѝўџҊҋҌҍҎҏҐґҒғҔҕҖҗҘҙҚқҜҝҞҟҠҡҢңҤҥҦҧҨҩҪҫҬҭҮ\n",
      "үҰұҲҳҴҵҶҷҸҹҺһҼҽҾҿӅӆӇӈӉӊӍӎӐӑӒӓӖӗӘәӜӝӞӟӢӣӤ\n",
      "ӥӦӧӨөӬӭӮӯӰӱӲӳӴӵӸӹԱԲԳԴԵԶԷԸԹԺԻԼԽԾԿՀՁՂՃՄՅՆՇ\n",
      "ՈՉՊՋՌՍՎՏՐՑՒՓՔՕՖ՚՛՜՝՞աբգդեզէըթժիլխծկհձղճմ\n",
      "յնշոչպջռսվտրցւփքօֆև։֊अआइईउऊऋऌऍऎएऐऑऒओऔकखग\n",
      "घङचछजझञटठडढणतथदधनऩपफबभमयरऱलळऴवशषसहऽॐॠॡ।०\n",
      "१२३४५६७८९বলਕਜਪਬகകമയലളกขฃคฅฆงจฉชซฌญฎฏฐฑฒณ\n",
      "ดตถทธนบปผฝพฟภมยรฤลฦวศษสหฬอฮฯะาำ฿เแโใไๅๆ๏\n",
      "๐๑๒๓๔๕๖๗๘๙๚๛ກຂຄງຈຊຍດຕຖທນບປຜຝພຟມຢຣລວສຫອຮຯ\n",
      "ະາຳຽເແໂໃໄໆ໐໑໒໓໔໕໖໗໘໙ໜໝაბგდევზთიკლმნოპჟრს\n",
      "ტუფქღყშჩცძწჭხჯჰჱჲჳჴჵჶ჻ᵏᵢḂḃḄḅḊḋḌḍḞḟḤḥḰḱḲḳ\n",
      "ḶḷḾḿṀṁṂṃṆṇṔṕṖṗṚṛṠṡṢṣṪṫṬṭṼṽṾṿẀẁẂẃẄẅẈẉẒẓẞẠ\n",
      "ạẢảẤấẦầẨẩẪẫẬậẮắẰằẲẳẴẵẶặẸẹẺẻẼẽẾếỀềỂểỄễỆệỈ\n",
      "ỉỊịỌọỎỏỐốỒồỔổỖỗỘộỚớỜờỞởỠỡỢợỤụỦủỨứỪừỬửỮữỰ\n",
      "ựỲỳỴỵỶỷỸỹ           ‌‍‐‑‒–—―‖‗‘’‚‛“”„‟†‡\n",
      "•‥… ‰′″‴‵‶‹›※‼‾⁄⁰ⁱ⁴⁵⁶⁷⁸⁹⁺⁻⁼ⁿ₀₁₂₃₄₅₆₇₈₉₠₤\n",
      "₧₩₪₫€₭₮₯℃℉ℑℓ№℘ℜ℞℡™ΩKÅℵ⅓⅔⅛⅜⅝⅞ⅠⅡⅢⅣⅤⅥⅦⅧⅨⅩⅪⅫ\n",
      "ⅰⅱⅲⅳⅴⅵⅶⅷⅸⅹ←↑→↓↔↕↖↗↘↙↨↵↹⇐⇑⇒⇓⇔⇕⇦⇧⇨⇩∀∂∃∅∆∇∈\n",
      "∉∊∋∍∏∑−∓∕∘∙√∝∞∟∠∡∥∧∨∩∪∫∬∮∴∵∷∼∽∿≃≅≈≒≠≡≤≥≦\n",
      "≧≪≫⊂⊃⊄⊆⊇⊕⊖⊗⊘⊙⊛⊜⊤⊥⊦⊿⋂⋅⋮⋱⋶⌀⌂⌈⌊⌋⌐⌑⌒⌘⌙⌠⌡〈〉⌶⌷\n",
      "⌹⌻⌽⌿⍀⍁⍂⍉⍋⍎⍒⍕⍙⍚⍝⍞⍟⍫⍱⍲⍳⍴⍵⍷⍸⍺⎕⎛⎜⎝⎞⎟⎠⎡⎢⎣⎤⎥⎦⎧\n",
      "⎨⎩⎪⎫⎬⎭⎮⎯⎰⎱⎲⎳⎺⎻⎼⎽⏐␀␁␂␃␄␅␆␇␈␉␊␋␌␍␎␏␐␑␒␓␔␕␖\n",
      "␗␘␙␚␛␜␝␞␟␠␡␢␤①②③④⑤⑥⑦⑧⑨⑩⑪⑫⑬⑭⑮⑯⑰⑱⑲⑳⑴⑵⑶⑷⑸⑹⑺\n",
      "⑻⑼⑽⑾⑿⒀⒁⒂⒃⒄⒅⒆⒇⒜⒝⒞⒟⒠⒡⒢⒣⒤⒥⒦⒧⒨⒩⒪⒫⒬⒭⒮⒯⒰⒱⒲⒳⒴⒵Ⓐ\n",
      "ⒷⒸⒹⒺⒻⒼⒽⒾⒿⓀⓁⓂⓃⓄⓅⓆⓇⓈⓉⓊⓋⓌⓍⓎⓏⓐⓑⓒⓓⓔⓕⓖⓗⓘⓙⓚⓛⓜⓝⓞ\n",
      "ⓟⓠⓡⓢⓣⓤⓥⓦⓧⓨⓩ⓪⓫⓬⓭⓮⓯⓰⓱⓲⓳⓴─━│┃┌┍┎┏┐┑┒┓└┕┖┗┘┙\n",
      "┚┛├┝┞┟┠┡┢┣┤┥┦┧┨┩┪┫┬┭┮┯┰┱┲┳┴┵┶┷┸┹┺┻┼┽┾┿╀╁\n",
      "╂╃╄╅╆╇╈╉╊╋═║╒╓╔╕╖╗╘╙╚╛╜╝╞╟╠╡╢╣╤╥╦╧╨╩╪╫╬╴\n",
      "╵╶╷╸╹╺╻╼╽╾╿▀▄█▌▐░▒▓■□▣▤▥▦▧▨▩▬▮▲△▴▶▷▸►▼▽▾\n",
      "◀◁◂◄◆◇◈◉◊○◌◎●◐◑◘◙◯★☆☎☏☜☞☺☻☼♀♂♠♡♣♤♥♦♧♨♩♪♫\n",
      "♬♭♯✓❊❖❶❷❸❹❺❻❼❽❾❿⟨⟩⧻⯒ⱼ⺁⺄⺈⺋⺌⺗⺧⺪　、。〃々〆〇〈〉《》\n",
      "「」『』【】〒〓〔〕〜〝〞〟〾〿ぁあぃいぅうぇえぉおかがきぎくぐけげこごさざしじ\n",
      "すずせぜそぞただちぢっつづてでとどなにぬねのはばぱひびぴふぶぷへべぺほぼぽまみむ\n",
      "めもゃやゅゆょよらりるれろゎわゐゑをん゛゜ゝゞァアィイゥウェエォオカガキギクグケ\n",
      "ゲコゴサザシジスズセゼソゾタダチヂッツヅテデトドナニヌネノハバパヒビピフブプヘベ\n",
      "ペホボポマミムメモャヤュユョヨラリルレロヮワヰヱヲンヴヵヶ・ーヽヾ㈱㈲㈹㉑㉒㉓㉔\n",
      "㉕㉖㉗㉘㉙㉚㉿㊤㊥㊦㊧㊨ﬁﬂ﷾﷿︐︑︒︓︔︕︖︗︘︙﹋！＂＃＄％＆＇（）＊＋，－\n",
      "．／０１２３４５６７８９：；＜＝＞？＠ＡＢＣＤＥＦＧＨＩＪＫＬＭＮＯＰＱＲＳＴＵ\n",
      "ＶＷＸＹＺ［＼］＾＿｀ａｂｃｄｅｆｇｈｉｊｋｌｍｎｏｐｑｒｓｔｕｖｗｘｙｚ｛｜｝\n",
      "～｡｢｣､･ｦｧｨｩｪｫｬｭｮｯｰｱｲｳｴｵｶｷｸｹｺｻｼｽｾｿﾀﾁﾂﾃﾄﾅﾆﾇ\n",
      "ﾈﾉﾊﾋﾌﾍﾎﾏﾐﾑﾒﾓﾔﾕﾖﾗﾘﾙﾚﾛﾜﾝﾞﾟ￠￡￢￣￥￦￨￩￪￫￬￭￮�𐐷𝄞\n",
      "𝐴𝐵𝐶𝐷𝐸𝐹𝐺𝐻𝐼𝐽𝐾𝐿𝑀𝑁𝑂𝑃𝑄𝑅𝑆𝑇𝑈𝑉𝑊𝑋𝑌𝑍𝜙🍎🏼🔔🠩🤦"
     ]
    }
   ],
   "source": [
    "j=0\n",
    "for i in sorted(list({ord(c) for c in maybe_support})):\n",
    "    print(chr(i),end='')\n",
    "    if j%40==39:\n",
    "        print('')\n",
    "    j+=1"
   ]
  },
  {
   "cell_type": "code",
   "execution_count": null,
   "id": "822cbb09-960f-4f91-8ca4-cb945a71f22e",
   "metadata": {},
   "outputs": [],
   "source": []
  }
 ],
 "metadata": {
  "kernelspec": {
   "display_name": "Python 3 (ipykernel)",
   "language": "python",
   "name": "python3"
  },
  "language_info": {
   "codemirror_mode": {
    "name": "ipython",
    "version": 3
   },
   "file_extension": ".py",
   "mimetype": "text/x-python",
   "name": "python",
   "nbconvert_exporter": "python",
   "pygments_lexer": "ipython3",
   "version": "3.8.10"
  }
 },
 "nbformat": 4,
 "nbformat_minor": 5
}
