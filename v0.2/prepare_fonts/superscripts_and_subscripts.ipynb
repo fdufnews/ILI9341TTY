{
 "cells": [
  {
   "cell_type": "code",
   "execution_count": 1,
   "id": "204b9ede-38cd-4706-80aa-d7675b86f32b",
   "metadata": {},
   "outputs": [],
   "source": [
    "%matplotlib inline\n",
    "%load_ext autoreload\n",
    "%autoreload 2"
   ]
  },
  {
   "cell_type": "code",
   "execution_count": 56,
   "id": "7830cd45-5fca-478e-a750-e97d0fb8495c",
   "metadata": {},
   "outputs": [],
   "source": [
    "s=('²³¹ʰʱʲʳʴʵʶʷʸˀˁˠˡˢˣˤჼᐜᐝᐞᐟᐠᐡᐢᐣᐤᐥᐦᐧᐨᐩᐪᑉᑊᑋᒃᒄᒡᒢᒻᒼᒽᒾᓐᓑᓒᓪᓫᔅᔆᔇᔈᔉᔊᔋᔥᔾᔿᕀᕁᕐᕑᕝᕪᕯᕻᕽᖅᖕᖖᖟᖦᖮᗮᘁ'\n",
    "   'ᙆᙇᙾᙿᣔᣕᣖᣗᣘᣙᣚᣛᣜᣝᣞᣟᣳᣴᣵ\\u1abf\\u1ac0ᴬᴭᴮᴯᴰᴱᴲᴳᴴᴵ'\n",
    "   'ᴶᴷᴸᴹᴺᴻᴼᴾᴿᵀᵁᵂᵃᵄᵅᵆᵇᵈᵉᵊᵋᵌᵍᵎᵏᵐᵑᵒᵓᵔᵕᵖᵗᵘᵙᵚᵛᵜᵝᵞᵟᵠᵡᵢᵣᵤᵥᵦᵧᵨᵩᵪᵸᶛᶜᶝᶞᶟᶠᶡᶢᶣᶤᶥᶦᶧᶨᶩᶪᶫᶬᶭᶮᶯᶰᶱᶲᶳ'\n",
    "   'ᶴᶵᶶᶷᶸᶹᶺᶻᶼᶽᶾᶿ᷊ᷓᷔᷕᷖᷗᷘᷙᷚᷛᷜᷝᷞᷟᷠᷡᷢᷣᷤᷥᷦᷧᷨᷩᷪᷫᷬᷭᷮᷯᷰᷱᷲᷳᷴ⁄⁰ⁱ⁴⁵⁶⁷⁸⁹⁺⁻⁼⁽⁾ⁿ₀₁₂₃₄₅₆₇₈₉₊₋₌₍₎ₐₑₒₓₔₕₖₗₘₙₚₛₜ℠™'\n",
    "   '⏨ⱼⱽⵯⷠⷡⷢⷣⷤⷥⷦⷧⷨⷩⷪⷫⷬⷭⷮⷯⷰⷱⷲⷳⷴⷵⷶⷷⷸⷹⷺⷻⷼⷽⷾⷿꚜꚝꚞꚟꝰ\\ua7f2\\ua7f3\\ua7f4ꟸꟹꭜꭝꭞꭟ'\n",
    "   '\\uab69\\U00010783\\U00010784\\U00010792\\U00010796\\U000107a5\\U000107aa\\U000107b2')"
   ]
  },
  {
   "cell_type": "markdown",
   "id": "a3429ec1-7aed-4133-aa2f-51d1d7d9696d",
   "metadata": {},
   "source": [
    "'ᕯᣳᒾ\n",
    "ᴬᴭᴮᴯᣘᴰᴱᴲᴳᴴᵸꟸᴵᶦᶧᴶᒢᒡᣗᴷᴸᒻᶫᒽᴹᴺᶰᴻᴼᴾᴿʶᔆᵀᵁᓑᣕⱽᘁᣔᵂᙆᙇ\n",
    "\n",
    "ᵃᵄᵅᶛᵆᵇᒃᵝᶜᒼᵓᐣᶝᵞᵡᵈᒄᶞᵟᵉᵊᵋᵌᶟᶠᵠᶲᵍᶢʰᑋʱꭜᶣᶥᶤᵎʲᶨᶡᵏˡᶩᶪꭝꭞᵐᶬᵚᐜᶭᶮᶯᵑᐤᵒꟹᶷᵖᣖᣴʳʴʵˢᣵᶳᶴᵗᶵᶿᶱᵘᶸꭟᶶᵙᶹᵛᶺʷᕽᕁˣʸᶻᶼᶽᶾ\n",
    "\n",
    "ⵯꚜꚝꝰ'ᑊˀᐞˠჼᐝᐟᐠᐡᐢᐥᐦᑉᓐᓒᓪᓫᔅᔇᔈᔉᔊᔋᔥᔾᔿᕑᕝᕪᕻᖅᖕᖖᖟᖦᖮᙿᣙᣚᣛᣜᣝᣞᣟᵔᵕᵜᙾᐧᐨᐩᕀᐪᗮˁˤᕐ\n",
    "\n",
    "\n",
    "\n",
    "ᵣᵤᵥᵦᵧᵨᵩᵪₐₑₒₓₔₕₖₗₘₚₛₜⱼ"
   ]
  },
  {
   "cell_type": "code",
   "execution_count": 83,
   "id": "0adc351e-2c3c-4463-ba7a-18d724d09c08",
   "metadata": {},
   "outputs": [],
   "source": [
    "aliases = '''ˁˤᕐ\n",
    "ᕯ\n",
    "ᣳ¹\n",
    "ᒾ²\n",
    "ꝰ⁹\n",
    "ᙾ⁼\n",
    "ᐩᕀ⁺\n",
    "ᑊ''\n",
    "ᐦ\"\n",
    "ᐨ¯\n",
    "ᴴᵸ\n",
    "ᴵᶦ\n",
    "ᴶᒢ\n",
    "ᴸᒻᶫ\n",
    "ᴺᶰ\n",
    "ᵁᓑ\n",
    "ⱽᘁ\n",
    "ᵇᒃ\n",
    "ᶜᒼ\n",
    "ᵓᐣ\n",
    "ᵈᒄ\n",
    "ᶞᵟ\n",
    "ᵌᶟ\n",
    "ᵠᶲ\n",
    "ᵍᶢ\n",
    "ʰᑋ\n",
    "ˡᶩ\n",
    "ꭝꭞ\n",
    "ᐤᵒ\n",
    "ᵖᣖ\n",
    "ᣴʳ\n",
    "ˢᣵ\n",
    "ᶿᶱ\n",
    "ᵘᶸꭟ\n",
    "ʷᐜᵚ\n",
    "ᕽᕁˣ'''.split('\\n')\n",
    "aliases = [''.join(sorted(list(l))) for l in aliases]\n",
    "alias_map = {c:l[0] for l in aliases for c in l}\n",
    "\n",
    "\n",
    "paired='''ᵣʳ\n",
    "ᵤᵘ\n",
    "ᵥᵛ\n",
    "ᵦᵝ\n",
    "ᵧᵞ\n",
    "ᵨᣖ\n",
    "ᵩᵠ\n",
    "ᵪᵡ\n",
    "ₐᵃ\n",
    "ₑᵉ\n",
    "ₒᵒ\n",
    "ₓˣ\n",
    "ₔᵊ\n",
    "ₕʰ\n",
    "ₖᵏ\n",
    "ₗˡ\n",
    "ₘᵐ\n",
    "ₚᵖ\n",
    "ₛˢ\n",
    "ₜᵗ\n",
    "ⱼʲ'''"
   ]
  },
  {
   "cell_type": "code",
   "execution_count": 94,
   "id": "5262a455-6afe-47bb-8bf1-df64f59f4c82",
   "metadata": {},
   "outputs": [
    {
     "name": "stdout",
     "output_type": "stream",
     "text": [
      "ᵢᵣᵤᵥᵦᵧᵩᵪ₀₁₂₃₄₅₆₇₈₉₊₋₌₍₎ₐₑₒₓₔₕₖₗₘₙₚₛₜⱼ\n",
      "ⁱʳᵘᵛᵝˠᶲᵡ⁰¹²³⁴⁵⁶⁷⁸⁹⁺⁻⁼⁽⁾ᵃᵉᵒˣᵊʰᵏˡᵐⁿᵖˢᵗʲ\n"
     ]
    }
   ],
   "source": [
    "import unicodedata\n",
    "from collections import defaultdict\n",
    "sub = defaultdict(list)\n",
    "sup = defaultdict(list)\n",
    "other = defaultdict(list)\n",
    "for c in s:\n",
    "    #if c!=alias_map.get(c,c): continue\n",
    "    try:\n",
    "        if unicodedata.combining(c)==230: continue\n",
    "        n = unicodedata.name(c)\n",
    "        n = n.replace('LATIN ','')\n",
    "        n = n.replace('FINAL ','')\n",
    "        n = n.replace('LETTER ','')\n",
    "        if 'SUBSCRIPT '   in n:\n",
    "            sub[n.split('SUBSCRIPT ')[-1]]+=[c]\n",
    "        elif 'CANADIAN SYLLABICS ' in n:\n",
    "            sup[n.split('CANADIAN SYLLABICS ')[-1]]+=[c]\n",
    "        elif 'SUPERSCRIPT ' in n:\n",
    "            sup[n.split('SUPERSCRIPT ')[-1]]+=[c]\n",
    "        elif 'MODIFIER ' in n:\n",
    "            sup[n.split('MODIFIER ')[-1]]+=[c]\n",
    "        else:\n",
    "            other[n]=c\n",
    "        #print(c,n,unicodedata.category(c))\n",
    "    except:\n",
    "        pass\n",
    "submatch = ''\n",
    "supmatch = ''\n",
    "sub_only = {}\n",
    "for k,v in sub.items():\n",
    "    if k in sup:\n",
    "        submatch+=v[0]\n",
    "        supmatch+=sup[k][0]\n",
    "        #print(k,v,sup[k])\n",
    "    else:\n",
    "        sub_only[k]=v\n",
    "sup_only = {}\n",
    "for k,v in sup.items():\n",
    "    if not k in sub:\n",
    "        sup_only[k]=v\n",
    "print(submatch)\n",
    "print(supmatch)"
   ]
  },
  {
   "cell_type": "code",
   "execution_count": 95,
   "id": "2ac8a9dd-ccde-4537-ad15-60ee18884782",
   "metadata": {},
   "outputs": [
    {
     "data": {
      "text/plain": [
       "37"
      ]
     },
     "execution_count": 95,
     "metadata": {},
     "output_type": "execute_result"
    }
   ],
   "source": [
    "len(submatch)"
   ]
  },
  {
   "cell_type": "code",
   "execution_count": 88,
   "id": "8839127c-54b8-41a0-a5c8-538db423eef4",
   "metadata": {
    "collapsed": true,
    "jupyter": {
     "outputs_hidden": true
    },
    "tags": []
   },
   "outputs": [
    {
     "name": "stdout",
     "output_type": "stream",
     "text": [
      "ᵣ ʳ\n",
      "LATIN SUBSCRIPT SMALL LETTER R MODIFIER LETTER SMALL R\n",
      "ᵤ ᵘ\n",
      "LATIN SUBSCRIPT SMALL LETTER U MODIFIER LETTER SMALL U\n",
      "ᵥ ᵛ\n",
      "LATIN SUBSCRIPT SMALL LETTER V MODIFIER LETTER SMALL V\n",
      "ᵦ ᵝ\n",
      "GREEK SUBSCRIPT SMALL LETTER BETA MODIFIER LETTER SMALL BETA\n",
      "ᵧ ᵞ\n",
      "GREEK SUBSCRIPT SMALL LETTER GAMMA MODIFIER LETTER SMALL GREEK GAMMA\n",
      "ᵨ ᣖ\n",
      "GREEK SUBSCRIPT SMALL LETTER RHO CANADIAN SYLLABICS OJIBWAY K\n",
      "ᵩ ᵠ\n",
      "GREEK SUBSCRIPT SMALL LETTER PHI MODIFIER LETTER SMALL GREEK PHI\n",
      "ᵪ ᵡ\n",
      "GREEK SUBSCRIPT SMALL LETTER CHI MODIFIER LETTER SMALL CHI\n",
      "ₐ ᵃ\n",
      "LATIN SUBSCRIPT SMALL LETTER A MODIFIER LETTER SMALL A\n",
      "ₑ ᵉ\n",
      "LATIN SUBSCRIPT SMALL LETTER E MODIFIER LETTER SMALL E\n",
      "ₒ ᵒ\n",
      "LATIN SUBSCRIPT SMALL LETTER O MODIFIER LETTER SMALL O\n",
      "ₓ ˣ\n",
      "LATIN SUBSCRIPT SMALL LETTER X MODIFIER LETTER SMALL X\n",
      "ₔ ᵊ\n",
      "LATIN SUBSCRIPT SMALL LETTER SCHWA MODIFIER LETTER SMALL SCHWA\n",
      "ₕ ʰ\n",
      "LATIN SUBSCRIPT SMALL LETTER H MODIFIER LETTER SMALL H\n",
      "ₖ ᵏ\n",
      "LATIN SUBSCRIPT SMALL LETTER K MODIFIER LETTER SMALL K\n",
      "ₗ ˡ\n",
      "LATIN SUBSCRIPT SMALL LETTER L MODIFIER LETTER SMALL L\n",
      "ₘ ᵐ\n",
      "LATIN SUBSCRIPT SMALL LETTER M MODIFIER LETTER SMALL M\n",
      "ₚ ᵖ\n",
      "LATIN SUBSCRIPT SMALL LETTER P MODIFIER LETTER SMALL P\n",
      "ₛ ˢ\n",
      "LATIN SUBSCRIPT SMALL LETTER S MODIFIER LETTER SMALL S\n",
      "ₜ ᵗ\n",
      "LATIN SUBSCRIPT SMALL LETTER T MODIFIER LETTER SMALL T\n",
      "ⱼ ʲ\n",
      "LATIN SUBSCRIPT SMALL LETTER J MODIFIER LETTER SMALL J\n"
     ]
    }
   ],
   "source": [
    "for a,b in paired.split('\\n'):\n",
    "    print(a,b)\n",
    "    print(unicodedata.name(a),unicodedata.name(b))"
   ]
  },
  {
   "cell_type": "code",
   "execution_count": 89,
   "id": "442d7000-83f2-43ac-9c40-63b96ab96ab2",
   "metadata": {},
   "outputs": [
    {
     "data": {
      "text/plain": [
       "'ʱʴʵʶʷʸˀᐞˁˤჼᐜᐝᐟᐠᐡᐢᐣᐤᐥᐦᐧᐨᐩᐪᑉᑊᑋᒃᒄᒡᒢᒻᒼᒽᒾᓐᓑᓒᓪᓫᔅᔆᔇᔈᔉᔊᔋᔥᔾᔿᕀᕁᕐᕑᕝᕪᕯᕻᕽᖅᖕᖖᖟᙾᖦᖮᗮᘁᙆᙇᙿᣔᣕᣖᣗᣘᣙᣚᣛᣜᣝᣞᣟᣳᣴᣵᴬᴭᴮᴯᴰᴱᴲᴳᴴᴵᴶᴷᴸᴹᴺᴻᴼᴾᴿᵀᵁᵂᵄᵅᵆᵇᵈᵋᵌᵍᵎᵑᵓᵔᵕᵙᵚᵜᵞᵟᵠᵸᶛᶜᶝᶞᶟᶠᶡᶢᶣᶤᶥᶦᶧᶨᶩᶪᶫᶬᶭᶮᶯᶰᶱᶳᶴᶵᶶᶷᶸᶹᶺᶻᶼᶽᶾᶿⱽⵯꚜꚝꝰꟸꟹꭜꭝꭞꭟ'"
      ]
     },
     "execution_count": 89,
     "metadata": {},
     "output_type": "execute_result"
    }
   ],
   "source": [
    "''.join([''.join(v) for v in sup_only.values()])"
   ]
  },
  {
   "cell_type": "code",
   "execution_count": 90,
   "id": "02ef2e51-00cd-495f-91ad-101695213c3a",
   "metadata": {},
   "outputs": [
    {
     "data": {
      "text/plain": [
       "'ᵨ'"
      ]
     },
     "execution_count": 90,
     "metadata": {},
     "output_type": "execute_result"
    }
   ],
   "source": [
    "''.join([''.join(v) for v in sub_only.values()])"
   ]
  },
  {
   "cell_type": "code",
   "execution_count": null,
   "id": "1b519ab3-0350-46d2-af91-465b140cfe43",
   "metadata": {},
   "outputs": [],
   "source": []
  },
  {
   "cell_type": "code",
   "execution_count": 82,
   "id": "7305b545-1980-42fb-a11d-a16e3e41413a",
   "metadata": {},
   "outputs": [
    {
     "data": {
      "text/plain": [
       "defaultdict(list,\n",
       "            {'COMBINING SMALL LETTER R BELOW': '᷊',\n",
       "             'FRACTION SLASH': '⁄',\n",
       "             'SERVICE MARK': '℠',\n",
       "             'TRADE MARK SIGN': '™',\n",
       "             'DECIMAL EXPONENT SYMBOL': '⏨'})"
      ]
     },
     "execution_count": 82,
     "metadata": {},
     "output_type": "execute_result"
    }
   ],
   "source": [
    "other"
   ]
  },
  {
   "cell_type": "code",
   "execution_count": 50,
   "id": "9b0c5c65-50af-4a7e-9887-90746003ad6c",
   "metadata": {},
   "outputs": [
    {
     "data": {
      "text/plain": [
       "{}"
      ]
     },
     "execution_count": 50,
     "metadata": {},
     "output_type": "execute_result"
    }
   ],
   "source": [
    "sup_only"
   ]
  },
  {
   "cell_type": "code",
   "execution_count": null,
   "id": "a4161932-b36a-44a4-afd9-13fc3e9cf58d",
   "metadata": {},
   "outputs": [],
   "source": []
  }
 ],
 "metadata": {
  "kernelspec": {
   "display_name": "Python 3 (ipykernel)",
   "language": "python",
   "name": "python3"
  },
  "language_info": {
   "codemirror_mode": {
    "name": "ipython",
    "version": 3
   },
   "file_extension": ".py",
   "mimetype": "text/x-python",
   "name": "python",
   "nbconvert_exporter": "python",
   "pygments_lexer": "ipython3",
   "version": "3.8.10"
  }
 },
 "nbformat": 4,
 "nbformat_minor": 5
}
